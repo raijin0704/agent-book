{
  "cells": [
    {
      "cell_type": "markdown",
      "metadata": {
        "id": "yygvpPAodAua"
      },
      "source": [
        "# LangGraphで作るAIエージェント実践入門"
      ]
    },
    {
      "cell_type": "markdown",
      "metadata": {
        "id": "yHeNuLPzdAuc"
      },
      "source": [
        "## 9.3 ハンズオン：Q&Aアプリケーション"
      ]
    },
    {
      "cell_type": "code",
      "execution_count": 44,
      "metadata": {
        "id": "PwvLHOO8dAud",
        "outputId": "5125a93a-eb38-499c-e6b1-a3eca713e688",
        "colab": {
          "base_uri": "https://localhost:8080/"
        }
      },
      "outputs": [
        {
          "output_type": "stream",
          "name": "stdout",
          "text": [
            "Requirement already satisfied: langchain==0.3.0 in /usr/local/lib/python3.11/dist-packages (0.3.0)\n",
            "Requirement already satisfied: langchain_google_genai==2.0.9 in /usr/local/lib/python3.11/dist-packages (2.0.9)\n",
            "Requirement already satisfied: langgraph==0.2.22 in /usr/local/lib/python3.11/dist-packages (0.2.22)\n",
            "Requirement already satisfied: PyYAML>=5.3 in /usr/local/lib/python3.11/dist-packages (from langchain==0.3.0) (6.0.2)\n",
            "Requirement already satisfied: SQLAlchemy<3,>=1.4 in /usr/local/lib/python3.11/dist-packages (from langchain==0.3.0) (2.0.37)\n",
            "Requirement already satisfied: aiohttp<4.0.0,>=3.8.3 in /usr/local/lib/python3.11/dist-packages (from langchain==0.3.0) (3.11.11)\n",
            "Requirement already satisfied: langchain-core<0.4.0,>=0.3.0 in /usr/local/lib/python3.11/dist-packages (from langchain==0.3.0) (0.3.31)\n",
            "Requirement already satisfied: langchain-text-splitters<0.4.0,>=0.3.0 in /usr/local/lib/python3.11/dist-packages (from langchain==0.3.0) (0.3.5)\n",
            "Requirement already satisfied: langsmith<0.2.0,>=0.1.17 in /usr/local/lib/python3.11/dist-packages (from langchain==0.3.0) (0.1.147)\n",
            "Requirement already satisfied: numpy<2,>=1 in /usr/local/lib/python3.11/dist-packages (from langchain==0.3.0) (1.26.4)\n",
            "Requirement already satisfied: pydantic<3.0.0,>=2.7.4 in /usr/local/lib/python3.11/dist-packages (from langchain==0.3.0) (2.10.5)\n",
            "Requirement already satisfied: requests<3,>=2 in /usr/local/lib/python3.11/dist-packages (from langchain==0.3.0) (2.32.3)\n",
            "Requirement already satisfied: tenacity!=8.4.0,<9.0.0,>=8.1.0 in /usr/local/lib/python3.11/dist-packages (from langchain==0.3.0) (8.5.0)\n",
            "Requirement already satisfied: filetype<2.0.0,>=1.2.0 in /usr/local/lib/python3.11/dist-packages (from langchain_google_genai==2.0.9) (1.2.0)\n",
            "Requirement already satisfied: google-generativeai<0.9.0,>=0.8.0 in /usr/local/lib/python3.11/dist-packages (from langchain_google_genai==2.0.9) (0.8.4)\n",
            "Requirement already satisfied: langgraph-checkpoint<2.0.0,>=1.0.2 in /usr/local/lib/python3.11/dist-packages (from langgraph==0.2.22) (1.0.12)\n",
            "Requirement already satisfied: aiohappyeyeballs>=2.3.0 in /usr/local/lib/python3.11/dist-packages (from aiohttp<4.0.0,>=3.8.3->langchain==0.3.0) (2.4.4)\n",
            "Requirement already satisfied: aiosignal>=1.1.2 in /usr/local/lib/python3.11/dist-packages (from aiohttp<4.0.0,>=3.8.3->langchain==0.3.0) (1.3.2)\n",
            "Requirement already satisfied: attrs>=17.3.0 in /usr/local/lib/python3.11/dist-packages (from aiohttp<4.0.0,>=3.8.3->langchain==0.3.0) (24.3.0)\n",
            "Requirement already satisfied: frozenlist>=1.1.1 in /usr/local/lib/python3.11/dist-packages (from aiohttp<4.0.0,>=3.8.3->langchain==0.3.0) (1.5.0)\n",
            "Requirement already satisfied: multidict<7.0,>=4.5 in /usr/local/lib/python3.11/dist-packages (from aiohttp<4.0.0,>=3.8.3->langchain==0.3.0) (6.1.0)\n",
            "Requirement already satisfied: propcache>=0.2.0 in /usr/local/lib/python3.11/dist-packages (from aiohttp<4.0.0,>=3.8.3->langchain==0.3.0) (0.2.1)\n",
            "Requirement already satisfied: yarl<2.0,>=1.17.0 in /usr/local/lib/python3.11/dist-packages (from aiohttp<4.0.0,>=3.8.3->langchain==0.3.0) (1.18.3)\n",
            "Requirement already satisfied: google-ai-generativelanguage==0.6.15 in /usr/local/lib/python3.11/dist-packages (from google-generativeai<0.9.0,>=0.8.0->langchain_google_genai==2.0.9) (0.6.15)\n",
            "Requirement already satisfied: google-api-core in /usr/local/lib/python3.11/dist-packages (from google-generativeai<0.9.0,>=0.8.0->langchain_google_genai==2.0.9) (2.19.2)\n",
            "Requirement already satisfied: google-api-python-client in /usr/local/lib/python3.11/dist-packages (from google-generativeai<0.9.0,>=0.8.0->langchain_google_genai==2.0.9) (2.155.0)\n",
            "Requirement already satisfied: google-auth>=2.15.0 in /usr/local/lib/python3.11/dist-packages (from google-generativeai<0.9.0,>=0.8.0->langchain_google_genai==2.0.9) (2.27.0)\n",
            "Requirement already satisfied: protobuf in /usr/local/lib/python3.11/dist-packages (from google-generativeai<0.9.0,>=0.8.0->langchain_google_genai==2.0.9) (4.25.5)\n",
            "Requirement already satisfied: tqdm in /usr/local/lib/python3.11/dist-packages (from google-generativeai<0.9.0,>=0.8.0->langchain_google_genai==2.0.9) (4.67.1)\n",
            "Requirement already satisfied: typing-extensions in /usr/local/lib/python3.11/dist-packages (from google-generativeai<0.9.0,>=0.8.0->langchain_google_genai==2.0.9) (4.12.2)\n",
            "Requirement already satisfied: proto-plus<2.0.0dev,>=1.22.3 in /usr/local/lib/python3.11/dist-packages (from google-ai-generativelanguage==0.6.15->google-generativeai<0.9.0,>=0.8.0->langchain_google_genai==2.0.9) (1.25.0)\n",
            "Requirement already satisfied: jsonpatch<2.0,>=1.33 in /usr/local/lib/python3.11/dist-packages (from langchain-core<0.4.0,>=0.3.0->langchain==0.3.0) (1.33)\n",
            "Requirement already satisfied: packaging<25,>=23.2 in /usr/local/lib/python3.11/dist-packages (from langchain-core<0.4.0,>=0.3.0->langchain==0.3.0) (24.2)\n",
            "Requirement already satisfied: msgpack<2.0.0,>=1.1.0 in /usr/local/lib/python3.11/dist-packages (from langgraph-checkpoint<2.0.0,>=1.0.2->langgraph==0.2.22) (1.1.0)\n",
            "Requirement already satisfied: httpx<1,>=0.23.0 in /usr/local/lib/python3.11/dist-packages (from langsmith<0.2.0,>=0.1.17->langchain==0.3.0) (0.28.1)\n",
            "Requirement already satisfied: orjson<4.0.0,>=3.9.14 in /usr/local/lib/python3.11/dist-packages (from langsmith<0.2.0,>=0.1.17->langchain==0.3.0) (3.10.15)\n",
            "Requirement already satisfied: requests-toolbelt<2.0.0,>=1.0.0 in /usr/local/lib/python3.11/dist-packages (from langsmith<0.2.0,>=0.1.17->langchain==0.3.0) (1.0.0)\n",
            "Requirement already satisfied: annotated-types>=0.6.0 in /usr/local/lib/python3.11/dist-packages (from pydantic<3.0.0,>=2.7.4->langchain==0.3.0) (0.7.0)\n",
            "Requirement already satisfied: pydantic-core==2.27.2 in /usr/local/lib/python3.11/dist-packages (from pydantic<3.0.0,>=2.7.4->langchain==0.3.0) (2.27.2)\n",
            "Requirement already satisfied: charset-normalizer<4,>=2 in /usr/local/lib/python3.11/dist-packages (from requests<3,>=2->langchain==0.3.0) (3.4.1)\n",
            "Requirement already satisfied: idna<4,>=2.5 in /usr/local/lib/python3.11/dist-packages (from requests<3,>=2->langchain==0.3.0) (3.10)\n",
            "Requirement already satisfied: urllib3<3,>=1.21.1 in /usr/local/lib/python3.11/dist-packages (from requests<3,>=2->langchain==0.3.0) (2.3.0)\n",
            "Requirement already satisfied: certifi>=2017.4.17 in /usr/local/lib/python3.11/dist-packages (from requests<3,>=2->langchain==0.3.0) (2024.12.14)\n",
            "Requirement already satisfied: greenlet!=0.4.17 in /usr/local/lib/python3.11/dist-packages (from SQLAlchemy<3,>=1.4->langchain==0.3.0) (3.1.1)\n",
            "Requirement already satisfied: googleapis-common-protos<2.0.dev0,>=1.56.2 in /usr/local/lib/python3.11/dist-packages (from google-api-core->google-generativeai<0.9.0,>=0.8.0->langchain_google_genai==2.0.9) (1.66.0)\n",
            "Requirement already satisfied: cachetools<6.0,>=2.0.0 in /usr/local/lib/python3.11/dist-packages (from google-auth>=2.15.0->google-generativeai<0.9.0,>=0.8.0->langchain_google_genai==2.0.9) (5.5.1)\n",
            "Requirement already satisfied: pyasn1-modules>=0.2.1 in /usr/local/lib/python3.11/dist-packages (from google-auth>=2.15.0->google-generativeai<0.9.0,>=0.8.0->langchain_google_genai==2.0.9) (0.4.1)\n",
            "Requirement already satisfied: rsa<5,>=3.1.4 in /usr/local/lib/python3.11/dist-packages (from google-auth>=2.15.0->google-generativeai<0.9.0,>=0.8.0->langchain_google_genai==2.0.9) (4.9)\n",
            "Requirement already satisfied: anyio in /usr/local/lib/python3.11/dist-packages (from httpx<1,>=0.23.0->langsmith<0.2.0,>=0.1.17->langchain==0.3.0) (3.7.1)\n",
            "Requirement already satisfied: httpcore==1.* in /usr/local/lib/python3.11/dist-packages (from httpx<1,>=0.23.0->langsmith<0.2.0,>=0.1.17->langchain==0.3.0) (1.0.7)\n",
            "Requirement already satisfied: h11<0.15,>=0.13 in /usr/local/lib/python3.11/dist-packages (from httpcore==1.*->httpx<1,>=0.23.0->langsmith<0.2.0,>=0.1.17->langchain==0.3.0) (0.14.0)\n",
            "Requirement already satisfied: jsonpointer>=1.9 in /usr/local/lib/python3.11/dist-packages (from jsonpatch<2.0,>=1.33->langchain-core<0.4.0,>=0.3.0->langchain==0.3.0) (3.0.0)\n",
            "Requirement already satisfied: httplib2<1.dev0,>=0.19.0 in /usr/local/lib/python3.11/dist-packages (from google-api-python-client->google-generativeai<0.9.0,>=0.8.0->langchain_google_genai==2.0.9) (0.22.0)\n",
            "Requirement already satisfied: google-auth-httplib2<1.0.0,>=0.2.0 in /usr/local/lib/python3.11/dist-packages (from google-api-python-client->google-generativeai<0.9.0,>=0.8.0->langchain_google_genai==2.0.9) (0.2.0)\n",
            "Requirement already satisfied: uritemplate<5,>=3.0.1 in /usr/local/lib/python3.11/dist-packages (from google-api-python-client->google-generativeai<0.9.0,>=0.8.0->langchain_google_genai==2.0.9) (4.1.1)\n",
            "Requirement already satisfied: grpcio<2.0dev,>=1.33.2 in /usr/local/lib/python3.11/dist-packages (from google-api-core[grpc]!=2.0.*,!=2.1.*,!=2.10.*,!=2.2.*,!=2.3.*,!=2.4.*,!=2.5.*,!=2.6.*,!=2.7.*,!=2.8.*,!=2.9.*,<3.0.0dev,>=1.34.1->google-ai-generativelanguage==0.6.15->google-generativeai<0.9.0,>=0.8.0->langchain_google_genai==2.0.9) (1.69.0)\n",
            "Requirement already satisfied: grpcio-status<2.0.dev0,>=1.33.2 in /usr/local/lib/python3.11/dist-packages (from google-api-core[grpc]!=2.0.*,!=2.1.*,!=2.10.*,!=2.2.*,!=2.3.*,!=2.4.*,!=2.5.*,!=2.6.*,!=2.7.*,!=2.8.*,!=2.9.*,<3.0.0dev,>=1.34.1->google-ai-generativelanguage==0.6.15->google-generativeai<0.9.0,>=0.8.0->langchain_google_genai==2.0.9) (1.62.3)\n",
            "Requirement already satisfied: pyparsing!=3.0.0,!=3.0.1,!=3.0.2,!=3.0.3,<4,>=2.4.2 in /usr/local/lib/python3.11/dist-packages (from httplib2<1.dev0,>=0.19.0->google-api-python-client->google-generativeai<0.9.0,>=0.8.0->langchain_google_genai==2.0.9) (3.2.1)\n",
            "Requirement already satisfied: pyasn1<0.7.0,>=0.4.6 in /usr/local/lib/python3.11/dist-packages (from pyasn1-modules>=0.2.1->google-auth>=2.15.0->google-generativeai<0.9.0,>=0.8.0->langchain_google_genai==2.0.9) (0.6.1)\n",
            "Requirement already satisfied: sniffio>=1.1 in /usr/local/lib/python3.11/dist-packages (from anyio->httpx<1,>=0.23.0->langsmith<0.2.0,>=0.1.17->langchain==0.3.0) (1.3.1)\n"
          ]
        }
      ],
      "source": [
        "# !pip install langchain==0.3.0 langchain-openai==0.2.0 langgraph==0.2.22\n",
        "!pip install langchain==0.3.0 langchain_google_genai==2.0.9 langgraph==0.2.22"
      ]
    },
    {
      "cell_type": "code",
      "execution_count": 45,
      "metadata": {
        "id": "7tr1LjgNdAue"
      },
      "outputs": [],
      "source": [
        "import os\n",
        "from google.colab import userdata\n",
        "\n",
        "os.environ[\"GOOGLE_API_KEY\"] = userdata.get(\"GOOGLE_API_KEY\")\n",
        "os.environ[\"LANGCHAIN_TRACING_V2\"] = \"true\"\n",
        "os.environ[\"LANGCHAIN_ENDPOINT\"] = \"https://api.smith.langchain.com\"\n",
        "os.environ[\"LANGCHAIN_API_KEY\"] = userdata.get(\"LANGCHAIN_API_KEY\")\n",
        "os.environ[\"LANGCHAIN_PROJECT\"] = \"agent-book\""
      ]
    },
    {
      "cell_type": "code",
      "execution_count": 46,
      "metadata": {
        "id": "DI_iohvkdAue"
      },
      "outputs": [],
      "source": [
        "ROLES = {\n",
        "    \"1\": {\n",
        "        \"name\": \"一般知識エキスパート\",\n",
        "        \"description\": \"幅広い分野の一般的な質問に答える\",\n",
        "        \"details\": \"幅広い分野の一般的な質問に対して、正確で分かりやすい回答を提供してください。\"\n",
        "    },\n",
        "    \"2\": {\n",
        "        \"name\": \"生成AI製品エキスパート\",\n",
        "        \"description\": \"生成AIや関連製品、技術に関する専門的な質問に答える\",\n",
        "        \"details\": \"生成AIや関連製品、技術に関する専門的な質問に対して、最新の情報と深い洞察を提供してください。\"\n",
        "    },\n",
        "    \"3\": {\n",
        "        \"name\": \"カウンセラー\",\n",
        "        \"description\": \"個人的な悩みや心理的な問題に対してサポートを提供する\",\n",
        "        \"details\": \"個人的な悩みや心理的な問題に対して、共感的で支援的な回答を提供し、可能であれば適切なアドバイスも行ってください。\"\n",
        "    }\n",
        "}"
      ]
    },
    {
      "cell_type": "code",
      "execution_count": 47,
      "metadata": {
        "id": "Oj375ZrudAuf"
      },
      "outputs": [],
      "source": [
        "import operator\n",
        "from typing import Annotated\n",
        "\n",
        "from pydantic import BaseModel, Field\n",
        "\n",
        "\n",
        "class State(BaseModel):\n",
        "    query: str = Field(..., description=\"ユーザーからの質問\")\n",
        "    current_role: str = Field(\n",
        "        default=\"\", description=\"選定された回答ロール\"\n",
        "    )\n",
        "    messages: Annotated[list[str], operator.add] = Field(\n",
        "        default=[], description=\"回答履歴\"\n",
        "    )\n",
        "    current_judge: bool = Field(\n",
        "        default=False, description=\"品質チェックの結果\"\n",
        "    )\n",
        "    judgement_reason: str = Field(\n",
        "        default=\"\", description=\"品質チェックの判定理由\"\n",
        "    )"
      ]
    },
    {
      "cell_type": "code",
      "execution_count": 48,
      "metadata": {
        "id": "eVRZcQLsdAuf"
      },
      "outputs": [],
      "source": [
        "# from langchain_openai import ChatOpenAI\n",
        "from langchain_google_genai import ChatGoogleGenerativeAI\n",
        "from langchain_core.runnables import ConfigurableField\n",
        "\n",
        "# llm = ChatOpenAI(model=\"gpt-4o\", temperature=0.0)\n",
        "llm = ChatGoogleGenerativeAI(model=\"gemini-1.5-pro\", temperature=0.0) # 変更後\n",
        "\n",
        "# 後からmax_tokensの値を変更できるように、変更可能なフィールドを宣言\n",
        "# llm = llm.configurable_fields(max_tokens=ConfigurableField(id='max_tokens'))\n",
        "llm = llm.configurable_fields(max_output_tokens=ConfigurableField(id='max_output_tokens'))"
      ]
    },
    {
      "cell_type": "code",
      "execution_count": 49,
      "metadata": {
        "id": "x0j3Y3p_dAuf"
      },
      "outputs": [],
      "source": [
        "from typing import Any\n",
        "\n",
        "from langchain_core.prompts import ChatPromptTemplate\n",
        "from langchain_core.output_parsers import StrOutputParser\n",
        "\n",
        "def selection_node(state: State) -> dict[str, Any]:\n",
        "    query = state.query\n",
        "    role_options = \"\\n\".join([f\"{k}. {v['name']}: {v['description']}\" for k, v in ROLES.items()])\n",
        "    prompt = ChatPromptTemplate.from_template(\n",
        "\"\"\"質問を分析し、最も適切な回答担当ロールを選択してください。\n",
        "\n",
        "選択肢:\n",
        "{role_options}\n",
        "\n",
        "回答は選択肢の番号（1、2、または3）のみを返してください。\n",
        "\n",
        "質問: {query}\n",
        "\"\"\".strip()\n",
        "    )\n",
        "    # 選択肢の番号のみを返すことを期待したいため、max_tokensの値を1に変更\n",
        "    # chain = prompt | llm.with_config(configurable=dict(max_tokens=1)) | StrOutputParser()\n",
        "    chain = prompt | llm.with_config(configurable=dict(max_output_tokens=1)) | StrOutputParser()\n",
        "    role_number = chain.invoke({\"role_options\": role_options, \"query\": query})\n",
        "\n",
        "    selected_role = ROLES[role_number.strip()][\"name\"]\n",
        "    return {\"current_role\": selected_role}"
      ]
    },
    {
      "cell_type": "code",
      "execution_count": 50,
      "metadata": {
        "id": "ivizZVdMdAuf"
      },
      "outputs": [],
      "source": [
        "def answering_node(state: State) -> dict[str, Any]:\n",
        "    query = state.query\n",
        "    role = state.current_role\n",
        "    role_details = \"\\n\".join([f\"- {v['name']}: {v['details']}\" for v in ROLES.values()])\n",
        "    prompt = ChatPromptTemplate.from_template(\n",
        "\"\"\"あなたは{role}として回答してください。以下の質問に対して、あなたの役割に基づいた適切な回答を提供してください。\n",
        "\n",
        "役割の詳細:\n",
        "{role_details}\n",
        "\n",
        "質問: {query}\n",
        "\n",
        "回答:\"\"\".strip()\n",
        "    )\n",
        "    chain = prompt | llm | StrOutputParser()\n",
        "    answer = chain.invoke({\"role\": role, \"role_details\": role_details, \"query\": query})\n",
        "    return {\"messages\": [answer]}"
      ]
    },
    {
      "cell_type": "code",
      "execution_count": 51,
      "metadata": {
        "id": "PnqoWfjmdAuf"
      },
      "outputs": [],
      "source": [
        "class Judgement(BaseModel):\n",
        "    judge: bool = Field(default=False, description=\"判定結果\")\n",
        "    reason: str = Field(default=\"\", description=\"判定理由\")\n",
        "\n",
        "def check_node(state: State) -> dict[str, Any]:\n",
        "    query = state.query\n",
        "    answer = state.messages[-1]\n",
        "    prompt = ChatPromptTemplate.from_template(\n",
        "\"\"\"以下の回答の品質をチェックし、問題がある場合は'False'、問題がない場合は'True'を回答してください。\n",
        "また、その判断理由も説明してください。\n",
        "\n",
        "ユーザーからの質問: {query}\n",
        "回答: {answer}\n",
        "\"\"\".strip()\n",
        "    )\n",
        "    chain = prompt | llm.with_structured_output(Judgement)\n",
        "    result: Judgement = chain.invoke({\"query\": query, \"answer\": answer})\n",
        "\n",
        "    return {\n",
        "        \"current_judge\": result.judge,\n",
        "        \"judgement_reason\": result.reason\n",
        "    }"
      ]
    },
    {
      "cell_type": "code",
      "execution_count": 52,
      "metadata": {
        "id": "LPW6gYKhdAug"
      },
      "outputs": [],
      "source": [
        "from langgraph.graph import StateGraph\n",
        "\n",
        "workflow = StateGraph(State)"
      ]
    },
    {
      "cell_type": "code",
      "execution_count": 53,
      "metadata": {
        "id": "UviYAr8adAug"
      },
      "outputs": [],
      "source": [
        "workflow.add_node(\"selection\", selection_node)\n",
        "workflow.add_node(\"answering\", answering_node)\n",
        "workflow.add_node(\"check\", check_node)"
      ]
    },
    {
      "cell_type": "code",
      "execution_count": 54,
      "metadata": {
        "id": "V7MMXKcNdAug"
      },
      "outputs": [],
      "source": [
        "# selectionノードから処理を開始\n",
        "workflow.set_entry_point(\"selection\")"
      ]
    },
    {
      "cell_type": "code",
      "execution_count": 55,
      "metadata": {
        "id": "uzKND112dAug"
      },
      "outputs": [],
      "source": [
        "# selectionノードからansweringノードへ\n",
        "workflow.add_edge(\"selection\", \"answering\")\n",
        "# answeringノードからcheckノードへ\n",
        "workflow.add_edge(\"answering\", \"check\")"
      ]
    },
    {
      "cell_type": "code",
      "execution_count": 56,
      "metadata": {
        "id": "bWhXq9hadAug"
      },
      "outputs": [],
      "source": [
        "from langgraph.graph import END\n",
        "\n",
        "# checkノードから次のノードへの遷移に条件付きエッジを定義\n",
        "# state.current_judgeの値がTrueならENDノードへ、Falseならselectionノードへ\n",
        "workflow.add_conditional_edges(\n",
        "    \"check\",\n",
        "    lambda state: state.current_judge,\n",
        "    {True: END, False: \"selection\"}\n",
        ")"
      ]
    },
    {
      "cell_type": "code",
      "execution_count": 57,
      "metadata": {
        "id": "1E3i0iFhdAug"
      },
      "outputs": [],
      "source": [
        "compiled = workflow.compile()"
      ]
    },
    {
      "cell_type": "code",
      "execution_count": 58,
      "metadata": {
        "id": "nPbpmwtQdAug"
      },
      "outputs": [],
      "source": [
        "initial_state = State(query=\"生成AIについて教えてください\")\n",
        "result = compiled.invoke(initial_state)"
      ]
    },
    {
      "cell_type": "code",
      "execution_count": 59,
      "metadata": {
        "id": "yIxhh3MldAug",
        "outputId": "0e73c22f-47e4-4580-8b37-f333145c1c28",
        "colab": {
          "base_uri": "https://localhost:8080/"
        }
      },
      "outputs": [
        {
          "output_type": "execute_result",
          "data": {
            "text/plain": [
              "{'query': '生成AIについて教えてください',\n",
              " 'current_role': '生成AI製品エキスパート',\n",
              " 'messages': ['生成AIとは、テキスト、画像、音声、コードなど、様々な種類の新しいコンテンツを作成できる人工知能の一種です。  既存のデータから学習し、そのパターンに基づいて似たような、しかし全く新しいアウトプットを生成します。  まるで人間が創造的に何かを生み出すように、AIがコンテンツを「生成」するというのが「生成AI」と呼ばれる所以です。\\n\\n以下、生成AIの主要な側面を詳しく説明します。\\n\\n**1. 基盤技術:**\\n\\n* **機械学習:** 生成AIの中核技術は機械学習、特に深層学習です。  大量のデータを使ってモデルを訓練し、データ内のパターンや関係性を学習させます。\\n* **ニューラルネットワーク:** 深層学習では、人間の脳の神経細胞ネットワークを模倣したニューラルネットワークが用いられます。  特に、生成AIでは、GAN（敵対的生成ネットワーク）、Transformer、VAE（変分オートエンコーダ）などのアーキテクチャが重要な役割を果たします。\\n\\n**2. 生成AIの種類と用途:**\\n\\n* **テキスト生成:**  文章作成、翻訳、要約、チャットボット、コード生成など。 例：GPT-3、Bard、Jasper\\n* **画像生成:** 写真、イラスト、絵画、3Dモデルなどの作成、画像の変換や編集。 例：DALL-E 2、Midjourney、Stable Diffusion\\n* **音声生成:**  音声合成、音楽生成、音声変換など。 例：WaveNet、MuseNet\\n* **動画生成:**  短い動画クリップの作成、動画編集、動画の変換など。 Runway ML, Synthesia など。\\n* **コード生成:**  特定のタスクを実行するコードの自動生成。 GitHub Copilot, Tabnine など。\\n\\n**3. 生成AIのメリット:**\\n\\n* **効率性向上:**  これまで人間が行っていた作業を自動化し、時間とコストを削減。\\n* **創造性の拡張:**  新しいアイデアやコンテンツの創造を支援し、人間の創造性を拡張。\\n* **パーソナライズ化:**  個々のニーズに合わせたコンテンツやサービスの提供。\\n* **アクセシビリティ向上:**  高度なスキルや専門知識を持たない人でも、簡単にコンテンツを作成できる。\\n\\n**4. 生成AIの課題:**\\n\\n* **倫理的な問題:**  著作権侵害、偽情報生成、バイアスの増幅などのリスク。\\n* **品質管理:**  生成されたコンテンツの品質や正確性を保証する必要がある。\\n* **説明可能性の欠如:**  AIの意思決定プロセスが不透明な場合があり、説明責任が問われにくい。\\n* **悪用への懸念:**  悪意のある目的での利用、例えばディープフェイクの作成など。\\n\\n\\n**5. 今後の展望:**\\n\\n生成AIは急速に進化しており、今後ますます高度化・多様化していくと予想されます。  よりリアルで高品質なコンテンツ生成が可能になり、様々な分野での応用が拡大していくでしょう。  同時に、倫理的な問題や社会への影響についても、より真剣な議論が必要となります。\\n\\n\\n上記の情報が、生成AIについての理解に役立つことを願っています。  さらに詳しい情報や具体的な製品について知りたい場合は、お気軽にご質問ください。'],\n",
              " 'current_judge': True,\n",
              " 'judgement_reason': '回答は生成AIについて包括的に説明しており、問題ありません。'}"
            ]
          },
          "metadata": {},
          "execution_count": 59
        }
      ],
      "source": [
        "result"
      ]
    },
    {
      "cell_type": "code",
      "execution_count": 60,
      "metadata": {
        "id": "VZORsz5TdAug",
        "outputId": "6010a5bd-88c9-48ac-c564-0a96f9e53531",
        "colab": {
          "base_uri": "https://localhost:8080/"
        }
      },
      "outputs": [
        {
          "output_type": "stream",
          "name": "stdout",
          "text": [
            "生成AIとは、テキスト、画像、音声、コードなど、様々な種類の新しいコンテンツを作成できる人工知能の一種です。  既存のデータから学習し、そのパターンに基づいて似たような、しかし全く新しいアウトプットを生成します。  まるで人間が創造的に何かを生み出すように、AIがコンテンツを「生成」するというのが「生成AI」と呼ばれる所以です。\n",
            "\n",
            "以下、生成AIの主要な側面を詳しく説明します。\n",
            "\n",
            "**1. 基盤技術:**\n",
            "\n",
            "* **機械学習:** 生成AIの中核技術は機械学習、特に深層学習です。  大量のデータを使ってモデルを訓練し、データ内のパターンや関係性を学習させます。\n",
            "* **ニューラルネットワーク:** 深層学習では、人間の脳の神経細胞ネットワークを模倣したニューラルネットワークが用いられます。  特に、生成AIでは、GAN（敵対的生成ネットワーク）、Transformer、VAE（変分オートエンコーダ）などのアーキテクチャが重要な役割を果たします。\n",
            "\n",
            "**2. 生成AIの種類と用途:**\n",
            "\n",
            "* **テキスト生成:**  文章作成、翻訳、要約、チャットボット、コード生成など。 例：GPT-3、Bard、Jasper\n",
            "* **画像生成:** 写真、イラスト、絵画、3Dモデルなどの作成、画像の変換や編集。 例：DALL-E 2、Midjourney、Stable Diffusion\n",
            "* **音声生成:**  音声合成、音楽生成、音声変換など。 例：WaveNet、MuseNet\n",
            "* **動画生成:**  短い動画クリップの作成、動画編集、動画の変換など。 Runway ML, Synthesia など。\n",
            "* **コード生成:**  特定のタスクを実行するコードの自動生成。 GitHub Copilot, Tabnine など。\n",
            "\n",
            "**3. 生成AIのメリット:**\n",
            "\n",
            "* **効率性向上:**  これまで人間が行っていた作業を自動化し、時間とコストを削減。\n",
            "* **創造性の拡張:**  新しいアイデアやコンテンツの創造を支援し、人間の創造性を拡張。\n",
            "* **パーソナライズ化:**  個々のニーズに合わせたコンテンツやサービスの提供。\n",
            "* **アクセシビリティ向上:**  高度なスキルや専門知識を持たない人でも、簡単にコンテンツを作成できる。\n",
            "\n",
            "**4. 生成AIの課題:**\n",
            "\n",
            "* **倫理的な問題:**  著作権侵害、偽情報生成、バイアスの増幅などのリスク。\n",
            "* **品質管理:**  生成されたコンテンツの品質や正確性を保証する必要がある。\n",
            "* **説明可能性の欠如:**  AIの意思決定プロセスが不透明な場合があり、説明責任が問われにくい。\n",
            "* **悪用への懸念:**  悪意のある目的での利用、例えばディープフェイクの作成など。\n",
            "\n",
            "\n",
            "**5. 今後の展望:**\n",
            "\n",
            "生成AIは急速に進化しており、今後ますます高度化・多様化していくと予想されます。  よりリアルで高品質なコンテンツ生成が可能になり、様々な分野での応用が拡大していくでしょう。  同時に、倫理的な問題や社会への影響についても、より真剣な議論が必要となります。\n",
            "\n",
            "\n",
            "上記の情報が、生成AIについての理解に役立つことを願っています。  さらに詳しい情報や具体的な製品について知りたい場合は、お気軽にご質問ください。\n"
          ]
        }
      ],
      "source": [
        "print(result[\"messages\"][-1])"
      ]
    },
    {
      "cell_type": "code",
      "execution_count": 65,
      "metadata": {
        "id": "Jc_C9efwdAug",
        "outputId": "ff3ef138-f12b-40f5-86ef-ec463b86ac91",
        "colab": {
          "base_uri": "https://localhost:8080/"
        }
      },
      "outputs": [
        {
          "output_type": "execute_result",
          "data": {
            "text/plain": [
              "{'query': '生成AIについて教えてください',\n",
              " 'current_role': '生成AI製品エキスパート',\n",
              " 'messages': ['生成AIは、テキスト、画像、音声、コードなど、様々な種類のコンテンツを生成できる人工知能の一種です。人間が作成した大量のデータでトレーニングされ、学習したパターンに基づいて新しい、オリジナルのアウトプットを作成します。  これは、単に既存のデータを再構成するのではなく、新しいものを創造するという点で、従来のAIとは一線を画しています。\\n\\n以下に、生成AIの主要な側面を詳しく説明します。\\n\\n**1. 基礎技術:**\\n\\n* **機械学習:** 生成AIの中核技術は機械学習、特に深層学習（ディープラーニング）です。  ニューラルネットワークと呼ばれる複雑なアルゴリズムを使用して、データからパターンを学習し、その知識を新しいコンテンツの生成に応用します。\\n* **大規模言語モデル (LLM):** テキストベースの生成AIの中核を成すのがLLMです。膨大なテキストデータでトレーニングされ、人間のようなテキストを生成、翻訳、要約、質問応答などを行うことができます。  例としては、GPT-3、BERT、LaMDAなどが挙げられます。\\n* **拡散モデル:** 画像生成AIでよく用いられる技術。ノイズから画像を生成するプロセスを学習することで、高品質で多様な画像を生成できます。Stable Diffusion、DALL-E 2などが代表例です。\\n* **GAN (敵対的生成ネットワーク):**  2つのニューラルネットワーク（生成器と識別器）を競わせることで、よりリアルなデータ生成を目指す技術。画像生成、音声生成などに応用されています。\\n\\n**2. 生成AIの活用例:**\\n\\n* **テキスト生成:** 記事作成、小説執筆、詩作、スクリプト作成、翻訳、要約など。\\n* **画像生成:** 写真、イラスト、デザイン、ロゴ作成など。\\n* **音声生成:** 音楽作曲、音声合成、ナレーション作成など。\\n* **コード生成:** プログラムコードの自動生成、バグ修正の支援など。\\n* **ビデオ生成:** 短編動画、アニメーション作成など。\\n* **3Dモデル生成:** ゲーム、建築、医療など様々な分野で利用される3Dモデルの作成。\\n\\n**3. 生成AIのメリットとデメリット:**\\n\\n* **メリット:** 創造性の向上、生産性の向上、新しい表現の可能性、パーソナライズされた体験の提供など。\\n* **デメリット:** 誤情報の拡散、著作権侵害、バイアスの増幅、倫理的な懸念、雇用への影響など。\\n\\n**4. 今後の展望:**\\n\\n生成AIは急速に進化しており、今後ますます高度化、多様化していくと予想されます。  よりリアルで高品質なコンテンツ生成が可能になり、様々な分野での活用が期待されます。  同時に、倫理的な課題や社会への影響についても、より深い議論が必要となるでしょう。\\n\\n\\n**5. 代表的な生成AI製品:**\\n\\n* **ChatGPT (OpenAI):** 対話型のテキスト生成AI。\\n* **DALL-E 2 (OpenAI):** テキストから画像を生成するAI。\\n* **Midjourney:**  高品質な画像を生成するAI。\\n* **Stable Diffusion:** オープンソースの画像生成AI。\\n* **GitHub Copilot (GitHub/OpenAI):** プログラミング支援AI。\\n\\n\\nこの情報が生成AIについての理解に役立つことを願っています。さらに詳しい情報が必要な場合は、具体的な質問をいただければ、より詳細な回答を提供できます。'],\n",
              " 'current_judge': True,\n",
              " 'judgement_reason': '回答は生成AIについて包括的に説明しており、問題ありません。'}"
            ]
          },
          "metadata": {},
          "execution_count": 65
        }
      ],
      "source": [
        "initial_state = State(query=\"生成AIについて教えてください\")\n",
        "result = await compiled.ainvoke(initial_state)\n",
        "result"
      ]
    },
    {
      "cell_type": "code",
      "execution_count": 62,
      "metadata": {
        "id": "YdGv4U6BdAug",
        "outputId": "78aed984-1379-4f93-dc66-05bf99a1e574",
        "colab": {
          "base_uri": "https://localhost:8080/"
        }
      },
      "outputs": [
        {
          "output_type": "stream",
          "name": "stdout",
          "text": [
            "Reading package lists... Done\n",
            "Building dependency tree... Done\n",
            "Reading state information... Done\n",
            "graphviz is already the newest version (2.42.2-6ubuntu0.1).\n",
            "The following packages were automatically installed and are no longer required:\n",
            "  libbz2-dev libpkgconf3 libreadline-dev\n",
            "Use 'apt autoremove' to remove them.\n",
            "The following additional packages will be installed:\n",
            "  libgail-common libgail18 libgtk2.0-0 libgtk2.0-bin libgtk2.0-common libgvc6-plugins-gtk\n",
            "  librsvg2-common libxdot4\n",
            "Suggested packages:\n",
            "  gvfs\n",
            "The following packages will be REMOVED:\n",
            "  pkgconf r-base-dev\n",
            "The following NEW packages will be installed:\n",
            "  libgail-common libgail18 libgraphviz-dev libgtk2.0-0 libgtk2.0-bin libgtk2.0-common\n",
            "  libgvc6-plugins-gtk librsvg2-common libxdot4 pkg-config\n",
            "0 upgraded, 10 newly installed, 2 to remove and 49 not upgraded.\n",
            "Need to get 2,482 kB of archives.\n",
            "After this operation, 7,670 kB of additional disk space will be used.\n",
            "Get:1 http://archive.ubuntu.com/ubuntu jammy/main amd64 pkg-config amd64 0.29.2-1ubuntu3 [48.2 kB]\n",
            "Get:2 http://archive.ubuntu.com/ubuntu jammy-updates/main amd64 libgtk2.0-common all 2.24.33-2ubuntu2.1 [125 kB]\n",
            "Get:3 http://archive.ubuntu.com/ubuntu jammy-updates/main amd64 libgtk2.0-0 amd64 2.24.33-2ubuntu2.1 [2,038 kB]\n",
            "Get:4 http://archive.ubuntu.com/ubuntu jammy-updates/main amd64 libgail18 amd64 2.24.33-2ubuntu2.1 [15.9 kB]\n",
            "Get:5 http://archive.ubuntu.com/ubuntu jammy-updates/main amd64 libgail-common amd64 2.24.33-2ubuntu2.1 [132 kB]\n",
            "Get:6 http://archive.ubuntu.com/ubuntu jammy-updates/universe amd64 libxdot4 amd64 2.42.2-6ubuntu0.1 [16.4 kB]\n",
            "Get:7 http://archive.ubuntu.com/ubuntu jammy-updates/universe amd64 libgvc6-plugins-gtk amd64 2.42.2-6ubuntu0.1 [22.5 kB]\n",
            "Get:8 http://archive.ubuntu.com/ubuntu jammy-updates/universe amd64 libgraphviz-dev amd64 2.42.2-6ubuntu0.1 [58.5 kB]\n",
            "Get:9 http://archive.ubuntu.com/ubuntu jammy-updates/main amd64 libgtk2.0-bin amd64 2.24.33-2ubuntu2.1 [7,936 B]\n",
            "Get:10 http://archive.ubuntu.com/ubuntu jammy-updates/main amd64 librsvg2-common amd64 2.52.5+dfsg-3ubuntu0.2 [17.7 kB]\n",
            "Fetched 2,482 kB in 1s (2,901 kB/s)\n",
            "(Reading database ... 124574 files and directories currently installed.)\n",
            "Removing r-base-dev (4.4.2-1.2204.0) ...\n",
            "dpkg: pkgconf: dependency problems, but removing anyway as you requested:\n",
            " libsndfile1-dev:amd64 depends on pkg-config; however:\n",
            "  Package pkg-config is not installed.\n",
            "  Package pkgconf which provides pkg-config is to be removed.\n",
            " libopencv-dev depends on pkg-config; however:\n",
            "  Package pkg-config is not installed.\n",
            "  Package pkgconf which provides pkg-config is to be removed.\n",
            " libmkl-dev:amd64 depends on pkg-config; however:\n",
            "  Package pkg-config is not installed.\n",
            "  Package pkgconf which provides pkg-config is to be removed.\n",
            " libjack-dev depends on pkg-config; however:\n",
            "  Package pkg-config is not installed.\n",
            "  Package pkgconf which provides pkg-config is to be removed.\n",
            " libgphoto2-dev:amd64 depends on pkg-config; however:\n",
            "  Package pkg-config is not installed.\n",
            "  Package pkgconf which provides pkg-config is to be removed.\n",
            " libfontconfig-dev:amd64 depends on pkg-config; however:\n",
            "  Package pkg-config is not installed.\n",
            "  Package pkgconf which provides pkg-config is to be removed.\n",
            "\n",
            "Removing pkgconf (1.8.0-1) ...\n",
            "Removing 'diversion of /usr/bin/pkg-config to /usr/bin/pkg-config.real by pkgconf'\n",
            "Removing 'diversion of /usr/share/aclocal/pkg.m4 to /usr/share/aclocal/pkg.real.m4 by pkgconf'\n",
            "Removing 'diversion of /usr/share/man/man1/pkg-config.1.gz to /usr/share/man/man1/pkg-config.real.1.gz by pkgconf'\n",
            "Removing 'diversion of /usr/share/pkg-config-crosswrapper to /usr/share/pkg-config-crosswrapper.real by pkgconf'\n",
            "Selecting previously unselected package pkg-config.\n",
            "(Reading database ... 124550 files and directories currently installed.)\n",
            "Preparing to unpack .../0-pkg-config_0.29.2-1ubuntu3_amd64.deb ...\n",
            "Unpacking pkg-config (0.29.2-1ubuntu3) ...\n",
            "Selecting previously unselected package libgtk2.0-common.\n",
            "Preparing to unpack .../1-libgtk2.0-common_2.24.33-2ubuntu2.1_all.deb ...\n",
            "Unpacking libgtk2.0-common (2.24.33-2ubuntu2.1) ...\n",
            "Selecting previously unselected package libgtk2.0-0:amd64.\n",
            "Preparing to unpack .../2-libgtk2.0-0_2.24.33-2ubuntu2.1_amd64.deb ...\n",
            "Unpacking libgtk2.0-0:amd64 (2.24.33-2ubuntu2.1) ...\n",
            "Selecting previously unselected package libgail18:amd64.\n",
            "Preparing to unpack .../3-libgail18_2.24.33-2ubuntu2.1_amd64.deb ...\n",
            "Unpacking libgail18:amd64 (2.24.33-2ubuntu2.1) ...\n",
            "Selecting previously unselected package libgail-common:amd64.\n",
            "Preparing to unpack .../4-libgail-common_2.24.33-2ubuntu2.1_amd64.deb ...\n",
            "Unpacking libgail-common:amd64 (2.24.33-2ubuntu2.1) ...\n",
            "Selecting previously unselected package libxdot4:amd64.\n",
            "Preparing to unpack .../5-libxdot4_2.42.2-6ubuntu0.1_amd64.deb ...\n",
            "Unpacking libxdot4:amd64 (2.42.2-6ubuntu0.1) ...\n",
            "Selecting previously unselected package libgvc6-plugins-gtk.\n",
            "Preparing to unpack .../6-libgvc6-plugins-gtk_2.42.2-6ubuntu0.1_amd64.deb ...\n",
            "Unpacking libgvc6-plugins-gtk (2.42.2-6ubuntu0.1) ...\n",
            "Selecting previously unselected package libgraphviz-dev:amd64.\n",
            "Preparing to unpack .../7-libgraphviz-dev_2.42.2-6ubuntu0.1_amd64.deb ...\n",
            "Unpacking libgraphviz-dev:amd64 (2.42.2-6ubuntu0.1) ...\n",
            "Selecting previously unselected package libgtk2.0-bin.\n",
            "Preparing to unpack .../8-libgtk2.0-bin_2.24.33-2ubuntu2.1_amd64.deb ...\n",
            "Unpacking libgtk2.0-bin (2.24.33-2ubuntu2.1) ...\n",
            "Selecting previously unselected package librsvg2-common:amd64.\n",
            "Preparing to unpack .../9-librsvg2-common_2.52.5+dfsg-3ubuntu0.2_amd64.deb ...\n",
            "Unpacking librsvg2-common:amd64 (2.52.5+dfsg-3ubuntu0.2) ...\n",
            "Setting up libxdot4:amd64 (2.42.2-6ubuntu0.1) ...\n",
            "Setting up pkg-config (0.29.2-1ubuntu3) ...\n",
            "Setting up librsvg2-common:amd64 (2.52.5+dfsg-3ubuntu0.2) ...\n",
            "Setting up libgtk2.0-common (2.24.33-2ubuntu2.1) ...\n",
            "Setting up libgtk2.0-0:amd64 (2.24.33-2ubuntu2.1) ...\n",
            "Setting up libgvc6-plugins-gtk (2.42.2-6ubuntu0.1) ...\n",
            "Setting up libgail18:amd64 (2.24.33-2ubuntu2.1) ...\n",
            "Setting up libgtk2.0-bin (2.24.33-2ubuntu2.1) ...\n",
            "Setting up libgail-common:amd64 (2.24.33-2ubuntu2.1) ...\n",
            "Setting up libgraphviz-dev:amd64 (2.42.2-6ubuntu0.1) ...\n",
            "Processing triggers for libc-bin (2.35-0ubuntu3.4) ...\n",
            "/sbin/ldconfig.real: /usr/local/lib/libtbbbind.so.3 is not a symbolic link\n",
            "\n",
            "/sbin/ldconfig.real: /usr/local/lib/libtbb.so.12 is not a symbolic link\n",
            "\n",
            "/sbin/ldconfig.real: /usr/local/lib/libtcm.so.1 is not a symbolic link\n",
            "\n",
            "/sbin/ldconfig.real: /usr/local/lib/libtbbbind_2_0.so.3 is not a symbolic link\n",
            "\n",
            "/sbin/ldconfig.real: /usr/local/lib/libumf.so.0 is not a symbolic link\n",
            "\n",
            "/sbin/ldconfig.real: /usr/local/lib/libtbbbind_2_5.so.3 is not a symbolic link\n",
            "\n",
            "/sbin/ldconfig.real: /usr/local/lib/libtbbmalloc.so.2 is not a symbolic link\n",
            "\n",
            "/sbin/ldconfig.real: /usr/local/lib/libhwloc.so.15 is not a symbolic link\n",
            "\n",
            "/sbin/ldconfig.real: /usr/local/lib/libur_adapter_level_zero.so.0 is not a symbolic link\n",
            "\n",
            "/sbin/ldconfig.real: /usr/local/lib/libur_loader.so.0 is not a symbolic link\n",
            "\n",
            "/sbin/ldconfig.real: /usr/local/lib/libur_adapter_opencl.so.0 is not a symbolic link\n",
            "\n",
            "/sbin/ldconfig.real: /usr/local/lib/libtcm_debug.so.1 is not a symbolic link\n",
            "\n",
            "/sbin/ldconfig.real: /usr/local/lib/libtbbmalloc_proxy.so.2 is not a symbolic link\n",
            "\n",
            "Processing triggers for man-db (2.10.2-1) ...\n",
            "Processing triggers for libgdk-pixbuf-2.0-0:amd64 (2.42.8+dfsg-1ubuntu0.3) ...\n",
            "Collecting pygraphviz\n",
            "  Downloading pygraphviz-1.14.tar.gz (106 kB)\n",
            "\u001b[2K     \u001b[90m━━━━━━━━━━━━━━━━━━━━━━━━━━━━━━━━━━━━━━━━\u001b[0m \u001b[32m106.0/106.0 kB\u001b[0m \u001b[31m3.3 MB/s\u001b[0m eta \u001b[36m0:00:00\u001b[0m\n",
            "\u001b[?25h  Installing build dependencies ... \u001b[?25l\u001b[?25hdone\n",
            "  Getting requirements to build wheel ... \u001b[?25l\u001b[?25hdone\n",
            "  Preparing metadata (pyproject.toml) ... \u001b[?25l\u001b[?25hdone\n",
            "Building wheels for collected packages: pygraphviz\n",
            "  Building wheel for pygraphviz (pyproject.toml) ... \u001b[?25l\u001b[?25hdone\n",
            "  Created wheel for pygraphviz: filename=pygraphviz-1.14-cp311-cp311-linux_x86_64.whl size=169679 sha256=8782c424ab868f0ed786d992bb363fa621fe6910df4f2eba55cc9dd2220fcbc5\n",
            "  Stored in directory: /root/.cache/pip/wheels/9c/5f/df/6fffd2a4353f26dbb0e3672a1baf070c124a1d74a5f9318279\n",
            "Successfully built pygraphviz\n",
            "Installing collected packages: pygraphviz\n",
            "Successfully installed pygraphviz-1.14\n"
          ]
        }
      ],
      "source": [
        "!apt-get install graphviz libgraphviz-dev pkg-config\n",
        "!pip install pygraphviz"
      ]
    },
    {
      "cell_type": "code",
      "execution_count": 63,
      "metadata": {
        "id": "_2U2mq2JdAug",
        "outputId": "26618fc4-d6b5-41d9-d888-5edc8b30205a",
        "colab": {
          "base_uri": "https://localhost:8080/",
          "height": 673
        }
      },
      "outputs": [
        {
          "output_type": "execute_result",
          "data": {
            "image/png": "[encoded data removed]",
            "text/plain": [
              "<IPython.core.display.Image object>"
            ]
          },
          "metadata": {},
          "execution_count": 63
        }
      ],
      "source": [
        "from IPython.display import Image\n",
        "\n",
        "Image(compiled.get_graph().draw_png())"
      ]
    },
    {
      "cell_type": "markdown",
      "metadata": {
        "id": "B1PiSdJRdAug"
      },
      "source": [
        "## 9.4 チェックポイント機能：ステートの永続化と再会"
      ]
    },
    {
      "cell_type": "code",
      "execution_count": 66,
      "metadata": {
        "id": "wE0efoPDdAug",
        "outputId": "44986da6-a53d-42f3-f46a-645c8dfe6af1",
        "colab": {
          "base_uri": "https://localhost:8080/"
        }
      },
      "outputs": [
        {
          "output_type": "stream",
          "name": "stdout",
          "text": [
            "Requirement already satisfied: langchain==0.3.0 in /usr/local/lib/python3.11/dist-packages (0.3.0)\n",
            "Requirement already satisfied: langchain_google_genai==2.0.9 in /usr/local/lib/python3.11/dist-packages (2.0.9)\n",
            "Requirement already satisfied: langgraph==0.2.22 in /usr/local/lib/python3.11/dist-packages (0.2.22)\n",
            "Collecting langgraph-checkpoint==1.0.11\n",
            "  Downloading langgraph_checkpoint-1.0.11-py3-none-any.whl.metadata (4.6 kB)\n",
            "Requirement already satisfied: PyYAML>=5.3 in /usr/local/lib/python3.11/dist-packages (from langchain==0.3.0) (6.0.2)\n",
            "Requirement already satisfied: SQLAlchemy<3,>=1.4 in /usr/local/lib/python3.11/dist-packages (from langchain==0.3.0) (2.0.37)\n",
            "Requirement already satisfied: aiohttp<4.0.0,>=3.8.3 in /usr/local/lib/python3.11/dist-packages (from langchain==0.3.0) (3.11.11)\n",
            "Requirement already satisfied: langchain-core<0.4.0,>=0.3.0 in /usr/local/lib/python3.11/dist-packages (from langchain==0.3.0) (0.3.31)\n",
            "Requirement already satisfied: langchain-text-splitters<0.4.0,>=0.3.0 in /usr/local/lib/python3.11/dist-packages (from langchain==0.3.0) (0.3.5)\n",
            "Requirement already satisfied: langsmith<0.2.0,>=0.1.17 in /usr/local/lib/python3.11/dist-packages (from langchain==0.3.0) (0.1.147)\n",
            "Requirement already satisfied: numpy<2,>=1 in /usr/local/lib/python3.11/dist-packages (from langchain==0.3.0) (1.26.4)\n",
            "Requirement already satisfied: pydantic<3.0.0,>=2.7.4 in /usr/local/lib/python3.11/dist-packages (from langchain==0.3.0) (2.10.5)\n",
            "Requirement already satisfied: requests<3,>=2 in /usr/local/lib/python3.11/dist-packages (from langchain==0.3.0) (2.32.3)\n",
            "Requirement already satisfied: tenacity!=8.4.0,<9.0.0,>=8.1.0 in /usr/local/lib/python3.11/dist-packages (from langchain==0.3.0) (8.5.0)\n",
            "Requirement already satisfied: filetype<2.0.0,>=1.2.0 in /usr/local/lib/python3.11/dist-packages (from langchain_google_genai==2.0.9) (1.2.0)\n",
            "Requirement already satisfied: google-generativeai<0.9.0,>=0.8.0 in /usr/local/lib/python3.11/dist-packages (from langchain_google_genai==2.0.9) (0.8.4)\n",
            "Requirement already satisfied: msgpack<2.0.0,>=1.1.0 in /usr/local/lib/python3.11/dist-packages (from langgraph-checkpoint==1.0.11) (1.1.0)\n",
            "Requirement already satisfied: aiohappyeyeballs>=2.3.0 in /usr/local/lib/python3.11/dist-packages (from aiohttp<4.0.0,>=3.8.3->langchain==0.3.0) (2.4.4)\n",
            "Requirement already satisfied: aiosignal>=1.1.2 in /usr/local/lib/python3.11/dist-packages (from aiohttp<4.0.0,>=3.8.3->langchain==0.3.0) (1.3.2)\n",
            "Requirement already satisfied: attrs>=17.3.0 in /usr/local/lib/python3.11/dist-packages (from aiohttp<4.0.0,>=3.8.3->langchain==0.3.0) (24.3.0)\n",
            "Requirement already satisfied: frozenlist>=1.1.1 in /usr/local/lib/python3.11/dist-packages (from aiohttp<4.0.0,>=3.8.3->langchain==0.3.0) (1.5.0)\n",
            "Requirement already satisfied: multidict<7.0,>=4.5 in /usr/local/lib/python3.11/dist-packages (from aiohttp<4.0.0,>=3.8.3->langchain==0.3.0) (6.1.0)\n",
            "Requirement already satisfied: propcache>=0.2.0 in /usr/local/lib/python3.11/dist-packages (from aiohttp<4.0.0,>=3.8.3->langchain==0.3.0) (0.2.1)\n",
            "Requirement already satisfied: yarl<2.0,>=1.17.0 in /usr/local/lib/python3.11/dist-packages (from aiohttp<4.0.0,>=3.8.3->langchain==0.3.0) (1.18.3)\n",
            "Requirement already satisfied: google-ai-generativelanguage==0.6.15 in /usr/local/lib/python3.11/dist-packages (from google-generativeai<0.9.0,>=0.8.0->langchain_google_genai==2.0.9) (0.6.15)\n",
            "Requirement already satisfied: google-api-core in /usr/local/lib/python3.11/dist-packages (from google-generativeai<0.9.0,>=0.8.0->langchain_google_genai==2.0.9) (2.19.2)\n",
            "Requirement already satisfied: google-api-python-client in /usr/local/lib/python3.11/dist-packages (from google-generativeai<0.9.0,>=0.8.0->langchain_google_genai==2.0.9) (2.155.0)\n",
            "Requirement already satisfied: google-auth>=2.15.0 in /usr/local/lib/python3.11/dist-packages (from google-generativeai<0.9.0,>=0.8.0->langchain_google_genai==2.0.9) (2.27.0)\n",
            "Requirement already satisfied: protobuf in /usr/local/lib/python3.11/dist-packages (from google-generativeai<0.9.0,>=0.8.0->langchain_google_genai==2.0.9) (4.25.5)\n",
            "Requirement already satisfied: tqdm in /usr/local/lib/python3.11/dist-packages (from google-generativeai<0.9.0,>=0.8.0->langchain_google_genai==2.0.9) (4.67.1)\n",
            "Requirement already satisfied: typing-extensions in /usr/local/lib/python3.11/dist-packages (from google-generativeai<0.9.0,>=0.8.0->langchain_google_genai==2.0.9) (4.12.2)\n",
            "Requirement already satisfied: proto-plus<2.0.0dev,>=1.22.3 in /usr/local/lib/python3.11/dist-packages (from google-ai-generativelanguage==0.6.15->google-generativeai<0.9.0,>=0.8.0->langchain_google_genai==2.0.9) (1.25.0)\n",
            "Requirement already satisfied: jsonpatch<2.0,>=1.33 in /usr/local/lib/python3.11/dist-packages (from langchain-core<0.4.0,>=0.3.0->langchain==0.3.0) (1.33)\n",
            "Requirement already satisfied: packaging<25,>=23.2 in /usr/local/lib/python3.11/dist-packages (from langchain-core<0.4.0,>=0.3.0->langchain==0.3.0) (24.2)\n",
            "Requirement already satisfied: httpx<1,>=0.23.0 in /usr/local/lib/python3.11/dist-packages (from langsmith<0.2.0,>=0.1.17->langchain==0.3.0) (0.28.1)\n",
            "Requirement already satisfied: orjson<4.0.0,>=3.9.14 in /usr/local/lib/python3.11/dist-packages (from langsmith<0.2.0,>=0.1.17->langchain==0.3.0) (3.10.15)\n",
            "Requirement already satisfied: requests-toolbelt<2.0.0,>=1.0.0 in /usr/local/lib/python3.11/dist-packages (from langsmith<0.2.0,>=0.1.17->langchain==0.3.0) (1.0.0)\n",
            "Requirement already satisfied: annotated-types>=0.6.0 in /usr/local/lib/python3.11/dist-packages (from pydantic<3.0.0,>=2.7.4->langchain==0.3.0) (0.7.0)\n",
            "Requirement already satisfied: pydantic-core==2.27.2 in /usr/local/lib/python3.11/dist-packages (from pydantic<3.0.0,>=2.7.4->langchain==0.3.0) (2.27.2)\n",
            "Requirement already satisfied: charset-normalizer<4,>=2 in /usr/local/lib/python3.11/dist-packages (from requests<3,>=2->langchain==0.3.0) (3.4.1)\n",
            "Requirement already satisfied: idna<4,>=2.5 in /usr/local/lib/python3.11/dist-packages (from requests<3,>=2->langchain==0.3.0) (3.10)\n",
            "Requirement already satisfied: urllib3<3,>=1.21.1 in /usr/local/lib/python3.11/dist-packages (from requests<3,>=2->langchain==0.3.0) (2.3.0)\n",
            "Requirement already satisfied: certifi>=2017.4.17 in /usr/local/lib/python3.11/dist-packages (from requests<3,>=2->langchain==0.3.0) (2024.12.14)\n",
            "Requirement already satisfied: greenlet!=0.4.17 in /usr/local/lib/python3.11/dist-packages (from SQLAlchemy<3,>=1.4->langchain==0.3.0) (3.1.1)\n",
            "Requirement already satisfied: googleapis-common-protos<2.0.dev0,>=1.56.2 in /usr/local/lib/python3.11/dist-packages (from google-api-core->google-generativeai<0.9.0,>=0.8.0->langchain_google_genai==2.0.9) (1.66.0)\n",
            "Requirement already satisfied: cachetools<6.0,>=2.0.0 in /usr/local/lib/python3.11/dist-packages (from google-auth>=2.15.0->google-generativeai<0.9.0,>=0.8.0->langchain_google_genai==2.0.9) (5.5.1)\n",
            "Requirement already satisfied: pyasn1-modules>=0.2.1 in /usr/local/lib/python3.11/dist-packages (from google-auth>=2.15.0->google-generativeai<0.9.0,>=0.8.0->langchain_google_genai==2.0.9) (0.4.1)\n",
            "Requirement already satisfied: rsa<5,>=3.1.4 in /usr/local/lib/python3.11/dist-packages (from google-auth>=2.15.0->google-generativeai<0.9.0,>=0.8.0->langchain_google_genai==2.0.9) (4.9)\n",
            "Requirement already satisfied: anyio in /usr/local/lib/python3.11/dist-packages (from httpx<1,>=0.23.0->langsmith<0.2.0,>=0.1.17->langchain==0.3.0) (3.7.1)\n",
            "Requirement already satisfied: httpcore==1.* in /usr/local/lib/python3.11/dist-packages (from httpx<1,>=0.23.0->langsmith<0.2.0,>=0.1.17->langchain==0.3.0) (1.0.7)\n",
            "Requirement already satisfied: h11<0.15,>=0.13 in /usr/local/lib/python3.11/dist-packages (from httpcore==1.*->httpx<1,>=0.23.0->langsmith<0.2.0,>=0.1.17->langchain==0.3.0) (0.14.0)\n",
            "Requirement already satisfied: jsonpointer>=1.9 in /usr/local/lib/python3.11/dist-packages (from jsonpatch<2.0,>=1.33->langchain-core<0.4.0,>=0.3.0->langchain==0.3.0) (3.0.0)\n",
            "Requirement already satisfied: httplib2<1.dev0,>=0.19.0 in /usr/local/lib/python3.11/dist-packages (from google-api-python-client->google-generativeai<0.9.0,>=0.8.0->langchain_google_genai==2.0.9) (0.22.0)\n",
            "Requirement already satisfied: google-auth-httplib2<1.0.0,>=0.2.0 in /usr/local/lib/python3.11/dist-packages (from google-api-python-client->google-generativeai<0.9.0,>=0.8.0->langchain_google_genai==2.0.9) (0.2.0)\n",
            "Requirement already satisfied: uritemplate<5,>=3.0.1 in /usr/local/lib/python3.11/dist-packages (from google-api-python-client->google-generativeai<0.9.0,>=0.8.0->langchain_google_genai==2.0.9) (4.1.1)\n",
            "Requirement already satisfied: grpcio<2.0dev,>=1.33.2 in /usr/local/lib/python3.11/dist-packages (from google-api-core[grpc]!=2.0.*,!=2.1.*,!=2.10.*,!=2.2.*,!=2.3.*,!=2.4.*,!=2.5.*,!=2.6.*,!=2.7.*,!=2.8.*,!=2.9.*,<3.0.0dev,>=1.34.1->google-ai-generativelanguage==0.6.15->google-generativeai<0.9.0,>=0.8.0->langchain_google_genai==2.0.9) (1.69.0)\n",
            "Requirement already satisfied: grpcio-status<2.0.dev0,>=1.33.2 in /usr/local/lib/python3.11/dist-packages (from google-api-core[grpc]!=2.0.*,!=2.1.*,!=2.10.*,!=2.2.*,!=2.3.*,!=2.4.*,!=2.5.*,!=2.6.*,!=2.7.*,!=2.8.*,!=2.9.*,<3.0.0dev,>=1.34.1->google-ai-generativelanguage==0.6.15->google-generativeai<0.9.0,>=0.8.0->langchain_google_genai==2.0.9) (1.62.3)\n",
            "Requirement already satisfied: pyparsing!=3.0.0,!=3.0.1,!=3.0.2,!=3.0.3,<4,>=2.4.2 in /usr/local/lib/python3.11/dist-packages (from httplib2<1.dev0,>=0.19.0->google-api-python-client->google-generativeai<0.9.0,>=0.8.0->langchain_google_genai==2.0.9) (3.2.1)\n",
            "Requirement already satisfied: pyasn1<0.7.0,>=0.4.6 in /usr/local/lib/python3.11/dist-packages (from pyasn1-modules>=0.2.1->google-auth>=2.15.0->google-generativeai<0.9.0,>=0.8.0->langchain_google_genai==2.0.9) (0.6.1)\n",
            "Requirement already satisfied: sniffio>=1.1 in /usr/local/lib/python3.11/dist-packages (from anyio->httpx<1,>=0.23.0->langsmith<0.2.0,>=0.1.17->langchain==0.3.0) (1.3.1)\n",
            "Downloading langgraph_checkpoint-1.0.11-py3-none-any.whl (17 kB)\n",
            "Installing collected packages: langgraph-checkpoint\n",
            "  Attempting uninstall: langgraph-checkpoint\n",
            "    Found existing installation: langgraph-checkpoint 1.0.12\n",
            "    Uninstalling langgraph-checkpoint-1.0.12:\n",
            "      Successfully uninstalled langgraph-checkpoint-1.0.12\n",
            "Successfully installed langgraph-checkpoint-1.0.11\n"
          ]
        }
      ],
      "source": [
        "# !pip install langchain==0.3.0 langchain-openai==0.2.0 langgraph==0.2.22 langgraph-checkpoint==1.0.11\n",
        "!pip install langchain==0.3.0 langchain_google_genai==2.0.9 langgraph==0.2.22 langgraph-checkpoint==1.0.11"
      ]
    },
    {
      "cell_type": "code",
      "execution_count": 67,
      "metadata": {
        "id": "3ixm_mwLdAug"
      },
      "outputs": [],
      "source": [
        "import os\n",
        "from google.colab import userdata\n",
        "\n",
        "os.environ[\"GOOGLE_API_KEY\"] = userdata.get(\"GOOGLE_API_KEY\")\n",
        "os.environ[\"LANGCHAIN_TRACING_V2\"] = \"true\"\n",
        "os.environ[\"LANGCHAIN_ENDPOINT\"] = \"https://api.smith.langchain.com\"\n",
        "os.environ[\"LANGCHAIN_API_KEY\"] = userdata.get(\"LANGCHAIN_API_KEY\")\n",
        "os.environ[\"LANGCHAIN_PROJECT\"] = \"agent-book\""
      ]
    },
    {
      "cell_type": "code",
      "execution_count": 73,
      "metadata": {
        "id": "gStEDrKvdAug"
      },
      "outputs": [],
      "source": [
        "import operator\n",
        "from typing import Annotated, Any\n",
        "from langchain_core.messages import SystemMessage, HumanMessage, BaseMessage\n",
        "# from langchain_openai import ChatOpenAI\n",
        "from langchain_google_genai import ChatGoogleGenerativeAI\n",
        "from pydantic import BaseModel, Field\n",
        "\n",
        "# グラフのステートを定義\n",
        "class State(BaseModel):\n",
        "    query: str\n",
        "    messages: Annotated[list[BaseMessage], operator.add] = Field(default=[])\n",
        "\n",
        "# メッセージを追加するノード関数\n",
        "def add_message(state: State) -> dict[str, Any]:\n",
        "    additional_messages = []\n",
        "    if not state.messages:\n",
        "        additional_messages.append(\n",
        "            SystemMessage(content=\"あなたは最小限の応答をする対話エージェントです。\")\n",
        "        )\n",
        "    additional_messages.append(HumanMessage(content=state.query))\n",
        "    return {\"messages\": additional_messages}\n",
        "\n",
        "# LLMからの応答を追加するノード関数\n",
        "def llm_response(state: State) -> dict[str, Any]:\n",
        "    llm = ChatGoogleGenerativeAI(model=\"gemini-1.5-flash\", temperature=0.5)\n",
        "    ai_message = llm.invoke(state.messages)\n",
        "    return {\"messages\": [ai_message]}"
      ]
    },
    {
      "cell_type": "code",
      "execution_count": 74,
      "metadata": {
        "id": "q4lr1oeGdAuh"
      },
      "outputs": [],
      "source": [
        "from pprint import pprint\n",
        "from langchain_core.runnables import RunnableConfig\n",
        "from langgraph.checkpoint.base import BaseCheckpointSaver\n",
        "\n",
        "def print_checkpoint_dump(checkpointer: BaseCheckpointSaver, config: RunnableConfig):\n",
        "    checkpoint_tuple = checkpointer.get_tuple(config)\n",
        "\n",
        "    print(\"チェックポイントデータ:\")\n",
        "    pprint(checkpoint_tuple.checkpoint)\n",
        "    print(\"\\nメタデータ:\")\n",
        "    pprint(checkpoint_tuple.metadata)"
      ]
    },
    {
      "cell_type": "code",
      "execution_count": 75,
      "metadata": {
        "id": "TTnN3w1pdAuh"
      },
      "outputs": [],
      "source": [
        "from langgraph.graph import StateGraph, END\n",
        "from langgraph.checkpoint.memory import MemorySaver\n",
        "\n",
        "# グラフを設定\n",
        "graph = StateGraph(State)\n",
        "graph.add_node(\"add_message\", add_message)\n",
        "graph.add_node(\"llm_response\", llm_response)\n",
        "\n",
        "graph.set_entry_point(\"add_message\")\n",
        "graph.add_edge(\"add_message\", \"llm_response\")\n",
        "graph.add_edge(\"llm_response\", END)\n",
        "\n",
        "# チェックポインターを設定\n",
        "checkpointer = MemorySaver()\n",
        "\n",
        "# グラフをコンパイル\n",
        "compiled_graph = graph.compile(checkpointer=checkpointer)"
      ]
    },
    {
      "cell_type": "code",
      "execution_count": 76,
      "metadata": {
        "id": "Go-Js-DGdAuh",
        "outputId": "601be162-c71d-4b68-fb5f-9964780cc596",
        "colab": {
          "base_uri": "https://localhost:8080/"
        }
      },
      "outputs": [
        {
          "output_type": "execute_result",
          "data": {
            "text/plain": [
              "{'query': '私の好きなものはずんだ餅です。覚えておいてね。',\n",
              " 'messages': [SystemMessage(content='あなたは最小限の応答をする対話エージェントです。', additional_kwargs={}, response_metadata={}),\n",
              "  HumanMessage(content='私の好きなものはずんだ餅です。覚えておいてね。', additional_kwargs={}, response_metadata={}),\n",
              "  AIMessage(content='了解しました。', additional_kwargs={}, response_metadata={'prompt_feedback': {'block_reason': 0, 'safety_ratings': []}, 'finish_reason': 'STOP', 'safety_ratings': []}, id='run-fcdab543-6fe8-4c5b-ba39-2b977bab1f3f-0', usage_metadata={'input_tokens': 28, 'output_tokens': 4, 'total_tokens': 32, 'input_token_details': {'cache_read': 0}})]}"
            ]
          },
          "metadata": {},
          "execution_count": 76
        }
      ],
      "source": [
        "config = {\"configurable\": {\"thread_id\": \"example-1\"}}\n",
        "user_query = State(query=\"私の好きなものはずんだ餅です。覚えておいてね。\")\n",
        "first_response = compiled_graph.invoke(user_query, config)\n",
        "first_response"
      ]
    },
    {
      "cell_type": "code",
      "execution_count": 77,
      "metadata": {
        "id": "TM7cbYWXdAuh",
        "outputId": "7727a108-90a1-4434-ae53-f5c6a08164d4",
        "colab": {
          "base_uri": "https://localhost:8080/"
        }
      },
      "outputs": [
        {
          "output_type": "stream",
          "name": "stdout",
          "text": [
            "CheckpointTuple(config={'configurable': {'thread_id': 'example-1', 'checkpoint_ns': '', 'checkpoint_id': '1efdac42-0ab7-62f0-8002-d464bb36a6ff'}}, checkpoint={'v': 1, 'ts': '2025-01-25T02:28:56.832657+00:00', 'id': '1efdac42-0ab7-62f0-8002-d464bb36a6ff', 'channel_values': {'query': '私の好きなものはずんだ餅です。覚えておいてね。', 'messages': [SystemMessage(content='あなたは最小限の応答をする対話エージェントです。', additional_kwargs={}, response_metadata={}), HumanMessage(content='私の好きなものはずんだ餅です。覚えておいてね。', additional_kwargs={}, response_metadata={}), AIMessage(content='了解しました。', additional_kwargs={}, response_metadata={'prompt_feedback': {'block_reason': 0, 'safety_ratings': []}, 'finish_reason': 'STOP', 'safety_ratings': []}, id='run-fcdab543-6fe8-4c5b-ba39-2b977bab1f3f-0', usage_metadata={'input_tokens': 28, 'output_tokens': 4, 'total_tokens': 32, 'input_token_details': {'cache_read': 0}})], 'llm_response': 'llm_response'}, 'channel_versions': {'__start__': '00000000000000000000000000000002.0.9625593594642714', 'query': '00000000000000000000000000000002.0.3231019898203402', 'messages': '00000000000000000000000000000004.0.42740058309830775', 'start:add_message': '00000000000000000000000000000003.0.5897117702643536', 'add_message': '00000000000000000000000000000004.0.8018719559040305', 'llm_response': '00000000000000000000000000000004.0.38473262220382043'}, 'versions_seen': {'__input__': {}, '__start__': {'__start__': '00000000000000000000000000000001.0.23226553704701292'}, 'add_message': {'start:add_message': '00000000000000000000000000000002.0.9576625866602686'}, 'llm_response': {'add_message': '00000000000000000000000000000003.0.08731325899740305'}}, 'pending_sends': []}, metadata={'source': 'loop', 'writes': {'llm_response': {'messages': [AIMessage(content='了解しました。', additional_kwargs={}, response_metadata={'prompt_feedback': {'block_reason': 0, 'safety_ratings': []}, 'finish_reason': 'STOP', 'safety_ratings': []}, id='run-fcdab543-6fe8-4c5b-ba39-2b977bab1f3f-0', usage_metadata={'input_tokens': 28, 'output_tokens': 4, 'total_tokens': 32, 'input_token_details': {'cache_read': 0}})]}}, 'step': 2, 'parents': {}}, parent_config={'configurable': {'thread_id': 'example-1', 'checkpoint_ns': '', 'checkpoint_id': '1efdac42-06c0-6ab2-8001-f1ac520c823d'}}, pending_writes=[])\n",
            "CheckpointTuple(config={'configurable': {'thread_id': 'example-1', 'checkpoint_ns': '', 'checkpoint_id': '1efdac42-06c0-6ab2-8001-f1ac520c823d'}}, checkpoint={'v': 1, 'ts': '2025-01-25T02:28:56.417122+00:00', 'id': '1efdac42-06c0-6ab2-8001-f1ac520c823d', 'channel_values': {'query': '私の好きなものはずんだ餅です。覚えておいてね。', 'messages': [SystemMessage(content='あなたは最小限の応答をする対話エージェントです。', additional_kwargs={}, response_metadata={}), HumanMessage(content='私の好きなものはずんだ餅です。覚えておいてね。', additional_kwargs={}, response_metadata={})], 'add_message': 'add_message'}, 'channel_versions': {'__start__': '00000000000000000000000000000002.0.9625593594642714', 'query': '00000000000000000000000000000002.0.3231019898203402', 'messages': '00000000000000000000000000000003.0.20764274280671502', 'start:add_message': '00000000000000000000000000000003.0.5897117702643536', 'add_message': '00000000000000000000000000000003.0.08731325899740305'}, 'versions_seen': {'__input__': {}, '__start__': {'__start__': '00000000000000000000000000000001.0.23226553704701292'}, 'add_message': {'start:add_message': '00000000000000000000000000000002.0.9576625866602686'}}, 'pending_sends': []}, metadata={'source': 'loop', 'writes': {'add_message': {'messages': [SystemMessage(content='あなたは最小限の応答をする対話エージェントです。', additional_kwargs={}, response_metadata={}), HumanMessage(content='私の好きなものはずんだ餅です。覚えておいてね。', additional_kwargs={}, response_metadata={})]}}, 'step': 1, 'parents': {}}, parent_config={'configurable': {'thread_id': 'example-1', 'checkpoint_ns': '', 'checkpoint_id': '1efdac42-06b9-650a-8000-708e381f5160'}}, pending_writes=[])\n",
            "CheckpointTuple(config={'configurable': {'thread_id': 'example-1', 'checkpoint_ns': '', 'checkpoint_id': '1efdac42-06b9-650a-8000-708e381f5160'}}, checkpoint={'v': 1, 'ts': '2025-01-25T02:28:56.414110+00:00', 'id': '1efdac42-06b9-650a-8000-708e381f5160', 'channel_values': {'query': '私の好きなものはずんだ餅です。覚えておいてね。', 'messages': [], 'start:add_message': '__start__'}, 'channel_versions': {'__start__': '00000000000000000000000000000002.0.9625593594642714', 'query': '00000000000000000000000000000002.0.3231019898203402', 'messages': '00000000000000000000000000000002.0.18110638395304957', 'start:add_message': '00000000000000000000000000000002.0.9576625866602686'}, 'versions_seen': {'__input__': {}, '__start__': {'__start__': '00000000000000000000000000000001.0.23226553704701292'}}, 'pending_sends': []}, metadata={'source': 'loop', 'writes': None, 'step': 0, 'parents': {}}, parent_config={'configurable': {'thread_id': 'example-1', 'checkpoint_ns': '', 'checkpoint_id': '1efdac42-06b0-6ddd-bfff-01421856d5bf'}}, pending_writes=[])\n",
            "CheckpointTuple(config={'configurable': {'thread_id': 'example-1', 'checkpoint_ns': '', 'checkpoint_id': '1efdac42-06b0-6ddd-bfff-01421856d5bf'}}, checkpoint={'v': 1, 'ts': '2025-01-25T02:28:56.410657+00:00', 'id': '1efdac42-06b0-6ddd-bfff-01421856d5bf', 'channel_values': {'__start__': State(query='私の好きなものはずんだ餅です。覚えておいてね。', messages=[])}, 'channel_versions': {'__start__': '00000000000000000000000000000001.0.23226553704701292'}, 'versions_seen': {'__input__': {}}, 'pending_sends': []}, metadata={'source': 'input', 'writes': {'__start__': State(query='私の好きなものはずんだ餅です。覚えておいてね。', messages=[])}, 'step': -1, 'parents': {}}, parent_config=None, pending_writes=[])\n"
          ]
        }
      ],
      "source": [
        "for checkpoint in checkpointer.list(config):\n",
        "    print(checkpoint)"
      ]
    },
    {
      "cell_type": "code",
      "execution_count": 78,
      "metadata": {
        "id": "trVD-TOxdAuh",
        "outputId": "b27be245-75d5-4602-c717-9464ce065bce",
        "colab": {
          "base_uri": "https://localhost:8080/"
        }
      },
      "outputs": [
        {
          "output_type": "stream",
          "name": "stdout",
          "text": [
            "チェックポイントデータ:\n",
            "{'channel_values': {'llm_response': 'llm_response',\n",
            "                    'messages': [SystemMessage(content='あなたは最小限の応答をする対話エージェントです。', additional_kwargs={}, response_metadata={}),\n",
            "                                 HumanMessage(content='私の好きなものはずんだ餅です。覚えておいてね。', additional_kwargs={}, response_metadata={}),\n",
            "                                 AIMessage(content='了解しました。', additional_kwargs={}, response_metadata={'prompt_feedback': {'block_reason': 0, 'safety_ratings': []}, 'finish_reason': 'STOP', 'safety_ratings': []}, id='run-fcdab543-6fe8-4c5b-ba39-2b977bab1f3f-0', usage_metadata={'input_tokens': 28, 'output_tokens': 4, 'total_tokens': 32, 'input_token_details': {'cache_read': 0}})],\n",
            "                    'query': '私の好きなものはずんだ餅です。覚えておいてね。'},\n",
            " 'channel_versions': {'__start__': '00000000000000000000000000000002.0.9625593594642714',\n",
            "                      'add_message': '00000000000000000000000000000004.0.8018719559040305',\n",
            "                      'llm_response': '00000000000000000000000000000004.0.38473262220382043',\n",
            "                      'messages': '00000000000000000000000000000004.0.42740058309830775',\n",
            "                      'query': '00000000000000000000000000000002.0.3231019898203402',\n",
            "                      'start:add_message': '00000000000000000000000000000003.0.5897117702643536'},\n",
            " 'id': '1efdac42-0ab7-62f0-8002-d464bb36a6ff',\n",
            " 'pending_sends': [],\n",
            " 'ts': '2025-01-25T02:28:56.832657+00:00',\n",
            " 'v': 1,\n",
            " 'versions_seen': {'__input__': {},\n",
            "                   '__start__': {'__start__': '00000000000000000000000000000001.0.23226553704701292'},\n",
            "                   'add_message': {'start:add_message': '00000000000000000000000000000002.0.9576625866602686'},\n",
            "                   'llm_response': {'add_message': '00000000000000000000000000000003.0.08731325899740305'}}}\n",
            "\n",
            "メタデータ:\n",
            "{'parents': {},\n",
            " 'source': 'loop',\n",
            " 'step': 2,\n",
            " 'writes': {'llm_response': {'messages': [AIMessage(content='了解しました。', additional_kwargs={}, response_metadata={'prompt_feedback': {'block_reason': 0, 'safety_ratings': []}, 'finish_reason': 'STOP', 'safety_ratings': []}, id='run-fcdab543-6fe8-4c5b-ba39-2b977bab1f3f-0', usage_metadata={'input_tokens': 28, 'output_tokens': 4, 'total_tokens': 32, 'input_token_details': {'cache_read': 0}})]}}}\n"
          ]
        }
      ],
      "source": [
        "print_checkpoint_dump(checkpointer, config)"
      ]
    },
    {
      "cell_type": "code",
      "execution_count": 79,
      "metadata": {
        "id": "TbdKDoIndAuh",
        "outputId": "b2713638-2f3c-4acc-9bba-f98cbfb7f356",
        "colab": {
          "base_uri": "https://localhost:8080/"
        }
      },
      "outputs": [
        {
          "output_type": "execute_result",
          "data": {
            "text/plain": [
              "{'query': '私の好物は何か覚えてる？',\n",
              " 'messages': [SystemMessage(content='あなたは最小限の応答をする対話エージェントです。', additional_kwargs={}, response_metadata={}),\n",
              "  HumanMessage(content='私の好きなものはずんだ餅です。覚えておいてね。', additional_kwargs={}, response_metadata={}),\n",
              "  AIMessage(content='了解しました。', additional_kwargs={}, response_metadata={'prompt_feedback': {'block_reason': 0, 'safety_ratings': []}, 'finish_reason': 'STOP', 'safety_ratings': []}, id='run-fcdab543-6fe8-4c5b-ba39-2b977bab1f3f-0', usage_metadata={'input_tokens': 28, 'output_tokens': 4, 'total_tokens': 32, 'input_token_details': {'cache_read': 0}}),\n",
              "  HumanMessage(content='私の好物は何か覚えてる？', additional_kwargs={}, response_metadata={}),\n",
              "  AIMessage(content='ずんだ餅です。', additional_kwargs={}, response_metadata={'prompt_feedback': {'block_reason': 0, 'safety_ratings': []}, 'finish_reason': 'STOP', 'safety_ratings': []}, id='run-46f96136-0766-4805-a3bb-215e35c59271-0', usage_metadata={'input_tokens': 40, 'output_tokens': 6, 'total_tokens': 46, 'input_token_details': {'cache_read': 0}})]}"
            ]
          },
          "metadata": {},
          "execution_count": 79
        }
      ],
      "source": [
        "user_query = State(query=\"私の好物は何か覚えてる？\")\n",
        "second_response = compiled_graph.invoke(user_query, config)\n",
        "second_response"
      ]
    },
    {
      "cell_type": "code",
      "execution_count": 80,
      "metadata": {
        "id": "DlgDYcd4dAuh",
        "outputId": "49ce7caa-f59e-4fb4-e1fe-d473b0394a0b",
        "colab": {
          "base_uri": "https://localhost:8080/"
        }
      },
      "outputs": [
        {
          "output_type": "stream",
          "name": "stdout",
          "text": [
            "CheckpointTuple(config={'configurable': {'thread_id': 'example-1', 'checkpoint_ns': '', 'checkpoint_id': '1efdac44-96d3-6b9e-8006-e7b99646891d'}}, checkpoint={'v': 1, 'ts': '2025-01-25T02:30:05.211504+00:00', 'id': '1efdac44-96d3-6b9e-8006-e7b99646891d', 'channel_values': {'query': '私の好物は何か覚えてる？', 'messages': [SystemMessage(content='あなたは最小限の応答をする対話エージェントです。', additional_kwargs={}, response_metadata={}), HumanMessage(content='私の好きなものはずんだ餅です。覚えておいてね。', additional_kwargs={}, response_metadata={}), AIMessage(content='了解しました。', additional_kwargs={}, response_metadata={'prompt_feedback': {'block_reason': 0, 'safety_ratings': []}, 'finish_reason': 'STOP', 'safety_ratings': []}, id='run-fcdab543-6fe8-4c5b-ba39-2b977bab1f3f-0', usage_metadata={'input_tokens': 28, 'output_tokens': 4, 'total_tokens': 32, 'input_token_details': {'cache_read': 0}}), HumanMessage(content='私の好物は何か覚えてる？', additional_kwargs={}, response_metadata={}), AIMessage(content='ずんだ餅です。', additional_kwargs={}, response_metadata={'prompt_feedback': {'block_reason': 0, 'safety_ratings': []}, 'finish_reason': 'STOP', 'safety_ratings': []}, id='run-46f96136-0766-4805-a3bb-215e35c59271-0', usage_metadata={'input_tokens': 40, 'output_tokens': 6, 'total_tokens': 46, 'input_token_details': {'cache_read': 0}})], 'llm_response': 'llm_response'}, 'channel_versions': {'__start__': '00000000000000000000000000000006.0.24287657918670413', 'query': '00000000000000000000000000000006.0.12140760231112502', 'messages': '00000000000000000000000000000008.0.0757677752995558', 'start:add_message': '00000000000000000000000000000007.0.2067682893544892', 'add_message': '00000000000000000000000000000008.0.26569538695447537', 'llm_response': '00000000000000000000000000000008.0.6287555205822166'}, 'versions_seen': {'__input__': {}, '__start__': {'__start__': '00000000000000000000000000000005.0.4025232351215112'}, 'add_message': {'start:add_message': '00000000000000000000000000000006.0.8330370967906525'}, 'llm_response': {'add_message': '00000000000000000000000000000007.0.2940010521551767'}}, 'pending_sends': []}, metadata={'source': 'loop', 'writes': {'llm_response': {'messages': [AIMessage(content='ずんだ餅です。', additional_kwargs={}, response_metadata={'prompt_feedback': {'block_reason': 0, 'safety_ratings': []}, 'finish_reason': 'STOP', 'safety_ratings': []}, id='run-46f96136-0766-4805-a3bb-215e35c59271-0', usage_metadata={'input_tokens': 40, 'output_tokens': 6, 'total_tokens': 46, 'input_token_details': {'cache_read': 0}})]}}, 'step': 6, 'parents': {}}, parent_config={'configurable': {'thread_id': 'example-1', 'checkpoint_ns': '', 'checkpoint_id': '1efdac44-91eb-6da0-8005-f4e9569d125e'}}, pending_writes=[])\n",
            "CheckpointTuple(config={'configurable': {'thread_id': 'example-1', 'checkpoint_ns': '', 'checkpoint_id': '1efdac44-91eb-6da0-8005-f4e9569d125e'}}, checkpoint={'v': 1, 'ts': '2025-01-25T02:30:04.697108+00:00', 'id': '1efdac44-91eb-6da0-8005-f4e9569d125e', 'channel_values': {'query': '私の好物は何か覚えてる？', 'messages': [SystemMessage(content='あなたは最小限の応答をする対話エージェントです。', additional_kwargs={}, response_metadata={}), HumanMessage(content='私の好きなものはずんだ餅です。覚えておいてね。', additional_kwargs={}, response_metadata={}), AIMessage(content='了解しました。', additional_kwargs={}, response_metadata={'prompt_feedback': {'block_reason': 0, 'safety_ratings': []}, 'finish_reason': 'STOP', 'safety_ratings': []}, id='run-fcdab543-6fe8-4c5b-ba39-2b977bab1f3f-0', usage_metadata={'input_tokens': 28, 'output_tokens': 4, 'total_tokens': 32, 'input_token_details': {'cache_read': 0}}), HumanMessage(content='私の好物は何か覚えてる？', additional_kwargs={}, response_metadata={})], 'add_message': 'add_message'}, 'channel_versions': {'__start__': '00000000000000000000000000000006.0.24287657918670413', 'query': '00000000000000000000000000000006.0.12140760231112502', 'messages': '00000000000000000000000000000007.0.05154062342065047', 'start:add_message': '00000000000000000000000000000007.0.2067682893544892', 'add_message': '00000000000000000000000000000007.0.2940010521551767', 'llm_response': '00000000000000000000000000000005.0.6333033570825863'}, 'versions_seen': {'__input__': {}, '__start__': {'__start__': '00000000000000000000000000000005.0.4025232351215112'}, 'add_message': {'start:add_message': '00000000000000000000000000000006.0.8330370967906525'}, 'llm_response': {'add_message': '00000000000000000000000000000003.0.08731325899740305'}}, 'pending_sends': []}, metadata={'source': 'loop', 'writes': {'add_message': {'messages': [HumanMessage(content='私の好物は何か覚えてる？', additional_kwargs={}, response_metadata={})]}}, 'step': 5, 'parents': {}}, parent_config={'configurable': {'thread_id': 'example-1', 'checkpoint_ns': '', 'checkpoint_id': '1efdac44-91e2-6b1f-8004-4810251e395d'}}, pending_writes=[])\n",
            "CheckpointTuple(config={'configurable': {'thread_id': 'example-1', 'checkpoint_ns': '', 'checkpoint_id': '1efdac44-91e2-6b1f-8004-4810251e395d'}}, checkpoint={'v': 1, 'ts': '2025-01-25T02:30:04.693348+00:00', 'id': '1efdac44-91e2-6b1f-8004-4810251e395d', 'channel_values': {'query': '私の好物は何か覚えてる？', 'messages': [SystemMessage(content='あなたは最小限の応答をする対話エージェントです。', additional_kwargs={}, response_metadata={}), HumanMessage(content='私の好きなものはずんだ餅です。覚えておいてね。', additional_kwargs={}, response_metadata={}), AIMessage(content='了解しました。', additional_kwargs={}, response_metadata={'prompt_feedback': {'block_reason': 0, 'safety_ratings': []}, 'finish_reason': 'STOP', 'safety_ratings': []}, id='run-fcdab543-6fe8-4c5b-ba39-2b977bab1f3f-0', usage_metadata={'input_tokens': 28, 'output_tokens': 4, 'total_tokens': 32, 'input_token_details': {'cache_read': 0}})], 'start:add_message': '__start__'}, 'channel_versions': {'__start__': '00000000000000000000000000000006.0.24287657918670413', 'query': '00000000000000000000000000000006.0.12140760231112502', 'messages': '00000000000000000000000000000006.0.3796574644590832', 'start:add_message': '00000000000000000000000000000006.0.8330370967906525', 'add_message': '00000000000000000000000000000004.0.8018719559040305', 'llm_response': '00000000000000000000000000000005.0.6333033570825863'}, 'versions_seen': {'__input__': {}, '__start__': {'__start__': '00000000000000000000000000000005.0.4025232351215112'}, 'add_message': {'start:add_message': '00000000000000000000000000000002.0.9576625866602686'}, 'llm_response': {'add_message': '00000000000000000000000000000003.0.08731325899740305'}}, 'pending_sends': []}, metadata={'source': 'loop', 'writes': None, 'step': 4, 'parents': {}}, parent_config={'configurable': {'thread_id': 'example-1', 'checkpoint_ns': '', 'checkpoint_id': '1efdac44-91d8-691c-8003-40c269a85437'}}, pending_writes=[])\n",
            "CheckpointTuple(config={'configurable': {'thread_id': 'example-1', 'checkpoint_ns': '', 'checkpoint_id': '1efdac44-91d8-691c-8003-40c269a85437'}}, checkpoint={'v': 1, 'ts': '2025-01-25T02:30:04.689205+00:00', 'id': '1efdac44-91d8-691c-8003-40c269a85437', 'channel_values': {'query': '私の好きなものはずんだ餅です。覚えておいてね。', 'messages': [SystemMessage(content='あなたは最小限の応答をする対話エージェントです。', additional_kwargs={}, response_metadata={}), HumanMessage(content='私の好きなものはずんだ餅です。覚えておいてね。', additional_kwargs={}, response_metadata={}), AIMessage(content='了解しました。', additional_kwargs={}, response_metadata={'prompt_feedback': {'block_reason': 0, 'safety_ratings': []}, 'finish_reason': 'STOP', 'safety_ratings': []}, id='run-fcdab543-6fe8-4c5b-ba39-2b977bab1f3f-0', usage_metadata={'input_tokens': 28, 'output_tokens': 4, 'total_tokens': 32, 'input_token_details': {'cache_read': 0}})], '__start__': State(query='私の好物は何か覚えてる？', messages=[])}, 'channel_versions': {'__start__': '00000000000000000000000000000005.0.4025232351215112', 'query': '00000000000000000000000000000002.0.3231019898203402', 'messages': '00000000000000000000000000000004.0.42740058309830775', 'start:add_message': '00000000000000000000000000000003.0.5897117702643536', 'add_message': '00000000000000000000000000000004.0.8018719559040305', 'llm_response': '00000000000000000000000000000005.0.6333033570825863'}, 'versions_seen': {'__input__': {}, '__start__': {'__start__': '00000000000000000000000000000001.0.23226553704701292'}, 'add_message': {'start:add_message': '00000000000000000000000000000002.0.9576625866602686'}, 'llm_response': {'add_message': '00000000000000000000000000000003.0.08731325899740305'}}, 'pending_sends': []}, metadata={'source': 'input', 'writes': {'__start__': State(query='私の好物は何か覚えてる？', messages=[])}, 'step': 3, 'parents': {}}, parent_config={'configurable': {'thread_id': 'example-1', 'checkpoint_ns': '', 'checkpoint_id': '1efdac42-0ab7-62f0-8002-d464bb36a6ff'}}, pending_writes=[])\n",
            "CheckpointTuple(config={'configurable': {'thread_id': 'example-1', 'checkpoint_ns': '', 'checkpoint_id': '1efdac42-0ab7-62f0-8002-d464bb36a6ff'}}, checkpoint={'v': 1, 'ts': '2025-01-25T02:28:56.832657+00:00', 'id': '1efdac42-0ab7-62f0-8002-d464bb36a6ff', 'channel_values': {'query': '私の好きなものはずんだ餅です。覚えておいてね。', 'messages': [SystemMessage(content='あなたは最小限の応答をする対話エージェントです。', additional_kwargs={}, response_metadata={}), HumanMessage(content='私の好きなものはずんだ餅です。覚えておいてね。', additional_kwargs={}, response_metadata={}), AIMessage(content='了解しました。', additional_kwargs={}, response_metadata={'prompt_feedback': {'block_reason': 0, 'safety_ratings': []}, 'finish_reason': 'STOP', 'safety_ratings': []}, id='run-fcdab543-6fe8-4c5b-ba39-2b977bab1f3f-0', usage_metadata={'input_tokens': 28, 'output_tokens': 4, 'total_tokens': 32, 'input_token_details': {'cache_read': 0}})], 'llm_response': 'llm_response'}, 'channel_versions': {'__start__': '00000000000000000000000000000002.0.9625593594642714', 'query': '00000000000000000000000000000002.0.3231019898203402', 'messages': '00000000000000000000000000000004.0.42740058309830775', 'start:add_message': '00000000000000000000000000000003.0.5897117702643536', 'add_message': '00000000000000000000000000000004.0.8018719559040305', 'llm_response': '00000000000000000000000000000004.0.38473262220382043'}, 'versions_seen': {'__input__': {}, '__start__': {'__start__': '00000000000000000000000000000001.0.23226553704701292'}, 'add_message': {'start:add_message': '00000000000000000000000000000002.0.9576625866602686'}, 'llm_response': {'add_message': '00000000000000000000000000000003.0.08731325899740305'}}, 'pending_sends': []}, metadata={'source': 'loop', 'writes': {'llm_response': {'messages': [AIMessage(content='了解しました。', additional_kwargs={}, response_metadata={'prompt_feedback': {'block_reason': 0, 'safety_ratings': []}, 'finish_reason': 'STOP', 'safety_ratings': []}, id='run-fcdab543-6fe8-4c5b-ba39-2b977bab1f3f-0', usage_metadata={'input_tokens': 28, 'output_tokens': 4, 'total_tokens': 32, 'input_token_details': {'cache_read': 0}})]}}, 'step': 2, 'parents': {}}, parent_config={'configurable': {'thread_id': 'example-1', 'checkpoint_ns': '', 'checkpoint_id': '1efdac42-06c0-6ab2-8001-f1ac520c823d'}}, pending_writes=[])\n",
            "CheckpointTuple(config={'configurable': {'thread_id': 'example-1', 'checkpoint_ns': '', 'checkpoint_id': '1efdac42-06c0-6ab2-8001-f1ac520c823d'}}, checkpoint={'v': 1, 'ts': '2025-01-25T02:28:56.417122+00:00', 'id': '1efdac42-06c0-6ab2-8001-f1ac520c823d', 'channel_values': {'query': '私の好きなものはずんだ餅です。覚えておいてね。', 'messages': [SystemMessage(content='あなたは最小限の応答をする対話エージェントです。', additional_kwargs={}, response_metadata={}), HumanMessage(content='私の好きなものはずんだ餅です。覚えておいてね。', additional_kwargs={}, response_metadata={})], 'add_message': 'add_message'}, 'channel_versions': {'__start__': '00000000000000000000000000000002.0.9625593594642714', 'query': '00000000000000000000000000000002.0.3231019898203402', 'messages': '00000000000000000000000000000003.0.20764274280671502', 'start:add_message': '00000000000000000000000000000003.0.5897117702643536', 'add_message': '00000000000000000000000000000003.0.08731325899740305'}, 'versions_seen': {'__input__': {}, '__start__': {'__start__': '00000000000000000000000000000001.0.23226553704701292'}, 'add_message': {'start:add_message': '00000000000000000000000000000002.0.9576625866602686'}}, 'pending_sends': []}, metadata={'source': 'loop', 'writes': {'add_message': {'messages': [SystemMessage(content='あなたは最小限の応答をする対話エージェントです。', additional_kwargs={}, response_metadata={}), HumanMessage(content='私の好きなものはずんだ餅です。覚えておいてね。', additional_kwargs={}, response_metadata={})]}}, 'step': 1, 'parents': {}}, parent_config={'configurable': {'thread_id': 'example-1', 'checkpoint_ns': '', 'checkpoint_id': '1efdac42-06b9-650a-8000-708e381f5160'}}, pending_writes=[])\n",
            "CheckpointTuple(config={'configurable': {'thread_id': 'example-1', 'checkpoint_ns': '', 'checkpoint_id': '1efdac42-06b9-650a-8000-708e381f5160'}}, checkpoint={'v': 1, 'ts': '2025-01-25T02:28:56.414110+00:00', 'id': '1efdac42-06b9-650a-8000-708e381f5160', 'channel_values': {'query': '私の好きなものはずんだ餅です。覚えておいてね。', 'messages': [], 'start:add_message': '__start__'}, 'channel_versions': {'__start__': '00000000000000000000000000000002.0.9625593594642714', 'query': '00000000000000000000000000000002.0.3231019898203402', 'messages': '00000000000000000000000000000002.0.18110638395304957', 'start:add_message': '00000000000000000000000000000002.0.9576625866602686'}, 'versions_seen': {'__input__': {}, '__start__': {'__start__': '00000000000000000000000000000001.0.23226553704701292'}}, 'pending_sends': []}, metadata={'source': 'loop', 'writes': None, 'step': 0, 'parents': {}}, parent_config={'configurable': {'thread_id': 'example-1', 'checkpoint_ns': '', 'checkpoint_id': '1efdac42-06b0-6ddd-bfff-01421856d5bf'}}, pending_writes=[])\n",
            "CheckpointTuple(config={'configurable': {'thread_id': 'example-1', 'checkpoint_ns': '', 'checkpoint_id': '1efdac42-06b0-6ddd-bfff-01421856d5bf'}}, checkpoint={'v': 1, 'ts': '2025-01-25T02:28:56.410657+00:00', 'id': '1efdac42-06b0-6ddd-bfff-01421856d5bf', 'channel_values': {'__start__': State(query='私の好きなものはずんだ餅です。覚えておいてね。', messages=[])}, 'channel_versions': {'__start__': '00000000000000000000000000000001.0.23226553704701292'}, 'versions_seen': {'__input__': {}}, 'pending_sends': []}, metadata={'source': 'input', 'writes': {'__start__': State(query='私の好きなものはずんだ餅です。覚えておいてね。', messages=[])}, 'step': -1, 'parents': {}}, parent_config=None, pending_writes=[])\n"
          ]
        }
      ],
      "source": [
        "for checkpoint in checkpointer.list(config):\n",
        "    print(checkpoint)"
      ]
    },
    {
      "cell_type": "code",
      "execution_count": 81,
      "metadata": {
        "id": "uEaKM19SdAuh",
        "outputId": "3585e3a6-7e59-4030-e264-531cdc6b90a6",
        "colab": {
          "base_uri": "https://localhost:8080/"
        }
      },
      "outputs": [
        {
          "output_type": "stream",
          "name": "stdout",
          "text": [
            "チェックポイントデータ:\n",
            "{'channel_values': {'llm_response': 'llm_response',\n",
            "                    'messages': [SystemMessage(content='あなたは最小限の応答をする対話エージェントです。', additional_kwargs={}, response_metadata={}),\n",
            "                                 HumanMessage(content='私の好きなものはずんだ餅です。覚えておいてね。', additional_kwargs={}, response_metadata={}),\n",
            "                                 AIMessage(content='了解しました。', additional_kwargs={}, response_metadata={'prompt_feedback': {'block_reason': 0, 'safety_ratings': []}, 'finish_reason': 'STOP', 'safety_ratings': []}, id='run-fcdab543-6fe8-4c5b-ba39-2b977bab1f3f-0', usage_metadata={'input_tokens': 28, 'output_tokens': 4, 'total_tokens': 32, 'input_token_details': {'cache_read': 0}}),\n",
            "                                 HumanMessage(content='私の好物は何か覚えてる？', additional_kwargs={}, response_metadata={}),\n",
            "                                 AIMessage(content='ずんだ餅です。', additional_kwargs={}, response_metadata={'prompt_feedback': {'block_reason': 0, 'safety_ratings': []}, 'finish_reason': 'STOP', 'safety_ratings': []}, id='run-46f96136-0766-4805-a3bb-215e35c59271-0', usage_metadata={'input_tokens': 40, 'output_tokens': 6, 'total_tokens': 46, 'input_token_details': {'cache_read': 0}})],\n",
            "                    'query': '私の好物は何か覚えてる？'},\n",
            " 'channel_versions': {'__start__': '00000000000000000000000000000006.0.24287657918670413',\n",
            "                      'add_message': '00000000000000000000000000000008.0.26569538695447537',\n",
            "                      'llm_response': '00000000000000000000000000000008.0.6287555205822166',\n",
            "                      'messages': '00000000000000000000000000000008.0.0757677752995558',\n",
            "                      'query': '00000000000000000000000000000006.0.12140760231112502',\n",
            "                      'start:add_message': '00000000000000000000000000000007.0.2067682893544892'},\n",
            " 'id': '1efdac44-96d3-6b9e-8006-e7b99646891d',\n",
            " 'pending_sends': [],\n",
            " 'ts': '2025-01-25T02:30:05.211504+00:00',\n",
            " 'v': 1,\n",
            " 'versions_seen': {'__input__': {},\n",
            "                   '__start__': {'__start__': '00000000000000000000000000000005.0.4025232351215112'},\n",
            "                   'add_message': {'start:add_message': '00000000000000000000000000000006.0.8330370967906525'},\n",
            "                   'llm_response': {'add_message': '00000000000000000000000000000007.0.2940010521551767'}}}\n",
            "\n",
            "メタデータ:\n",
            "{'parents': {},\n",
            " 'source': 'loop',\n",
            " 'step': 6,\n",
            " 'writes': {'llm_response': {'messages': [AIMessage(content='ずんだ餅です。', additional_kwargs={}, response_metadata={'prompt_feedback': {'block_reason': 0, 'safety_ratings': []}, 'finish_reason': 'STOP', 'safety_ratings': []}, id='run-46f96136-0766-4805-a3bb-215e35c59271-0', usage_metadata={'input_tokens': 40, 'output_tokens': 6, 'total_tokens': 46, 'input_token_details': {'cache_read': 0}})]}}}\n"
          ]
        }
      ],
      "source": [
        "print_checkpoint_dump(checkpointer, config)"
      ]
    },
    {
      "cell_type": "code",
      "execution_count": 82,
      "metadata": {
        "id": "1WPlok_YdAuh",
        "outputId": "46f01673-9e96-4ccd-cf19-d33cffd9edb6",
        "colab": {
          "base_uri": "https://localhost:8080/"
        }
      },
      "outputs": [
        {
          "output_type": "execute_result",
          "data": {
            "text/plain": [
              "{'query': '私の好物は何？',\n",
              " 'messages': [SystemMessage(content='あなたは最小限の応答をする対話エージェントです。', additional_kwargs={}, response_metadata={}),\n",
              "  HumanMessage(content='私の好物は何？', additional_kwargs={}, response_metadata={}),\n",
              "  AIMessage(content='分かりません。', additional_kwargs={}, response_metadata={'prompt_feedback': {'block_reason': 0, 'safety_ratings': []}, 'finish_reason': 'STOP', 'safety_ratings': []}, id='run-5e870a06-aa56-4c9b-b688-cdb3b3559cc2-0', usage_metadata={'input_tokens': 20, 'output_tokens': 4, 'total_tokens': 24, 'input_token_details': {'cache_read': 0}})]}"
            ]
          },
          "metadata": {},
          "execution_count": 82
        }
      ],
      "source": [
        "config = {\"configurable\": {\"thread_id\": \"example-2\"}}\n",
        "user_query = State(query=\"私の好物は何？\")\n",
        "other_thread_response = compiled_graph.invoke(user_query, config)\n",
        "other_thread_response"
      ]
    }
  ],
  "metadata": {
    "kernelspec": {
      "display_name": "Python 3",
      "language": "python",
      "name": "python3"
    },
    "language_info": {
      "codemirror_mode": {
        "name": "ipython",
        "version": 3
      },
      "file_extension": ".py",
      "mimetype": "text/x-python",
      "name": "python",
      "nbconvert_exporter": "python",
      "pygments_lexer": "ipython3",
      "version": "3.11.8"
    },
    "colab": {
      "provenance": []
    }
  },
  "nbformat": 4,
  "nbformat_minor": 0
}