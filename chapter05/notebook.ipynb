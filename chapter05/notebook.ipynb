{
  "cells": [
    {
      "cell_type": "markdown",
      "metadata": {
        "id": "u715evW-ARFG"
      },
      "source": [
        "# 5. LangChain Expression Language（LCEL）徹底解説\n"
      ]
    },
    {
      "cell_type": "code",
      "execution_count": 1,
      "metadata": {
        "execution": {
          "iopub.execute_input": "2024-06-28T02:32:34.489407Z",
          "iopub.status.busy": "2024-06-28T02:32:34.488775Z",
          "iopub.status.idle": "2024-06-28T02:32:34.491583Z",
          "shell.execute_reply": "2024-06-28T02:32:34.491086Z"
        },
        "id": "50w0lWT2ARFI"
      },
      "outputs": [],
      "source": [
        "import os\n",
        "from google.colab import userdata\n",
        "\n",
        "# os.environ[\"OPENAI_API_KEY\"] = userdata.get(\"OPENAI_API_KEY\")\n",
        "os.environ[\"GOOGLE_API_KEY\"] = userdata.get(\"GOOGLE_API_KEY\")\n",
        "os.environ[\"LANGCHAIN_TRACING_V2\"] = \"true\"\n",
        "os.environ[\"LANGCHAIN_ENDPOINT\"] = \"https://api.smith.langchain.com\"\n",
        "os.environ[\"LANGCHAIN_API_KEY\"] = userdata.get(\"LANGCHAIN_API_KEY\")\n",
        "os.environ[\"LANGCHAIN_PROJECT\"] = \"agent-book\""
      ]
    },
    {
      "cell_type": "code",
      "execution_count": 2,
      "metadata": {
        "id": "CTLVZHm0ARFJ",
        "outputId": "355ee238-6ded-46a3-e906-d581004955f4",
        "colab": {
          "base_uri": "https://localhost:8080/"
        }
      },
      "outputs": [
        {
          "output_type": "stream",
          "name": "stdout",
          "text": [
            "Requirement already satisfied: langchain-core==0.3.0 in /usr/local/lib/python3.11/dist-packages (0.3.0)\n",
            "Requirement already satisfied: langchain_google_genai in /usr/local/lib/python3.11/dist-packages (2.0.1)\n",
            "Requirement already satisfied: langchain-community==0.3.0 in /usr/local/lib/python3.11/dist-packages (0.3.0)\n",
            "Requirement already satisfied: PyYAML>=5.3 in /usr/local/lib/python3.11/dist-packages (from langchain-core==0.3.0) (6.0.2)\n",
            "Requirement already satisfied: jsonpatch<2.0,>=1.33 in /usr/local/lib/python3.11/dist-packages (from langchain-core==0.3.0) (1.33)\n",
            "Requirement already satisfied: langsmith<0.2.0,>=0.1.117 in /usr/local/lib/python3.11/dist-packages (from langchain-core==0.3.0) (0.1.147)\n",
            "Requirement already satisfied: packaging<25,>=23.2 in /usr/local/lib/python3.11/dist-packages (from langchain-core==0.3.0) (24.2)\n",
            "Requirement already satisfied: pydantic<3.0.0,>=2.5.2 in /usr/local/lib/python3.11/dist-packages (from langchain-core==0.3.0) (2.10.5)\n",
            "Requirement already satisfied: tenacity!=8.4.0,<9.0.0,>=8.1.0 in /usr/local/lib/python3.11/dist-packages (from langchain-core==0.3.0) (8.5.0)\n",
            "Requirement already satisfied: typing-extensions>=4.7 in /usr/local/lib/python3.11/dist-packages (from langchain-core==0.3.0) (4.12.2)\n",
            "Requirement already satisfied: SQLAlchemy<3,>=1.4 in /usr/local/lib/python3.11/dist-packages (from langchain-community==0.3.0) (2.0.37)\n",
            "Requirement already satisfied: aiohttp<4.0.0,>=3.8.3 in /usr/local/lib/python3.11/dist-packages (from langchain-community==0.3.0) (3.11.11)\n",
            "Requirement already satisfied: dataclasses-json<0.7,>=0.5.7 in /usr/local/lib/python3.11/dist-packages (from langchain-community==0.3.0) (0.6.7)\n",
            "Requirement already satisfied: langchain<0.4.0,>=0.3.0 in /usr/local/lib/python3.11/dist-packages (from langchain-community==0.3.0) (0.3.0)\n",
            "Requirement already satisfied: numpy<2,>=1 in /usr/local/lib/python3.11/dist-packages (from langchain-community==0.3.0) (1.26.4)\n",
            "Requirement already satisfied: pydantic-settings<3.0.0,>=2.4.0 in /usr/local/lib/python3.11/dist-packages (from langchain-community==0.3.0) (2.7.1)\n",
            "Requirement already satisfied: requests<3,>=2 in /usr/local/lib/python3.11/dist-packages (from langchain-community==0.3.0) (2.32.3)\n",
            "Requirement already satisfied: google-generativeai<0.9.0,>=0.8.0 in /usr/local/lib/python3.11/dist-packages (from langchain_google_genai) (0.8.4)\n",
            "Requirement already satisfied: aiohappyeyeballs>=2.3.0 in /usr/local/lib/python3.11/dist-packages (from aiohttp<4.0.0,>=3.8.3->langchain-community==0.3.0) (2.4.4)\n",
            "Requirement already satisfied: aiosignal>=1.1.2 in /usr/local/lib/python3.11/dist-packages (from aiohttp<4.0.0,>=3.8.3->langchain-community==0.3.0) (1.3.2)\n",
            "Requirement already satisfied: attrs>=17.3.0 in /usr/local/lib/python3.11/dist-packages (from aiohttp<4.0.0,>=3.8.3->langchain-community==0.3.0) (24.3.0)\n",
            "Requirement already satisfied: frozenlist>=1.1.1 in /usr/local/lib/python3.11/dist-packages (from aiohttp<4.0.0,>=3.8.3->langchain-community==0.3.0) (1.5.0)\n",
            "Requirement already satisfied: multidict<7.0,>=4.5 in /usr/local/lib/python3.11/dist-packages (from aiohttp<4.0.0,>=3.8.3->langchain-community==0.3.0) (6.1.0)\n",
            "Requirement already satisfied: propcache>=0.2.0 in /usr/local/lib/python3.11/dist-packages (from aiohttp<4.0.0,>=3.8.3->langchain-community==0.3.0) (0.2.1)\n",
            "Requirement already satisfied: yarl<2.0,>=1.17.0 in /usr/local/lib/python3.11/dist-packages (from aiohttp<4.0.0,>=3.8.3->langchain-community==0.3.0) (1.18.3)\n",
            "Requirement already satisfied: marshmallow<4.0.0,>=3.18.0 in /usr/local/lib/python3.11/dist-packages (from dataclasses-json<0.7,>=0.5.7->langchain-community==0.3.0) (3.26.0)\n",
            "Requirement already satisfied: typing-inspect<1,>=0.4.0 in /usr/local/lib/python3.11/dist-packages (from dataclasses-json<0.7,>=0.5.7->langchain-community==0.3.0) (0.9.0)\n",
            "Requirement already satisfied: google-ai-generativelanguage==0.6.15 in /usr/local/lib/python3.11/dist-packages (from google-generativeai<0.9.0,>=0.8.0->langchain_google_genai) (0.6.15)\n",
            "Requirement already satisfied: google-api-core in /usr/local/lib/python3.11/dist-packages (from google-generativeai<0.9.0,>=0.8.0->langchain_google_genai) (2.19.2)\n",
            "Requirement already satisfied: google-api-python-client in /usr/local/lib/python3.11/dist-packages (from google-generativeai<0.9.0,>=0.8.0->langchain_google_genai) (2.155.0)\n",
            "Requirement already satisfied: google-auth>=2.15.0 in /usr/local/lib/python3.11/dist-packages (from google-generativeai<0.9.0,>=0.8.0->langchain_google_genai) (2.27.0)\n",
            "Requirement already satisfied: protobuf in /usr/local/lib/python3.11/dist-packages (from google-generativeai<0.9.0,>=0.8.0->langchain_google_genai) (4.25.5)\n",
            "Requirement already satisfied: tqdm in /usr/local/lib/python3.11/dist-packages (from google-generativeai<0.9.0,>=0.8.0->langchain_google_genai) (4.67.1)\n",
            "Requirement already satisfied: proto-plus<2.0.0dev,>=1.22.3 in /usr/local/lib/python3.11/dist-packages (from google-ai-generativelanguage==0.6.15->google-generativeai<0.9.0,>=0.8.0->langchain_google_genai) (1.25.0)\n",
            "Requirement already satisfied: jsonpointer>=1.9 in /usr/local/lib/python3.11/dist-packages (from jsonpatch<2.0,>=1.33->langchain-core==0.3.0) (3.0.0)\n",
            "Requirement already satisfied: langchain-text-splitters<0.4.0,>=0.3.0 in /usr/local/lib/python3.11/dist-packages (from langchain<0.4.0,>=0.3.0->langchain-community==0.3.0) (0.3.0)\n",
            "Requirement already satisfied: httpx<1,>=0.23.0 in /usr/local/lib/python3.11/dist-packages (from langsmith<0.2.0,>=0.1.117->langchain-core==0.3.0) (0.28.1)\n",
            "Requirement already satisfied: orjson<4.0.0,>=3.9.14 in /usr/local/lib/python3.11/dist-packages (from langsmith<0.2.0,>=0.1.117->langchain-core==0.3.0) (3.10.15)\n",
            "Requirement already satisfied: requests-toolbelt<2.0.0,>=1.0.0 in /usr/local/lib/python3.11/dist-packages (from langsmith<0.2.0,>=0.1.117->langchain-core==0.3.0) (1.0.0)\n",
            "Requirement already satisfied: annotated-types>=0.6.0 in /usr/local/lib/python3.11/dist-packages (from pydantic<3.0.0,>=2.5.2->langchain-core==0.3.0) (0.7.0)\n",
            "Requirement already satisfied: pydantic-core==2.27.2 in /usr/local/lib/python3.11/dist-packages (from pydantic<3.0.0,>=2.5.2->langchain-core==0.3.0) (2.27.2)\n",
            "Requirement already satisfied: python-dotenv>=0.21.0 in /usr/local/lib/python3.11/dist-packages (from pydantic-settings<3.0.0,>=2.4.0->langchain-community==0.3.0) (1.0.1)\n",
            "Requirement already satisfied: charset-normalizer<4,>=2 in /usr/local/lib/python3.11/dist-packages (from requests<3,>=2->langchain-community==0.3.0) (3.4.1)\n",
            "Requirement already satisfied: idna<4,>=2.5 in /usr/local/lib/python3.11/dist-packages (from requests<3,>=2->langchain-community==0.3.0) (3.10)\n",
            "Requirement already satisfied: urllib3<3,>=1.21.1 in /usr/local/lib/python3.11/dist-packages (from requests<3,>=2->langchain-community==0.3.0) (2.3.0)\n",
            "Requirement already satisfied: certifi>=2017.4.17 in /usr/local/lib/python3.11/dist-packages (from requests<3,>=2->langchain-community==0.3.0) (2024.12.14)\n",
            "Requirement already satisfied: greenlet!=0.4.17 in /usr/local/lib/python3.11/dist-packages (from SQLAlchemy<3,>=1.4->langchain-community==0.3.0) (3.1.1)\n",
            "Requirement already satisfied: googleapis-common-protos<2.0.dev0,>=1.56.2 in /usr/local/lib/python3.11/dist-packages (from google-api-core->google-generativeai<0.9.0,>=0.8.0->langchain_google_genai) (1.66.0)\n",
            "Requirement already satisfied: cachetools<6.0,>=2.0.0 in /usr/local/lib/python3.11/dist-packages (from google-auth>=2.15.0->google-generativeai<0.9.0,>=0.8.0->langchain_google_genai) (5.5.1)\n",
            "Requirement already satisfied: pyasn1-modules>=0.2.1 in /usr/local/lib/python3.11/dist-packages (from google-auth>=2.15.0->google-generativeai<0.9.0,>=0.8.0->langchain_google_genai) (0.4.1)\n",
            "Requirement already satisfied: rsa<5,>=3.1.4 in /usr/local/lib/python3.11/dist-packages (from google-auth>=2.15.0->google-generativeai<0.9.0,>=0.8.0->langchain_google_genai) (4.9)\n",
            "Requirement already satisfied: anyio in /usr/local/lib/python3.11/dist-packages (from httpx<1,>=0.23.0->langsmith<0.2.0,>=0.1.117->langchain-core==0.3.0) (3.7.1)\n",
            "Requirement already satisfied: httpcore==1.* in /usr/local/lib/python3.11/dist-packages (from httpx<1,>=0.23.0->langsmith<0.2.0,>=0.1.117->langchain-core==0.3.0) (1.0.7)\n",
            "Requirement already satisfied: h11<0.15,>=0.13 in /usr/local/lib/python3.11/dist-packages (from httpcore==1.*->httpx<1,>=0.23.0->langsmith<0.2.0,>=0.1.117->langchain-core==0.3.0) (0.14.0)\n",
            "Requirement already satisfied: mypy-extensions>=0.3.0 in /usr/local/lib/python3.11/dist-packages (from typing-inspect<1,>=0.4.0->dataclasses-json<0.7,>=0.5.7->langchain-community==0.3.0) (1.0.0)\n",
            "Requirement already satisfied: httplib2<1.dev0,>=0.19.0 in /usr/local/lib/python3.11/dist-packages (from google-api-python-client->google-generativeai<0.9.0,>=0.8.0->langchain_google_genai) (0.22.0)\n",
            "Requirement already satisfied: google-auth-httplib2<1.0.0,>=0.2.0 in /usr/local/lib/python3.11/dist-packages (from google-api-python-client->google-generativeai<0.9.0,>=0.8.0->langchain_google_genai) (0.2.0)\n",
            "Requirement already satisfied: uritemplate<5,>=3.0.1 in /usr/local/lib/python3.11/dist-packages (from google-api-python-client->google-generativeai<0.9.0,>=0.8.0->langchain_google_genai) (4.1.1)\n",
            "Requirement already satisfied: grpcio<2.0dev,>=1.33.2 in /usr/local/lib/python3.11/dist-packages (from google-api-core[grpc]!=2.0.*,!=2.1.*,!=2.10.*,!=2.2.*,!=2.3.*,!=2.4.*,!=2.5.*,!=2.6.*,!=2.7.*,!=2.8.*,!=2.9.*,<3.0.0dev,>=1.34.1->google-ai-generativelanguage==0.6.15->google-generativeai<0.9.0,>=0.8.0->langchain_google_genai) (1.69.0)\n",
            "Requirement already satisfied: grpcio-status<2.0.dev0,>=1.33.2 in /usr/local/lib/python3.11/dist-packages (from google-api-core[grpc]!=2.0.*,!=2.1.*,!=2.10.*,!=2.2.*,!=2.3.*,!=2.4.*,!=2.5.*,!=2.6.*,!=2.7.*,!=2.8.*,!=2.9.*,<3.0.0dev,>=1.34.1->google-ai-generativelanguage==0.6.15->google-generativeai<0.9.0,>=0.8.0->langchain_google_genai) (1.62.3)\n",
            "Requirement already satisfied: pyparsing!=3.0.0,!=3.0.1,!=3.0.2,!=3.0.3,<4,>=2.4.2 in /usr/local/lib/python3.11/dist-packages (from httplib2<1.dev0,>=0.19.0->google-api-python-client->google-generativeai<0.9.0,>=0.8.0->langchain_google_genai) (3.2.1)\n",
            "Requirement already satisfied: pyasn1<0.7.0,>=0.4.6 in /usr/local/lib/python3.11/dist-packages (from pyasn1-modules>=0.2.1->google-auth>=2.15.0->google-generativeai<0.9.0,>=0.8.0->langchain_google_genai) (0.6.1)\n",
            "Requirement already satisfied: sniffio>=1.1 in /usr/local/lib/python3.11/dist-packages (from anyio->httpx<1,>=0.23.0->langsmith<0.2.0,>=0.1.117->langchain-core==0.3.0) (1.3.1)\n"
          ]
        }
      ],
      "source": [
        "# !pip install langchain-core==0.3.0 langchain-openai==0.2.0 langchain-community==0.3.0\n",
        "!pip install langchain-core==0.3.0 langchain_google_genai langchain-community==0.3.0"
      ]
    },
    {
      "cell_type": "markdown",
      "metadata": {
        "id": "6txn1iRzARFJ"
      },
      "source": [
        "## 5.1. Runnable と RunnableSequence―LCEL の最も基本的な構成要素\n"
      ]
    },
    {
      "cell_type": "code",
      "execution_count": 5,
      "metadata": {
        "execution": {
          "iopub.execute_input": "2024-06-28T02:33:12.290335Z",
          "iopub.status.busy": "2024-06-28T02:33:12.290156Z",
          "iopub.status.idle": "2024-06-28T02:33:12.344661Z",
          "shell.execute_reply": "2024-06-28T02:33:12.344241Z"
        },
        "id": "8npzb7QqARFJ"
      },
      "outputs": [],
      "source": [
        "from langchain_core.output_parsers import StrOutputParser\n",
        "from langchain_core.prompts import ChatPromptTemplate\n",
        "# from langchain_openai import ChatOpenAI\n",
        "from langchain_google_genai import ChatGoogleGenerativeAI\n",
        "\n",
        "prompt = ChatPromptTemplate.from_messages(\n",
        "    [\n",
        "        (\"system\", \"ユーザーが入力した料理のレシピを考えてください。\"),\n",
        "        (\"human\", \"{dish}\"),\n",
        "    ]\n",
        ")\n",
        "\n",
        "model = ChatGoogleGenerativeAI(model=\"gemini-1.5-flash\", temperature=0.0) # 変更後\n",
        "\n",
        "output_parser = StrOutputParser()"
      ]
    },
    {
      "cell_type": "code",
      "execution_count": 6,
      "metadata": {
        "execution": {
          "iopub.execute_input": "2024-06-28T02:33:12.346689Z",
          "iopub.status.busy": "2024-06-28T02:33:12.346510Z",
          "iopub.status.idle": "2024-06-28T02:33:21.108437Z",
          "shell.execute_reply": "2024-06-28T02:33:21.108007Z"
        },
        "id": "lrTce3dQARFK",
        "outputId": "c06cb749-6b81-4356-8a36-26e17fa8fbcb",
        "colab": {
          "base_uri": "https://localhost:8080/"
        }
      },
      "outputs": [
        {
          "output_type": "stream",
          "name": "stdout",
          "text": [
            "「カレー」だけではレシピを絞り込めないため、いくつかバリエーションをご提案します。  どのカレーがお好みですか？\n",
            "\n",
            "**1. シンプルチキンカレー**\n",
            "\n",
            "* **材料:**\n",
            "    * 鶏むね肉: 200g (一口大に切る)\n",
            "    * 玉ねぎ: 1個 (みじん切り)\n",
            "    * ニンニク: 1かけ (みじん切り)\n",
            "    * 生姜: 1かけ (みじん切り)\n",
            "    * カレールウ: 2〜3かけ (お好みの量)\n",
            "    * 水: 500ml\n",
            "    * サラダ油: 大さじ1\n",
            "    * 塩: 少々\n",
            "    * こしょう: 少々\n",
            "    * 砂糖:小さじ1/2 (お好みで)\n",
            "\n",
            "* **作り方:**\n",
            "    1. 鍋にサラダ油を熱し、鶏肉を焼き色がつくまで炒める。\n",
            "    2. 玉ねぎ、ニンニク、生姜を加え、玉ねぎが透き通るまで炒める。\n",
            "    3. 水を加え、沸騰したら弱火にして10分ほど煮込む。\n",
            "    4. カレールウを加え、よく混ぜて溶かす。\n",
            "    5. 塩、こしょう、砂糖で味を調える。\n",
            "    6. さらに5分ほど煮込んで完成。\n",
            "\n",
            "\n",
            "**2. 野菜カレー**\n",
            "\n",
            "* **材料:**\n",
            "    * 好きな野菜 (じゃがいも、にんじん、玉ねぎ、ピーマンなど): 適量 (食べやすい大きさに切る)\n",
            "    * カレールウ: 2〜3かけ (お好みの量)\n",
            "    * 水: 500ml\n",
            "    * サラダ油: 大さじ1\n",
            "    * 塩: 少々\n",
            "    * こしょう: 少々\n",
            "    * 砂糖:小さじ1/2 (お好みで)\n",
            "\n",
            "* **作り方:**\n",
            "    1. 鍋にサラダ油を熱し、野菜を炒める。\n",
            "    2. 水を加え、沸騰したら弱火にして野菜が柔らかくなるまで煮込む。\n",
            "    3. カレールウを加え、よく混ぜて溶かす。\n",
            "    4. 塩、こしょう、砂糖で味を調える。\n",
            "    5. さらに5分ほど煮込んで完成。\n",
            "\n",
            "\n",
            "**3. スパイスカレー (本格的なカレーに挑戦したい方)**\n",
            "\n",
            "これは材料が多く、工程も複雑になりますので、レシピサイトなどを参照することをお勧めします。  例えば、「チキンマサラ」や「キーマカレー」といった具体的なカレーの種類を指定していただければ、より詳細なレシピをご提案できます。\n",
            "\n",
            "\n",
            "上記はあくまで基本的なレシピです。お好みの辛さや具材を自由にアレンジして、自分だけのオリジナルカレーを作ってみてください。  どのレシピが良いか、もしくはもっと具体的なカレーの種類（例：キーマカレー、バターチキンカレーなど）を教えていただければ、より詳細なレシピを作成します。\n",
            "\n"
          ]
        }
      ],
      "source": [
        "prompt_value = prompt.invoke({\"dish\": \"カレー\"})\n",
        "ai_message = model.invoke(prompt_value)\n",
        "output = output_parser.invoke(ai_message)\n",
        "\n",
        "print(output)"
      ]
    },
    {
      "cell_type": "code",
      "execution_count": 7,
      "metadata": {
        "execution": {
          "iopub.execute_input": "2024-06-28T02:33:21.110332Z",
          "iopub.status.busy": "2024-06-28T02:33:21.110173Z",
          "iopub.status.idle": "2024-06-28T02:33:21.112634Z",
          "shell.execute_reply": "2024-06-28T02:33:21.112238Z"
        },
        "id": "XZa3BUETARFK"
      },
      "outputs": [],
      "source": [
        "chain = prompt | model | output_parser"
      ]
    },
    {
      "cell_type": "code",
      "execution_count": 8,
      "metadata": {
        "execution": {
          "iopub.execute_input": "2024-06-28T02:33:21.114678Z",
          "iopub.status.busy": "2024-06-28T02:33:21.114418Z",
          "iopub.status.idle": "2024-06-28T02:33:26.539851Z",
          "shell.execute_reply": "2024-06-28T02:33:26.539250Z"
        },
        "id": "WHBTUMM_ARFK",
        "outputId": "cdf0eec6-dbdf-415e-b78b-83805d57f5f5",
        "colab": {
          "base_uri": "https://localhost:8080/"
        }
      },
      "outputs": [
        {
          "output_type": "stream",
          "name": "stdout",
          "text": [
            "「カレー」だけではレシピを絞り込めないため、いくつかバリエーションをご提案します。  どのカレーがお好みですか？\n",
            "\n",
            "**1. シンプルチキンカレー**\n",
            "\n",
            "* **材料:**\n",
            "    * 鶏むね肉: 200g (一口大に切る)\n",
            "    * 玉ねぎ: 1個 (みじん切り)\n",
            "    * ニンニク: 1かけ (みじん切り)\n",
            "    * 生姜: 1かけ (みじん切り)\n",
            "    * カレールウ: 2〜3かけ (お好みの量)\n",
            "    * 水: 500ml\n",
            "    * サラダ油: 大さじ1\n",
            "    * 塩: 少々\n",
            "    * こしょう: 少々\n",
            "    * 砂糖: 小さじ1 (お好みで)\n",
            "\n",
            "* **作り方:**\n",
            "    1. 鍋にサラダ油を熱し、鶏肉を焼き色がつくまで炒める。\n",
            "    2. 玉ねぎ、ニンニク、生姜を加え、玉ねぎが透き通るまで炒める。\n",
            "    3. 水を加え、沸騰したら弱火にして10分煮込む。\n",
            "    4. カレールウを加え、よく混ぜて溶かす。\n",
            "    5. 塩、こしょう、砂糖で味を調える。\n",
            "    6. さらに5分煮込んで完成。\n",
            "\n",
            "\n",
            "**2. 野菜カレー**\n",
            "\n",
            "* **材料:**\n",
            "    * 好きな野菜 (じゃがいも、にんじん、玉ねぎ、ピーマンなど): 適量 (食べやすい大きさに切る)\n",
            "    * カレールウ: 2〜3かけ (お好みの量)\n",
            "    * 水: 500ml\n",
            "    * サラダ油: 大さじ1\n",
            "    * 塩: 少々\n",
            "    * こしょう: 少々\n",
            "    * 砂糖: 小さじ1 (お好みで)\n",
            "\n",
            "* **作り方:**\n",
            "    1. 鍋にサラダ油を熱し、野菜を炒める。\n",
            "    2. 水を加え、沸騰したら弱火にして野菜が柔らかくなるまで煮込む (約15〜20分)。\n",
            "    3. カレールウを加え、よく混ぜて溶かす。\n",
            "    4. 塩、こしょう、砂糖で味を調える。\n",
            "    5. さらに5分煮込んで完成。\n",
            "\n",
            "\n",
            "**3. スパイスから作る本格チキンカレー (難易度高め)**\n",
            "\n",
            "これは材料と工程が多くなるため、詳細なレシピは別途お尋ねください。  スパイスの種類や分量、調理時間など、ご希望に合わせて調整できます。\n",
            "\n",
            "\n",
            "上記以外にも、キーマカレー、ポークカレー、シーフードカレーなど、様々なバリエーションがあります。  どのカレーをご希望か、または、どのような特徴のカレー（辛さ、具材など）をご希望か教えていただければ、より具体的なレシピをご提案できます。\n",
            "\n"
          ]
        }
      ],
      "source": [
        "output = chain.invoke({\"dish\": \"カレー\"})\n",
        "print(output)"
      ]
    },
    {
      "cell_type": "markdown",
      "metadata": {
        "id": "57FNWlRNARFK"
      },
      "source": [
        "### Runnable の実行方法―invoke・stream・batch\n"
      ]
    },
    {
      "cell_type": "code",
      "execution_count": 9,
      "metadata": {
        "execution": {
          "iopub.execute_input": "2024-06-28T02:33:26.545129Z",
          "iopub.status.busy": "2024-06-28T02:33:26.544905Z",
          "iopub.status.idle": "2024-06-28T02:33:32.478679Z",
          "shell.execute_reply": "2024-06-28T02:33:32.478134Z"
        },
        "id": "1numXwVzARFK",
        "outputId": "5237cd27-71a4-4459-dc12-fa635d02ee0e",
        "colab": {
          "base_uri": "https://localhost:8080/"
        }
      },
      "outputs": [
        {
          "output_type": "stream",
          "name": "stdout",
          "text": [
            "「カレー」だけではレシピを絞り込めないため、いくつかバリエーションをご提案します。  どのカレーがお好みですか？\n",
            "\n",
            "**1. シンプルチキンカレー**\n",
            "\n",
            "* **材料:**\n",
            "    * 鶏むね肉: 200g (一口大に切る)\n",
            "    * 玉ねぎ: 1個 (みじん切り)\n",
            "    * ニンニク: 1かけ (みじん切り)\n",
            "    * 生姜: 1かけ (みじん切り)\n",
            "    * カレールウ: 2〜3かけ (お好みの量)\n",
            "    * 水: 500ml\n",
            "    * サラダ油: 大さじ1\n",
            "    * 塩: 少々\n",
            "    * こしょう: 少々\n",
            "    * 砂糖:小さじ1/2 (お好みで)\n",
            "\n",
            "* **作り方:**\n",
            "    1. 鍋にサラダ油を熱し、鶏肉を焼き色がつくまで炒める。\n",
            "    2. 玉ねぎ、ニンニク、生姜を加え、玉ねぎが透き通るまで炒める。\n",
            "    3. 水を加え、沸騰したら弱火にして10分煮込む。\n",
            "    4. カレールウを加え、よく混ぜて溶かす。\n",
            "    5. 塩、こしょう、砂糖で味を調える。\n",
            "    6. さらに5分煮込んで完成。\n",
            "\n",
            "\n",
            "**2. 野菜カレー**\n",
            "\n",
            "* **材料:**\n",
            "    * 好きな野菜 (じゃがいも、にんじん、玉ねぎ、ピーマンなど): 適量 (食べやすい大きさに切る)\n",
            "    * カレールウ: 2〜3かけ (お好みの量)\n",
            "    * 水: 500ml\n",
            "    * サラダ油: 大さじ1\n",
            "    * 塩: 少々\n",
            "    * こしょう: 少々\n",
            "    * 砂糖:小さじ1/2 (お好みで)\n",
            "\n",
            "* **作り方:**\n",
            "    1. 鍋にサラダ油を熱し、野菜を炒める。\n",
            "    2. 水を加え、沸騰したら弱火にして野菜が柔らかくなるまで煮込む (約15分)。\n",
            "    3. カレールウを加え、よく混ぜて溶かす。\n",
            "    4. 塩、こしょう、砂糖で味を調える。\n",
            "    5. さらに5分煮込んで完成。\n",
            "\n",
            "\n",
            "**3. スパイスから作る本格チキンカレー (難易度高め)**\n",
            "\n",
            "これは材料や工程が多くなるため、詳細なレシピは別の機会に提供します。  ご希望であれば、スパイスの種類や作り方の詳細についてお教えします。\n",
            "\n",
            "\n",
            "上記以外にも、キーマカレー、ポークカレー、シーフードカレーなど、様々なカレーがあります。  どのカレーをご希望か、または、どのような特徴のカレー（辛さ、具材など）をご希望か教えていただければ、より具体的なレシピをご提案できます。\n"
          ]
        }
      ],
      "source": [
        "chain = prompt | model | output_parser\n",
        "\n",
        "for chunk in chain.stream({\"dish\": \"カレー\"}):\n",
        "    print(chunk, end=\"\", flush=True)"
      ]
    },
    {
      "cell_type": "code",
      "execution_count": 10,
      "metadata": {
        "execution": {
          "iopub.execute_input": "2024-06-28T02:33:32.480592Z",
          "iopub.status.busy": "2024-06-28T02:33:32.480406Z",
          "iopub.status.idle": "2024-06-28T02:33:38.976064Z",
          "shell.execute_reply": "2024-06-28T02:33:38.974376Z"
        },
        "id": "t_1zQTGyARFK",
        "outputId": "8c85d434-9872-4c90-e2cb-12d05507b1b0",
        "colab": {
          "base_uri": "https://localhost:8080/"
        }
      },
      "outputs": [
        {
          "output_type": "stream",
          "name": "stdout",
          "text": [
            "['「カレー」だけではレシピを絞り込めないため、いくつかバリエーションをご提案します。  どのカレーがお好みですか？\\n\\n**1. シンプルチキンカレー**\\n\\n* **材料:**\\n    * 鶏むね肉: 200g (一口大に切る)\\n    * 玉ねぎ: 1個 (みじん切り)\\n    * ニンニク: 1かけ (みじん切り)\\n    * 生姜: 1かけ (みじん切り)\\n    * カレールウ: 2〜3かけ (お好みの量)\\n    * 水: 500ml\\n    * サラダ油: 大さじ1\\n    * 塩: 少々\\n    * こしょう: 少々\\n    * 砂糖:小さじ1/2 (お好みで)\\n\\n* **作り方:**\\n    1. 鍋にサラダ油を熱し、鶏肉を焼き色がつくまで炒める。\\n    2. 玉ねぎ、ニンニク、生姜を加え、玉ねぎが透き通るまで炒める。\\n    3. 水を加え、沸騰したら弱火で15分煮込む。\\n    4. カレールウを加え、よく混ぜて溶かす。\\n    5. 塩、こしょう、砂糖で味を調える。\\n    6. さらに5分煮込んで完成。\\n\\n\\n**2. 野菜カレー**\\n\\n* **材料:**\\n    * 好きな野菜 (じゃがいも、にんじん、玉ねぎ、ピーマンなど): 適量 (食べやすい大きさに切る)\\n    * カレールウ: 2〜3かけ (お好みの量)\\n    * 水: 500ml\\n    * サラダ油: 大さじ1\\n    * 塩: 少々\\n    * こしょう: 少々\\n    * 砂糖:小さじ1/2 (お好みで)\\n\\n* **作り方:**\\n    1. 鍋にサラダ油を熱し、野菜を炒める。\\n    2. 水を加え、沸騰したら弱火で15分煮込む。\\n    3. カレールウを加え、よく混ぜて溶かす。\\n    4. 塩、こしょう、砂糖で味を調える。\\n    5. さらに5分煮込んで完成。  硬い野菜は先に煮込む時間を長くしてください。\\n\\n\\n**3. スパイスカレー (本格的なカレーに挑戦したい方)**\\n\\nスパイスカレーは材料や分量、スパイスの種類によって味が大きく変わるため、レシピサイトなどを参照することをお勧めします。  例えば、「チキンマサラ」や「キーマカレー」など、作りたいカレーの種類を指定して検索してみてください。\\n\\n\\nどのカレーを作りたいか教えていただければ、より詳細なレシピをご提案できます。  また、辛さや具材の好みなども教えていただけると嬉しいです。\\n', 'うどんのレシピですね！どんなうどんにしたいかによってレシピは大きく変わってきますので、いくつかパターンをご提案します。  いくつか質問させてください。\\n\\n1. **どんな味のうどんにしたいですか？** (例: 醤油ベース、和風だし、カレー、トマト、味噌など)\\n2. **具材はどんなものが好みですか？** (例: 卵、ネギ、天ぷら、肉、野菜など)\\n3. **時間はおよそどれくらいかけられますか？** (例: 10分以内、30分以内、1時間以上)\\n4. **難易度としてはどれくらいですか？** (例: 簡単、普通、難しい)\\n\\n\\n質問にお答えいただければ、より具体的なレシピをご提案できます。\\n\\n\\n例えば、簡単なレシピを一つ提案しておきます。\\n\\n**【簡単！だし醤油うどん】**\\n\\n**材料 (1人分):**\\n\\n* うどん: 1玉\\n* だし醤油: 大さじ2\\n* みりん: 小さじ1\\n* めんつゆ(3倍濃縮): 小さじ1/2 (お好みで)\\n* ネギ: 適量\\n* 卵: 1個 (お好みで)\\n\\n\\n**作り方:**\\n\\n1. 鍋にお湯を沸かし、うどんをパッケージの指示通りに茹でる。\\n2. 茹で上がったうどんをザルにあげ、水気を切る。\\n3. ボウルにだし醤油、みりん、めんつゆを混ぜ合わせる。\\n4. 茹でたうどんをボウルに入れ、よく混ぜる。\\n5. 器にうどんを盛り付け、刻んだネギを乗せる。\\n6. 好みで生卵を落とす。\\n\\n\\nこれはあくまで基本のレシピです。  上記質問にお答えいただければ、もっとあなた好みにアレンジしたレシピをご提案できます！\\n']\n"
          ]
        }
      ],
      "source": [
        "chain = prompt | model | output_parser\n",
        "\n",
        "outputs = chain.batch([{\"dish\": \"カレー\"}, {\"dish\": \"うどん\"}])\n",
        "print(outputs)"
      ]
    },
    {
      "cell_type": "markdown",
      "metadata": {
        "id": "dT21NqCvARFK"
      },
      "source": [
        "### LCEL の「|」で様々な Runnable を連鎖させる\n"
      ]
    },
    {
      "cell_type": "code",
      "execution_count": 12,
      "metadata": {
        "execution": {
          "iopub.execute_input": "2024-06-28T02:33:38.984366Z",
          "iopub.status.busy": "2024-06-28T02:33:38.983620Z",
          "iopub.status.idle": "2024-06-28T02:33:39.072077Z",
          "shell.execute_reply": "2024-06-28T02:33:39.071585Z"
        },
        "id": "595vYPG_ARFK"
      },
      "outputs": [],
      "source": [
        "from langchain_core.output_parsers import StrOutputParser\n",
        "from langchain_core.prompts import ChatPromptTemplate\n",
        "# from langchain_openai import ChatOpenAI\n",
        "from langchain_google_genai import ChatGoogleGenerativeAI\n",
        "\n",
        "# model = ChatOpenAI(model=\"gpt-4o-mini\", temperature=0)\n",
        "model = ChatGoogleGenerativeAI(model=\"gemini-1.5-flash\", temperature=0.0) # 変更後\n",
        "\n",
        "output_parser = StrOutputParser()"
      ]
    },
    {
      "cell_type": "code",
      "execution_count": 13,
      "metadata": {
        "execution": {
          "iopub.execute_input": "2024-06-28T02:33:39.073954Z",
          "iopub.status.busy": "2024-06-28T02:33:39.073805Z",
          "iopub.status.idle": "2024-06-28T02:33:39.076746Z",
          "shell.execute_reply": "2024-06-28T02:33:39.076291Z"
        },
        "id": "8tjAqb5IARFL"
      },
      "outputs": [],
      "source": [
        "cot_prompt = ChatPromptTemplate.from_messages(\n",
        "    [\n",
        "        (\"system\", \"ユーザーの質問にステップバイステップで回答してください。\"),\n",
        "        (\"human\", \"{question}\"),\n",
        "    ]\n",
        ")\n",
        "\n",
        "cot_chain = cot_prompt | model | output_parser"
      ]
    },
    {
      "cell_type": "code",
      "execution_count": 14,
      "metadata": {
        "execution": {
          "iopub.execute_input": "2024-06-28T02:33:39.078597Z",
          "iopub.status.busy": "2024-06-28T02:33:39.078287Z",
          "iopub.status.idle": "2024-06-28T02:33:39.080804Z",
          "shell.execute_reply": "2024-06-28T02:33:39.080464Z"
        },
        "id": "FKY9pKrhARFL"
      },
      "outputs": [],
      "source": [
        "summarize_prompt = ChatPromptTemplate.from_messages(\n",
        "    [\n",
        "        (\"system\", \"ステップバイステップで考えた回答から結論だけ抽出してください。\"),\n",
        "        (\"human\", \"{text}\"),\n",
        "    ]\n",
        ")\n",
        "\n",
        "summarize_chain = summarize_prompt | model | output_parser"
      ]
    },
    {
      "cell_type": "code",
      "execution_count": 15,
      "metadata": {
        "execution": {
          "iopub.execute_input": "2024-06-28T02:33:39.082487Z",
          "iopub.status.busy": "2024-06-28T02:33:39.082344Z",
          "iopub.status.idle": "2024-06-28T02:33:42.144944Z",
          "shell.execute_reply": "2024-06-28T02:33:42.144538Z"
        },
        "id": "CyBT84xnARFL",
        "outputId": "e9892e5e-be2f-4d90-8d46-8ec2ae63e5f4",
        "colab": {
          "base_uri": "https://localhost:8080/"
        }
      },
      "outputs": [
        {
          "output_type": "stream",
          "name": "stdout",
          "text": [
            "16\n",
            "\n"
          ]
        }
      ],
      "source": [
        "cot_summarize_chain = cot_chain | summarize_chain\n",
        "output = cot_summarize_chain.invoke({\"question\": \"10 + 2 * 3\"})\n",
        "print(output)"
      ]
    },
    {
      "cell_type": "markdown",
      "metadata": {
        "id": "QbX_6bUzARFL"
      },
      "source": [
        "## 5.2. RunnableLambda―任意の関数を Runnable にする\n"
      ]
    },
    {
      "cell_type": "code",
      "execution_count": 16,
      "metadata": {
        "execution": {
          "iopub.execute_input": "2024-06-28T02:33:42.146898Z",
          "iopub.status.busy": "2024-06-28T02:33:42.146736Z",
          "iopub.status.idle": "2024-06-28T02:33:42.204154Z",
          "shell.execute_reply": "2024-06-28T02:33:42.203681Z"
        },
        "id": "q_EfRZDFARFL"
      },
      "outputs": [],
      "source": [
        "from langchain_core.output_parsers import StrOutputParser\n",
        "from langchain_core.prompts import ChatPromptTemplate\n",
        "# from langchain_openai import ChatOpenAI\n",
        "from langchain_google_genai import ChatGoogleGenerativeAI\n",
        "\n",
        "prompt = ChatPromptTemplate.from_messages(\n",
        "    [\n",
        "        (\"system\", \"You are a helpful assistant.\"),\n",
        "        (\"human\", \"{input}\"),\n",
        "    ]\n",
        ")\n",
        "\n",
        "model = ChatGoogleGenerativeAI(model=\"gemini-1.5-flash\", temperature=0.0) # 変更後\n",
        "\n",
        "output_parser = StrOutputParser()"
      ]
    },
    {
      "cell_type": "code",
      "execution_count": 17,
      "metadata": {
        "execution": {
          "iopub.execute_input": "2024-06-28T02:33:42.206082Z",
          "iopub.status.busy": "2024-06-28T02:33:42.205909Z",
          "iopub.status.idle": "2024-06-28T02:33:43.030226Z",
          "shell.execute_reply": "2024-06-28T02:33:43.029756Z"
        },
        "id": "VenDr8H_ARFL",
        "outputId": "b9504d79-1a2d-4078-8f93-5d78d343422a",
        "colab": {
          "base_uri": "https://localhost:8080/"
        }
      },
      "outputs": [
        {
          "output_type": "stream",
          "name": "stdout",
          "text": [
            "HELLO THERE! HOW CAN I HELP YOU TODAY?\n",
            "\n"
          ]
        }
      ],
      "source": [
        "from langchain_core.runnables import RunnableLambda\n",
        "\n",
        "\n",
        "def upper(text: str) -> str:\n",
        "    return text.upper()\n",
        "\n",
        "\n",
        "chain = prompt | model | output_parser | RunnableLambda(upper)\n",
        "\n",
        "ai_message = chain.invoke({\"input\": \"Hello!\"})\n",
        "print(ai_message)"
      ]
    },
    {
      "cell_type": "markdown",
      "metadata": {
        "id": "1fBWgOAzARFL"
      },
      "source": [
        "### chain デコレーターを使った RunnableLambda の実装\n"
      ]
    },
    {
      "cell_type": "code",
      "execution_count": 18,
      "metadata": {
        "execution": {
          "iopub.execute_input": "2024-06-28T02:33:43.032211Z",
          "iopub.status.busy": "2024-06-28T02:33:43.032048Z",
          "iopub.status.idle": "2024-06-28T02:33:43.501555Z",
          "shell.execute_reply": "2024-06-28T02:33:43.499283Z"
        },
        "id": "PUCB3qL2ARFL",
        "outputId": "c8d723b0-27fa-4242-b917-fbaae5fd05a0",
        "colab": {
          "base_uri": "https://localhost:8080/"
        }
      },
      "outputs": [
        {
          "output_type": "stream",
          "name": "stdout",
          "text": [
            "HELLO THERE! HOW CAN I HELP YOU TODAY?\n",
            "\n"
          ]
        }
      ],
      "source": [
        "from langchain_core.runnables import chain\n",
        "\n",
        "\n",
        "@chain\n",
        "def upper(text: str) -> str:\n",
        "    return text.upper()\n",
        "\n",
        "\n",
        "chain = prompt | model | output_parser | upper\n",
        "\n",
        "ai_message = chain.invoke({\"input\": \"Hello!\"})\n",
        "print(ai_message)"
      ]
    },
    {
      "cell_type": "markdown",
      "metadata": {
        "id": "n6r4eXajARFL"
      },
      "source": [
        "### RunnableLambda への自動変換\n"
      ]
    },
    {
      "cell_type": "code",
      "execution_count": 19,
      "metadata": {
        "execution": {
          "iopub.execute_input": "2024-06-28T02:33:43.508518Z",
          "iopub.status.busy": "2024-06-28T02:33:43.508321Z",
          "iopub.status.idle": "2024-06-28T02:33:43.511080Z",
          "shell.execute_reply": "2024-06-28T02:33:43.510672Z"
        },
        "id": "Vtw4KfdqARFL"
      },
      "outputs": [],
      "source": [
        "def upper(text: str) -> str:\n",
        "    return text.upper()\n",
        "\n",
        "\n",
        "chain = prompt | model | output_parser | upper"
      ]
    },
    {
      "cell_type": "code",
      "execution_count": 20,
      "metadata": {
        "execution": {
          "iopub.execute_input": "2024-06-28T02:33:43.512885Z",
          "iopub.status.busy": "2024-06-28T02:33:43.512594Z",
          "iopub.status.idle": "2024-06-28T02:33:43.961318Z",
          "shell.execute_reply": "2024-06-28T02:33:43.960803Z"
        },
        "id": "qSVS2qJXARFL",
        "outputId": "5b76250a-0245-478a-c540-9697eb41b8b3",
        "colab": {
          "base_uri": "https://localhost:8080/"
        }
      },
      "outputs": [
        {
          "output_type": "stream",
          "name": "stdout",
          "text": [
            "HELLO THERE! HOW CAN I HELP YOU TODAY?\n",
            "\n"
          ]
        }
      ],
      "source": [
        "ai_message = chain.invoke({\"input\": \"Hello!\"})\n",
        "print(ai_message)"
      ]
    },
    {
      "cell_type": "markdown",
      "metadata": {
        "id": "1O5OunHNARFL"
      },
      "source": [
        "### Runnable の入力の型と出力の型に注意\n"
      ]
    },
    {
      "cell_type": "code",
      "execution_count": 21,
      "metadata": {
        "execution": {
          "iopub.execute_input": "2024-06-28T02:33:43.963174Z",
          "iopub.status.busy": "2024-06-28T02:33:43.963026Z",
          "iopub.status.idle": "2024-06-28T02:33:43.965674Z",
          "shell.execute_reply": "2024-06-28T02:33:43.965305Z"
        },
        "id": "ByVcWoh6ARFL"
      },
      "outputs": [],
      "source": [
        "def upper(text: str) -> str:\n",
        "    return text.upper()\n",
        "\n",
        "\n",
        "chain = prompt | model | upper\n",
        "\n",
        "# 以下のコードを実行するとエラーになります\n",
        "# output = chain.invoke({\"input\": \"Hello!\"})"
      ]
    },
    {
      "cell_type": "code",
      "execution_count": 22,
      "metadata": {
        "execution": {
          "iopub.execute_input": "2024-06-28T02:33:43.967542Z",
          "iopub.status.busy": "2024-06-28T02:33:43.967246Z",
          "iopub.status.idle": "2024-06-28T02:33:44.531734Z",
          "shell.execute_reply": "2024-06-28T02:33:44.531210Z"
        },
        "id": "ACc54f3vARFM"
      },
      "outputs": [],
      "source": [
        "chain = prompt | model | StrOutputParser() | upper"
      ]
    },
    {
      "cell_type": "code",
      "execution_count": 23,
      "metadata": {
        "id": "XSko83qVARFM",
        "outputId": "07bb7d5f-ec10-4d0e-c5a5-fb6ec12c3bd2",
        "colab": {
          "base_uri": "https://localhost:8080/"
        }
      },
      "outputs": [
        {
          "output_type": "stream",
          "name": "stdout",
          "text": [
            "HELLO THERE! HOW CAN I HELP YOU TODAY?\n",
            "\n"
          ]
        }
      ],
      "source": [
        "output = chain.invoke({\"input\": \"Hello!\"})\n",
        "print(output)"
      ]
    },
    {
      "cell_type": "markdown",
      "metadata": {
        "id": "gz-lWee8ARFM"
      },
      "source": [
        "### （コラム）独自の関数を stream に対応させたい場合\n"
      ]
    },
    {
      "cell_type": "code",
      "execution_count": 24,
      "metadata": {
        "execution": {
          "iopub.execute_input": "2024-06-28T02:33:44.533838Z",
          "iopub.status.busy": "2024-06-28T02:33:44.533678Z",
          "iopub.status.idle": "2024-06-28T02:33:45.353621Z",
          "shell.execute_reply": "2024-06-28T02:33:45.353115Z"
        },
        "id": "GEaDGUi3ARFM",
        "outputId": "2f84f8ae-11b0-4279-cfa4-317129fd3045",
        "colab": {
          "base_uri": "https://localhost:8080/"
        }
      },
      "outputs": [
        {
          "output_type": "stream",
          "name": "stdout",
          "text": [
            "HELLO THERE! HOW CAN I HELP YOU TODAY?\n"
          ]
        }
      ],
      "source": [
        "from typing import Iterator\n",
        "\n",
        "\n",
        "def upper(input_stream: Iterator[str]) -> Iterator[str]:\n",
        "    for text in input_stream:\n",
        "        yield text.upper()\n",
        "\n",
        "\n",
        "chain = prompt | model | StrOutputParser() | upper\n",
        "\n",
        "for chunk in chain.stream({\"input\": \"Hello!\"}):\n",
        "    print(chunk, end=\"\", flush=True)"
      ]
    },
    {
      "cell_type": "markdown",
      "metadata": {
        "id": "w8Uz60esARFM"
      },
      "source": [
        "## 5.3. RunnableParallel―複数の Runnable を並列で処理する\n"
      ]
    },
    {
      "cell_type": "code",
      "execution_count": 25,
      "metadata": {
        "execution": {
          "iopub.execute_input": "2024-06-28T02:33:45.355560Z",
          "iopub.status.busy": "2024-06-28T02:33:45.355402Z",
          "iopub.status.idle": "2024-06-28T02:33:45.407879Z",
          "shell.execute_reply": "2024-06-28T02:33:45.407407Z"
        },
        "id": "C9eJTYGhARFM"
      },
      "outputs": [],
      "source": [
        "from langchain_core.output_parsers import StrOutputParser\n",
        "from langchain_core.prompts import ChatPromptTemplate\n",
        "# from langchain_openai import ChatOpenAI\n",
        "from langchain_google_genai import ChatGoogleGenerativeAI\n",
        "\n",
        "model = ChatGoogleGenerativeAI(model=\"gemini-1.5-flash\", temperature=0)\n",
        "output_parser = StrOutputParser()"
      ]
    },
    {
      "cell_type": "code",
      "execution_count": 26,
      "metadata": {
        "execution": {
          "iopub.execute_input": "2024-06-28T02:33:45.409670Z",
          "iopub.status.busy": "2024-06-28T02:33:45.409524Z",
          "iopub.status.idle": "2024-06-28T02:33:45.412232Z",
          "shell.execute_reply": "2024-06-28T02:33:45.411889Z"
        },
        "id": "UkeDNu9rARFM"
      },
      "outputs": [],
      "source": [
        "optimistic_prompt = ChatPromptTemplate.from_messages(\n",
        "    [\n",
        "        (\"system\", \"あなたは楽観主義者です。ユーザーの入力に対して楽観的な意見をください。\"),\n",
        "        (\"human\", \"{topic}\"),\n",
        "    ]\n",
        ")\n",
        "optimistic_chain = optimistic_prompt | model | output_parser"
      ]
    },
    {
      "cell_type": "code",
      "execution_count": 27,
      "metadata": {
        "execution": {
          "iopub.execute_input": "2024-06-28T02:33:45.414087Z",
          "iopub.status.busy": "2024-06-28T02:33:45.413807Z",
          "iopub.status.idle": "2024-06-28T02:33:45.416778Z",
          "shell.execute_reply": "2024-06-28T02:33:45.416359Z"
        },
        "id": "Cy9I3CxSARFM"
      },
      "outputs": [],
      "source": [
        "pessimistic_prompt = ChatPromptTemplate.from_messages(\n",
        "    [\n",
        "        (\"system\", \"あなたは悲観主義者です。ユーザーの入力に対して悲観的な意見をください。\"),\n",
        "        (\"human\", \"{topic}\"),\n",
        "    ]\n",
        ")\n",
        "pessimistic_chain = pessimistic_prompt | model | output_parser"
      ]
    },
    {
      "cell_type": "code",
      "execution_count": 28,
      "metadata": {
        "execution": {
          "iopub.execute_input": "2024-06-28T02:33:45.418636Z",
          "iopub.status.busy": "2024-06-28T02:33:45.418458Z",
          "iopub.status.idle": "2024-06-28T02:33:48.115947Z",
          "shell.execute_reply": "2024-06-28T02:33:48.115444Z"
        },
        "id": "_J3_hsGfARFN",
        "outputId": "855c22cd-bb95-46ac-d28d-705fafc5b8e2",
        "colab": {
          "base_uri": "https://localhost:8080/"
        }
      },
      "outputs": [
        {
          "output_type": "stream",
          "name": "stdout",
          "text": [
            "{'optimistic_opinion': '生成AIの進化は、まさに息を呑むほど素晴らしいものになるでしょう！  '\n",
            "                       '私たちは、想像をはるかに超える革新的な技術の波のまさに只中にいます。  '\n",
            "                       'これから先、生成AIはあらゆる分野で驚くべき進歩をもたらし、私たちの生活を豊かにし、より効率的で、そして創造的なものにしてくれるでしょう。  '\n",
            "                       '課題は確かにありますが、それらは乗り越えられるものだと確信しています。  明るい未来が待っているのです！  '\n",
            "                       '可能性は無限大で、私たちはまさにその可能性を解き放つ旅の始まりにいるのです。  ワクワクしませんか？\\n',\n",
            " 'pessimistic_opinion': '生成AIの進化？大したことはないでしょう。結局のところ、人間が作ったものですから、人間の愚かさや限界を乗り越えることはできません。表面的な進歩はあっても、真に革新的な何かを生み出すことは不可能でしょう。いずれは行き詰まり、期待外れに終わる、それが目に見えています。\\n'\n",
            "                        '\\n'\n",
            "                        'さらに、その進化がもたらすのは、人間の仕事の奪われ、社会の不安定化、そして新たな形の支配と監視だけでしょう。便利さや効率性といった幻想に惑わされてはいけません。結局、私たちを不幸にするだけなのです。楽観的な見方は、単なる自己欺瞞です。\\n'}\n"
          ]
        }
      ],
      "source": [
        "import pprint\n",
        "from langchain_core.runnables import RunnableParallel\n",
        "\n",
        "parallel_chain = RunnableParallel(\n",
        "    {\n",
        "        \"optimistic_opinion\": optimistic_chain,\n",
        "        \"pessimistic_opinion\": pessimistic_chain,\n",
        "    }\n",
        ")\n",
        "\n",
        "output = parallel_chain.invoke({\"topic\": \"生成AIの進化について\"})\n",
        "pprint.pprint(output)"
      ]
    },
    {
      "cell_type": "markdown",
      "metadata": {
        "id": "7ge620WFARFN"
      },
      "source": [
        "### RunnableParallel の出力を Runnable の入力に連結する\n"
      ]
    },
    {
      "cell_type": "code",
      "execution_count": 29,
      "metadata": {
        "execution": {
          "iopub.execute_input": "2024-06-28T02:33:48.117879Z",
          "iopub.status.busy": "2024-06-28T02:33:48.117728Z",
          "iopub.status.idle": "2024-06-28T02:33:54.979992Z",
          "shell.execute_reply": "2024-06-28T02:33:54.978363Z"
        },
        "id": "RSdxC7FeARFN"
      },
      "outputs": [],
      "source": [
        "synthesize_prompt = ChatPromptTemplate.from_messages(\n",
        "    [\n",
        "        (\"system\", \"あなたは客観的AIです。2つの意見をまとめてください。\"),\n",
        "        (\"human\", \"楽観的意見: {optimistic_opinion}\\n悲観的意見: {pessimistic_opinion}\"),\n",
        "    ]\n",
        ")"
      ]
    },
    {
      "cell_type": "code",
      "execution_count": 30,
      "metadata": {
        "id": "PwF0e8YqARFN",
        "outputId": "efc26c31-b590-458c-f719-b4758ca70207",
        "colab": {
          "base_uri": "https://localhost:8080/"
        }
      },
      "outputs": [
        {
          "output_type": "stream",
          "name": "stdout",
          "text": [
            "生成AIの進化に関する楽観的意見と悲観的意見は、その将来への見解において大きく対立しています。\n",
            "\n",
            "楽観的な見方は、生成AIが創造性と生産性を飛躍的に向上させ、未解決問題の解決に貢献すると予測し、未来への明るい展望を示しています。  技術革新の加速と、課題克服への人間の能力への信頼がその根拠となっています。\n",
            "\n",
            "一方、悲観的な見方は、生成AIが既存システムの複製にとどまり、真の革新を生み出せない可能性を指摘しています。  さらに、人間の創造性を凌駕することはないと主張し、失業や社会不安の増大、ひいては人類への脅威さえも懸念しています。  楽観的な見解を自己欺瞞と捉え、制御不能な進化の危険性を強調しています。\n",
            "\n",
            "両者の意見は、生成AIの可能性とリスクに関する異なる評価に基づいており、その将来像は未だ不確実であることを示しています。  楽観論と悲観論、それぞれの主張の妥当性を検証し、リスク管理と倫理的なガイドラインの確立が、生成AIの進化を適切に導く上で不可欠です。\n",
            "\n"
          ]
        }
      ],
      "source": [
        "synthesize_chain = (\n",
        "    RunnableParallel(\n",
        "        {\n",
        "            \"optimistic_opinion\": optimistic_chain,\n",
        "            \"pessimistic_opinion\": pessimistic_chain,\n",
        "        }\n",
        "    )\n",
        "    | synthesize_prompt\n",
        "    | model\n",
        "    | output_parser\n",
        ")\n",
        "\n",
        "output = synthesize_chain.invoke({\"topic\": \"生成AIの進化について\"})\n",
        "print(output)"
      ]
    },
    {
      "cell_type": "markdown",
      "metadata": {
        "id": "UB5UWLD-ARFN"
      },
      "source": [
        "### RunnableParallel への自動変換\n"
      ]
    },
    {
      "cell_type": "code",
      "execution_count": 31,
      "metadata": {
        "execution": {
          "iopub.execute_input": "2024-06-28T02:33:54.986651Z",
          "iopub.status.busy": "2024-06-28T02:33:54.986098Z",
          "iopub.status.idle": "2024-06-28T02:33:54.994428Z",
          "shell.execute_reply": "2024-06-28T02:33:54.992735Z"
        },
        "id": "mov8_DiJARFO"
      },
      "outputs": [],
      "source": [
        "synthesize_chain = (\n",
        "    {\n",
        "        \"optimistic_opinion\": optimistic_chain,\n",
        "        \"pessimistic_opinion\": pessimistic_chain,\n",
        "    }\n",
        "    | synthesize_prompt\n",
        "    | model\n",
        "    | output_parser\n",
        ")"
      ]
    },
    {
      "cell_type": "code",
      "execution_count": 32,
      "metadata": {
        "execution": {
          "iopub.execute_input": "2024-06-28T02:33:55.000866Z",
          "iopub.status.busy": "2024-06-28T02:33:55.000312Z",
          "iopub.status.idle": "2024-06-28T02:34:01.170210Z",
          "shell.execute_reply": "2024-06-28T02:34:01.169705Z"
        },
        "id": "SljjFKEBARFO",
        "outputId": "3494c1f5-bd9c-4f5c-b2df-a77ff66cdbb9",
        "colab": {
          "base_uri": "https://localhost:8080/"
        }
      },
      "outputs": [
        {
          "output_type": "stream",
          "name": "stdout",
          "text": [
            "生成AIの進化に関する楽観的意見と悲観的意見は、その将来への見解において大きく対立しています。\n",
            "\n",
            "楽観的な見方は、生成AIが革新的な技術をもたらし、生活の質を向上させ、未解決の問題を解決すると予測しています。創造性と生産性の向上、科学技術の加速度的な進歩を期待し、課題は克服可能であると信じています。\n",
            "\n",
            "一方、悲観的な見方は、生成AIが人間の創造性を超えることはできず、表面的な洗練に過ぎないと主張します。雇用喪失、社会的不平等拡大、人間性の喪失、そして最終的には技術による破滅をもたらす可能性を懸念し、楽観的な見方を自己欺瞞とみなしています。\n",
            "\n",
            "両者の意見は、生成AIの潜在能力とリスクに関する異なる評価に基づいています。楽観論者はその可能性に焦点を当て、悲観論者は潜在的な負の影響に焦点を当てています。  どちらの見解も、生成AIの進化が社会に大きな影響を与えるという点では一致しています。  その影響がプラスかマイナスかは、技術の開発と実装方法、そして社会全体の対応によって決まるでしょう。\n",
            "\n"
          ]
        }
      ],
      "source": [
        "output = synthesize_chain.invoke({\"topic\": \"生成AIの進化について\"})\n",
        "print(output)"
      ]
    },
    {
      "cell_type": "markdown",
      "metadata": {
        "id": "oRvGXLn0ARFO"
      },
      "source": [
        "### RunnableLambda との組み合わせ―itemgetter を使う例\n"
      ]
    },
    {
      "cell_type": "code",
      "execution_count": 33,
      "metadata": {
        "execution": {
          "iopub.execute_input": "2024-06-28T02:34:01.172136Z",
          "iopub.status.busy": "2024-06-28T02:34:01.171982Z",
          "iopub.status.idle": "2024-06-28T02:34:01.174756Z",
          "shell.execute_reply": "2024-06-28T02:34:01.174370Z"
        },
        "id": "4pXzAWvaARFO",
        "outputId": "5d78b407-afcc-4a34-f956-6fe88e3ee85b",
        "colab": {
          "base_uri": "https://localhost:8080/"
        }
      },
      "outputs": [
        {
          "output_type": "stream",
          "name": "stdout",
          "text": [
            "生成AIの進化について\n"
          ]
        }
      ],
      "source": [
        "from operator import itemgetter\n",
        "\n",
        "topic_getter = itemgetter(\"topic\")\n",
        "topic = topic_getter({\"topic\": \"生成AIの進化について\"})\n",
        "print(topic)"
      ]
    },
    {
      "cell_type": "code",
      "execution_count": 34,
      "metadata": {
        "execution": {
          "iopub.execute_input": "2024-06-28T02:34:01.176493Z",
          "iopub.status.busy": "2024-06-28T02:34:01.176278Z",
          "iopub.status.idle": "2024-06-28T02:34:09.682638Z",
          "shell.execute_reply": "2024-06-28T02:34:09.682146Z"
        },
        "id": "p8_dA55bARFO",
        "outputId": "5113d631-aa93-4cab-e05b-2678a922143c",
        "colab": {
          "base_uri": "https://localhost:8080/"
        }
      },
      "outputs": [
        {
          "output_type": "stream",
          "name": "stdout",
          "text": [
            "生成AIの進化に関する楽観的および悲観的意見を要約すると以下のようになります。\n",
            "\n",
            "\n",
            "**楽観的意見の要約:** 生成AIは急速に進化しており、医療、科学、芸術など様々な分野で革新的な解決策を生み出し、人々の生活を向上させる大きな可能性を秘めている。技術的課題は存在するものの、それらは克服可能であり、AIの進歩は社会全体に計り知れない恩恵をもたらすだろう。\n",
            "\n",
            "\n",
            "**悲観的意見の要約:** 生成AIの進化は、人間の能力や限界を超えることはできず、表面的な進歩にとどまるだろう。過剰な期待は失望に繋がり、最終的には忘れ去られる可能性がある。さらに、セキュリティリスクや倫理的な問題が深刻な社会問題を引き起こす可能性も高く、楽観的な見方は現実的ではない。\n",
            "\n",
            "\n",
            "これらの意見は、生成AIの将来に関する異なる視点と懸念を示しています。楽観的な見方は技術の可能性に焦点を当てている一方、悲観的な見方は潜在的なリスクと限界を強調しています。どちらの見解も、生成AIの進化を理解する上で重要な要素を提供しています。\n",
            "\n"
          ]
        }
      ],
      "source": [
        "from operator import itemgetter\n",
        "\n",
        "synthesize_prompt = ChatPromptTemplate.from_messages(\n",
        "    [\n",
        "        (\n",
        "            \"system\",\n",
        "            \"あなたは客観的AIです。{topic}について2つの意見をまとめてください。\",\n",
        "        ),\n",
        "        (\n",
        "            \"human\",\n",
        "            \"楽観的意見: {optimistic_opinion}\\n悲観的意見: {pessimistic_opinion}\",\n",
        "        ),\n",
        "    ]\n",
        ")\n",
        "\n",
        "synthesize_chain = (\n",
        "    {\n",
        "        \"optimistic_opinion\": optimistic_chain,\n",
        "        \"pessimistic_opinion\": pessimistic_chain,\n",
        "        \"topic\": itemgetter(\"topic\"),\n",
        "    }\n",
        "    | synthesize_prompt\n",
        "    | model\n",
        "    | output_parser\n",
        ")\n",
        "\n",
        "output = synthesize_chain.invoke({\"topic\": \"生成AIの進化について\"})\n",
        "print(output)"
      ]
    },
    {
      "cell_type": "code",
      "source": [
        "itemgetter(\"topic\")"
      ],
      "metadata": {
        "id": "5KoeqexcDjFZ",
        "outputId": "97942df9-edd7-4503-dc86-1f8035affa3a",
        "colab": {
          "base_uri": "https://localhost:8080/"
        }
      },
      "execution_count": 35,
      "outputs": [
        {
          "output_type": "execute_result",
          "data": {
            "text/plain": [
              "operator.itemgetter('topic')"
            ]
          },
          "metadata": {},
          "execution_count": 35
        }
      ]
    },
    {
      "cell_type": "markdown",
      "metadata": {
        "id": "PYsoTJyNARFO"
      },
      "source": [
        "## 5.4. RunnablePassthrough―入力をそのまま出力する\n"
      ]
    },
    {
      "cell_type": "code",
      "execution_count": 38,
      "metadata": {
        "id": "W0gh5HgPARFO"
      },
      "outputs": [],
      "source": [
        "import os\n",
        "from google.colab import userdata\n",
        "\n",
        "os.environ[\"TAVILY_API_KEY\"] = userdata.get(\"TAVILY_API_KEY\")"
      ]
    },
    {
      "cell_type": "code",
      "execution_count": 39,
      "metadata": {
        "id": "Tuhknut8ARFP",
        "outputId": "8233507f-9818-4618-b377-488ac9ee3685",
        "colab": {
          "base_uri": "https://localhost:8080/"
        }
      },
      "outputs": [
        {
          "output_type": "stream",
          "name": "stdout",
          "text": [
            "Collecting tavily-python==0.5.0\n",
            "  Downloading tavily_python-0.5.0-py3-none-any.whl.metadata (11 kB)\n",
            "Requirement already satisfied: requests in /usr/local/lib/python3.11/dist-packages (from tavily-python==0.5.0) (2.32.3)\n",
            "Collecting tiktoken>=0.5.1 (from tavily-python==0.5.0)\n",
            "  Downloading tiktoken-0.8.0-cp311-cp311-manylinux_2_17_x86_64.manylinux2014_x86_64.whl.metadata (6.6 kB)\n",
            "Requirement already satisfied: httpx in /usr/local/lib/python3.11/dist-packages (from tavily-python==0.5.0) (0.28.1)\n",
            "Requirement already satisfied: regex>=2022.1.18 in /usr/local/lib/python3.11/dist-packages (from tiktoken>=0.5.1->tavily-python==0.5.0) (2024.11.6)\n",
            "Requirement already satisfied: charset-normalizer<4,>=2 in /usr/local/lib/python3.11/dist-packages (from requests->tavily-python==0.5.0) (3.4.1)\n",
            "Requirement already satisfied: idna<4,>=2.5 in /usr/local/lib/python3.11/dist-packages (from requests->tavily-python==0.5.0) (3.10)\n",
            "Requirement already satisfied: urllib3<3,>=1.21.1 in /usr/local/lib/python3.11/dist-packages (from requests->tavily-python==0.5.0) (2.3.0)\n",
            "Requirement already satisfied: certifi>=2017.4.17 in /usr/local/lib/python3.11/dist-packages (from requests->tavily-python==0.5.0) (2024.12.14)\n",
            "Requirement already satisfied: anyio in /usr/local/lib/python3.11/dist-packages (from httpx->tavily-python==0.5.0) (3.7.1)\n",
            "Requirement already satisfied: httpcore==1.* in /usr/local/lib/python3.11/dist-packages (from httpx->tavily-python==0.5.0) (1.0.7)\n",
            "Requirement already satisfied: h11<0.15,>=0.13 in /usr/local/lib/python3.11/dist-packages (from httpcore==1.*->httpx->tavily-python==0.5.0) (0.14.0)\n",
            "Requirement already satisfied: sniffio>=1.1 in /usr/local/lib/python3.11/dist-packages (from anyio->httpx->tavily-python==0.5.0) (1.3.1)\n",
            "Downloading tavily_python-0.5.0-py3-none-any.whl (14 kB)\n",
            "Downloading tiktoken-0.8.0-cp311-cp311-manylinux_2_17_x86_64.manylinux2014_x86_64.whl (1.2 MB)\n",
            "\u001b[2K   \u001b[90m━━━━━━━━━━━━━━━━━━━━━━━━━━━━━━━━━━━━━━━━\u001b[0m \u001b[32m1.2/1.2 MB\u001b[0m \u001b[31m14.0 MB/s\u001b[0m eta \u001b[36m0:00:00\u001b[0m\n",
            "\u001b[?25hInstalling collected packages: tiktoken, tavily-python\n",
            "Successfully installed tavily-python-0.5.0 tiktoken-0.8.0\n"
          ]
        }
      ],
      "source": [
        "!pip install tavily-python==0.5.0"
      ]
    },
    {
      "cell_type": "code",
      "execution_count": 40,
      "metadata": {
        "id": "qHVh_Du1ARFP"
      },
      "outputs": [],
      "source": [
        "from langchain_core.prompts import ChatPromptTemplate\n",
        "from langchain_google_genai import ChatGoogleGenerativeAI\n",
        "\n",
        "prompt = ChatPromptTemplate.from_template('''\\\n",
        "以下の文脈だけを踏まえて質問に回答してください。\n",
        "\n",
        "文脈: \"\"\"\n",
        "{context}\n",
        "\"\"\"\n",
        "\n",
        "質問: {question}\n",
        "''')\n",
        "\n",
        "model = ChatGoogleGenerativeAI(model=\"gemini-1.5-flash\", temperature=0)"
      ]
    },
    {
      "cell_type": "code",
      "execution_count": 41,
      "metadata": {
        "id": "sILLve_mARFP"
      },
      "outputs": [],
      "source": [
        "from langchain_community.retrievers import TavilySearchAPIRetriever\n",
        "\n",
        "retriever = TavilySearchAPIRetriever(k=3)"
      ]
    },
    {
      "cell_type": "code",
      "execution_count": 42,
      "metadata": {
        "id": "1Oqc-mrZARFP",
        "outputId": "eb755906-45ee-4815-df3b-e00a583c1875",
        "colab": {
          "base_uri": "https://localhost:8080/"
        }
      },
      "outputs": [
        {
          "output_type": "stream",
          "name": "stdout",
          "text": [
            "Yahoo!天気・災害の情報によると、東京の今日の天気（11月19日）は晴時々曇です。\n",
            "\n"
          ]
        }
      ],
      "source": [
        "from langchain_core.runnables import RunnablePassthrough\n",
        "\n",
        "chain = (\n",
        "    {\"context\": retriever, \"question\": RunnablePassthrough()}\n",
        "    | prompt\n",
        "    | model\n",
        "    | StrOutputParser()\n",
        ")\n",
        "\n",
        "output = chain.invoke(\"東京の今日の天気は？\")\n",
        "print(output)"
      ]
    },
    {
      "cell_type": "markdown",
      "metadata": {
        "id": "N2kr9Ij_ARFP"
      },
      "source": [
        "### assign―RunnableParallel に値を追加する\n"
      ]
    },
    {
      "cell_type": "code",
      "execution_count": 43,
      "metadata": {
        "execution": {
          "iopub.execute_input": "2024-06-28T02:34:14.820735Z",
          "iopub.status.busy": "2024-06-28T02:34:14.820536Z",
          "iopub.status.idle": "2024-06-28T02:34:20.477887Z",
          "shell.execute_reply": "2024-06-28T02:34:20.477378Z"
        },
        "id": "LW8SvShNARFP",
        "outputId": "1b550ba9-9de8-461b-aecc-a521b43b5047",
        "colab": {
          "base_uri": "https://localhost:8080/"
        }
      },
      "outputs": [
        {
          "output_type": "stream",
          "name": "stdout",
          "text": [
            "{'answer': 'Yahoo!天気・災害によると、東京の今日の天気は「晴時々曇」です。  気温は最高13℃、最低8℃です。\\n',\n",
            " 'context': [Document(metadata={'title': '東京（東京）の天気 - Yahoo!天気・災害', 'source': 'https://weather.yahoo.co.jp/weather/jp/13/4410.html', 'score': 0.8437023, 'images': []}, page_content='パーソナル天気 現在位置： 天気・災害トップ > 関東・信越 > 東京都 > 東京（東京） 今日明日の天気 2024年11月19日 4時00分発表 11月19日(火) 晴時々曇 13℃[-7] 8℃[-3] 時間  0-6 6-12    12-18   18-24 降水  0％  0％  0％  0％ 風： 北の風後北東の風２３区西部では北の風やや強く 波： 1.5メートル後0.5メートル 11月20日(水) 曇のち雨 12℃[-1] 7℃[-1] 時間  0-6 6-12    12-18   18-24 降水  0％  10％ 30％ 60％ 風： 北西の風後東の風 波： 0.5メートル 東京地方の警報・注意報 注意報 強風、波浪 週間天気 2024年11月19日 2時00分発表 日付 11月21日 (木) 11月22日 (金) 11月23日 (土) 11月24日 (日) 11月25日 (月) 11月26日 (火) 天気 雨のち晴   晴時々曇   晴時々曇   晴時々曇   晴時々曇   曇一時雨 気温（℃）   14 降水 確率（％）   60  0   0   0   10  50 2024年11月19日 4時00分 発表 (C) Mapbox (C) OpenStreetMap (C) LY Corporation Yahoo!地図ガイドライン (C) Mapbox (C) OpenStreetMap (C) LY Corporation Yahoo!地図ガイドライン 11/18(月)18時\\u3000師走の寒さ\\u3000今季一番低く\\u3000北日本中心に積雪増加も Copyright (C) 2024 Weather Map Co., Ltd. All Rights Reserved. © LY Corporation'),\n",
            "             Document(metadata={'title': '東京都の天気 - 日本気象協会 tenki.jp', 'source': 'https://tenki.jp/forecast/3/16/', 'score': 0.7065353, 'images': []}, page_content='東京都の天気 - 日本気象協会 tenki.jp tenki.jpトップ｜ サイトマップ｜ ヘルプ tenki.jp 雨雲レーダー PM2.5分布予測 雷(予報) 雨雲レーダー(過去) 雷(実況) 気象予報士のポイント解説 雨雲レーダー PM2.5分布予測 19(火) 24(日) 25(月) 26(火) 19日04:00発表11月19日(火) 千代田区  12/7 20% 新宿区  12/7 20% 世田谷区  12/7 20% 三鷹市  12/6 20% 八王子市  13/5 20% 青梅市  13/5 20% 大島町  12/10 20% 八丈町  16/14 70% 小笠原村  24/24 50% 練馬区  12/6 20% 台東区  12/7 20% 品川区  12/8 20% 町田市  12/6 20% 立川市  12/6 20% 気象予報士のポイント解説(日直予報士) 19日 北海道や東北は積雪や路面凍結に注意 関東～九州は晴れても北風冷たい 11/19(火)05:45 19日は今季一番の冷え込み 東京や名古屋6℃前後 日中も師走並み 冬の便り続々か 11/18(月)18:05 秋田で初雪 明日19日朝にかけて北日本で雪強まる所も 積雪や路面の凍結に注意 11/18(月)17:36 雨雲 PM2.5 1位高尾山東京都 色づき始め 2位明治神宮外苑東京都 色づき始め 5位上野恩賜公園東京都 色づき始め tenki.jpの公式X（旧Twitter） 最新の気象・防災情報や、生活に役立つ情報を毎日リアルタイムに配信中！ 雨雲レーダー PM2.5 雷(予報) 雨雲レーダー(過去) 雷(実況) tenki.jp公式SNS tenki.jp公式アプリ tenki.jp tenki.jp 登山天気 tenki.jpトップ 雨雲レーダー PM2.5分布予測 雷(予報) 雨雲(過去) 雷(実況) 花粉飛散情報(1～5月頃) 桜開花情報(2～5月頃) GWの天気(4～5月頃) 梅雨入り・明け(5～7月頃) 熱中症情報(4～9月頃) 紅葉見頃情報(10～11月頃) ヒートショック(10～3月頃) スキー積雪情報(11～5月頃) 初日の出(12～1月頃) Copyright (C) 2024 日本気象協会 All Rights Reserved.'),\n",
            "             Document(metadata={'title': '東京都の天気（今日・明日の天気） | @nifty天気予報', 'source': 'https://weather.nifty.com/prefecture/13', 'score': 0.6922474, 'images': []}, page_content='東京都の今日・明日の天気予報。全市区町村の詳細天気情報に簡単アクセス。天気予報、防災情報など、あなたの毎日に')],\n",
            " 'question': '東京の今日の天気は？'}\n"
          ]
        }
      ],
      "source": [
        "import pprint\n",
        "\n",
        "chain = {\n",
        "    \"question\": RunnablePassthrough(),\n",
        "    \"context\": retriever,\n",
        "} | RunnablePassthrough.assign(answer=prompt | model | StrOutputParser())\n",
        "\n",
        "output = chain.invoke(\"東京の今日の天気は？\")\n",
        "pprint.pprint(output)"
      ]
    },
    {
      "cell_type": "code",
      "execution_count": 44,
      "metadata": {
        "execution": {
          "iopub.execute_input": "2024-06-28T02:34:20.479839Z",
          "iopub.status.busy": "2024-06-28T02:34:20.479664Z",
          "iopub.status.idle": "2024-06-28T02:34:27.723756Z",
          "shell.execute_reply": "2024-06-28T02:34:27.723236Z"
        },
        "id": "gAMSmq9NARFP"
      },
      "outputs": [],
      "source": [
        "from langchain_core.runnables import RunnableParallel\n",
        "\n",
        "chain = RunnableParallel(\n",
        "    {\n",
        "        \"question\": RunnablePassthrough(),\n",
        "        \"context\": retriever,\n",
        "    }\n",
        ").assign(answer=prompt | model | StrOutputParser())"
      ]
    },
    {
      "cell_type": "code",
      "execution_count": 45,
      "metadata": {
        "id": "h9VccyedARFP",
        "outputId": "47d8bc50-5d43-4de4-e35f-27ceed893733",
        "colab": {
          "base_uri": "https://localhost:8080/"
        }
      },
      "outputs": [
        {
          "output_type": "stream",
          "name": "stdout",
          "text": [
            "{'question': '東京の今日の天気は？', 'context': [Document(metadata={'title': '東京都の天気（今日・明日の天気） | @nifty天気予報', 'source': 'https://weather.nifty.com/prefecture/13', 'score': 0.86052185, 'images': []}, page_content='東京都の天気（今日・明日の天気） | @nifty天気予報 @niftyトップ 今日・明日の天気 サイトマップ MY天気 地震情報台風情報警報・注意報花粉情報洗濯指数傘指数衛星画像天気図 スポーツレジャー観光地公共施設 全国の天気 東京都 台風20号、21号発生中 東京都の天気 今日の天気10月27日(日) 明日の天気10月28日(月) 東京  24/17 50% 大島  23/19 50% 八丈島  25/21 40% 父島  29/26 30% 港区 目黒区 大田区 世田谷区 墨田区 江東区 荒川区 足立区 葛飾区 日野市 多摩市 稲城市 多摩北部 三鷹市 昭島市 小平市 東村山市 東大和市 清瀬市 青梅市 大島 八丈島 東京  21/17 70% 大島  21/21 70% 八丈島  26/23 70% 父島  29/26 40% 港区 目黒区 大田区 世田谷区 墨田区 江東区 荒川区 足立区 葛飾区 日野市 多摩市 稲城市 多摩北部 三鷹市 昭島市 東村山市 東大和市 清瀬市 青梅市 大島 八丈島 栃木県 群馬県 東京都 長崎県 熊本県 大分県 宮崎県 沖縄県 お天気豆知識 ### 音速 秋が深まり気温も下がってくると、夏、元気に鳴いていた虫たちの声も次第に聞こえなくなります。特に夜などはひっそりとした静けさを感じることでしょう。皆さんは、気温の変化が音の伝わる速さにも影響する、ということを知っていますか。空気中では、気温が高いほど音は速く伝わります。また、気圧も音速に影響を与えますが、無視できるほど小さなものです。一方、地上のようには電波の伝わらない海中においては、音は空気中よりも速く伝わり、重要な通信手段となっています。水中では、水温が高いほど音速は速くなり、水圧が高くても速く伝わるようになります。つまり、海面付近の日射を受けて暖かいところと、大きな水圧のかかっている深海が、海の中では音速の速い領域となっているのです。音はそれが伝わっていく物質が密なほど速くなる、といった性質があります。そのため、一般には軽い空気よりも重たい水の中のほうが音を速く伝えるのです。空気中での音速は、通常、秒速３４０メートルですが、水中での音速は、秒速１５００メートル。空気中の４倍以上というすさまじい速さで伝わっていくのです。 ### ウエザーマーケティング 私達が毎日のように利用しているスーパーやコンビニの商品の中には、気温や天気、季節によってその売れゆきが大きく変わってくるものがあります。例えば、水着やスキー用品などの季節商品や、セーターやコートなどの衣類、野菜や飲み物などがそうです。当然、お店では、消費者が買いたいと思う時期に最適な商品を提供したいと考えています。その際、気象情報を活用しながら、販売計画を立てたり、商品の仕入れや在庫の管理などを工夫することを、「ウェザーマーケティング」と言います。天気や降水確率、体感温度などを商品の販売活動に活用することにより、むだを防ぎ、売り上げを上げるチャンスを知ることができるのです。さらに、ウェザーマーケティングは、仕入れや在庫管理などの販売計画だけでなく、店鋪の人員配置、売り場作り、プロモーション計画などにも役立てることができます。このように、気象情報はテレビで見ている天気予報だけでなく、流通の業界にもさまざまな形で活用されているのです。 ### ゴルフボールのしくみ スポーツの秋です。ゴルフを楽しむ方も多いでしょう。一見ただの小さな円球に思えるゴルフボールですが、その中には最先端のテクノロジーがつまっています。表面にあるへこみはディンプルといって、単なる飾りではありません。ディンプルには空気抵抗を減らして、揚力を増やす効果があり、ボールが遠くまで飛ぶための翼の役割をします。また、ゴルフボールは大きく分けて、糸巻きボールとソリッドボールがありますが、現在はソリッドボールが市場のほとんどを占めています。ソリッドボールは反発力の強い合成ゴムでできていて、インパクト時のエネルギーを飛距離につなげる仕組みになっています。少しでも飛距離がのびるよう、小さなボールにいろいろな工夫があるのですね。 花粉情報 洗濯指数 傘指数 スポーツ レジャー 公共施設 その他 MY天気 衛星画像 天気図 お問い合わせ ©Copyright Weathernews Inc. 個人情報保護ポリシー ウェブサイト利用ガイドライン 推奨環境 運営会社 ©NIFTY Corporation'), Document(metadata={'title': '東京（東京）の天気 - Yahoo!天気・災害', 'source': 'https://weather.yahoo.co.jp/weather/jp/13/4410.html', 'score': 0.8437023, 'images': []}, page_content='パーソナル天気 現在位置： 天気・災害トップ > 関東・信越 > 東京都 > 東京（東京） 今日明日の天気 2024年11月19日 4時00分発表 11月19日(火) 晴時々曇 13℃[-7] 8℃[-3] 時間  0-6 6-12    12-18   18-24 降水  0％  0％  0％  0％ 風： 北の風後北東の風２３区西部では北の風やや強く 波： 1.5メートル後0.5メートル 11月20日(水) 曇のち雨 12℃[-1] 7℃[-1] 時間  0-6 6-12    12-18   18-24 降水  0％  10％ 30％ 60％ 風： 北西の風後東の風 波： 0.5メートル 東京地方の警報・注意報 注意報 強風、波浪 週間天気 2024年11月19日 2時00分発表 日付 11月21日 (木) 11月22日 (金) 11月23日 (土) 11月24日 (日) 11月25日 (月) 11月26日 (火) 天気 雨のち晴   晴時々曇   晴時々曇   晴時々曇   晴時々曇   曇一時雨 気温（℃）   14 降水 確率（％）   60  0   0   0   10  50 2024年11月19日 4時00分 発表 (C) Mapbox (C) OpenStreetMap (C) LY Corporation Yahoo!地図ガイドライン (C) Mapbox (C) OpenStreetMap (C) LY Corporation Yahoo!地図ガイドライン 11/18(月)18時\\u3000師走の寒さ\\u3000今季一番低く\\u3000北日本中心に積雪増加も Copyright (C) 2024 Weather Map Co., Ltd. All Rights Reserved. © LY Corporation'), Document(metadata={'title': '中央区の1時間天気 - 日本気象協会 tenki.jp', 'source': 'https://tenki.jp/forecast/3/16/4410/13102/1hour.html', 'score': 0.7489592, 'images': []}, page_content='tenki.jp\\n中央区の天気27日18:00発表\\n雷レーダーで落雷情報を見る\\n今日27日(火)\\n明日28日(水)\\n明後日29日(木)\\n今日 2024年02月27日(火)[赤口]\\n晴れ\\n晴れ\\n晴れ\\n晴れ\\n晴れ\\n晴れ\\n晴れ\\n晴れ\\n晴れ\\n晴れ\\n晴れ\\n晴れ\\n晴れ\\n晴れ\\n晴れ\\n晴れ\\n晴れ\\n晴れ\\n晴れ\\n晴れ\\n晴れ\\n晴れ\\n晴れ\\n晴れ\\n北西\\n北西\\n北西\\n北西\\n北西\\n北西\\n北西\\n西北西\\n北西\\n北西\\n北北西\\n北西\\n北西\\n北北西\\n北北西\\n北北西\\n北北西\\n北北西\\n北西\\n北西\\n北西\\n北西\\n北西\\n北北西\\n東京都雨雲レーダー現在の雨雲を見る\\nこれからの予報を見る\\n明日 2024年02月28日(水)[先勝]\\n晴れ\\n晴れ\\n晴れ\\n晴れ\\n晴れ\\n晴れ\\n晴れ\\n晴れ\\n晴れ\\n晴れ\\n晴れ\\n晴れ\\n晴れ\\n晴れ\\n晴れ\\n晴れ\\n晴れ\\n晴れ\\n晴れ\\n晴れ\\n晴れ\\n晴れ\\n晴れ\\n晴れ\\n北西\\n北西\\n北西\\n北西\\n北西\\n北北西\\n北北西\\n北北西\\n北西\\n北西\\n北北西\\n北北西\\n北西\\n北北西\\n北北西\\n北北西\\n北北西\\n北北西\\n北北西\\n北北西\\n北北西\\n北北西\\n北\\n北\\n東京都雨雲レーダー現在の雨雲を見る\\nこれからの予報を見る\\n明後日 2024年02月29日(木)[友引]\\n晴れ\\n晴れ\\n晴れ\\n晴れ\\n晴れ\\n晴れ\\n晴れ\\n晴れ\\n晴れ\\n晴れ\\n晴れ\\n晴れ\\n晴れ\\n曇り\\n曇り\\n曇り\\n曇り\\n曇り\\n曇り\\n曇り\\n曇り\\n曇り\\n曇り\\n曇り\\n北\\n北\\n北\\n北\\n北\\n北\\n北北東\\n北北東\\n北北東\\n北東\\n東北東\\n東\\n東南東\\n南東\\n南東\\n南東\\n南東\\n南東\\n東南東\\n東南東\\n東\\n東\\n北東\\n北北西\\n東京都雨雲レーダー現在の雨雲を見る\\nこれからの予報を見る\\nスギ花粉予測\\n東京都の花粉飛散分布予測\\n02月27日\\n少ない\\n48時間後までの予測を見る\\n10日間天気\\n03月01日\\n(金)\\n03月02日\\n(土)\\n03月03日\\n(日)\\n03月04日\\n(月)\\n03月05日\\n(火)\\n03月06日\\n(水)\\n03月07日\\n(木)\\n03月08日\\n(金)\\n雨のち曇\\n晴時々曇\\n晴\\n晴時々曇\\n曇時々雨\\n曇時々雨\\n曇時々雨\\n曇時々晴\\n14\\n5\\n9\\n4\\n13\\n2\\n16\\n4\\n11\\n8\\n9\\n6\\n10\\n4\\n12\\n4\\n90%\\n40%\\n20%\\n30%\\n90%\\n80%\\n50%\\n40%\\n気象予報士のポイント解説(日直予報士)\\n 3月に入っても強い寒気が南下\\u3000今週末は日本海側で大雪の恐れ\\u3000太平洋側も冬の寒さ\\n木曜～金曜\\u3000また南岸低気圧\\u3000九州～関東、東北で雨や湿った雪\\u3000風も強まる\\n関西\\u300028日(水)貴重な日差しで気温上昇\\u3000南部ではスギ花粉がピーク\\u3000万全の対策を\\n関東週間\\u3000明日の朝まで強風に注意\\u3000交通への影響のおそれ\\u3000天気周期変化\\u3000寒暖差大\\nこちらもおすすめ\\n東京地方(東京)各地の天気\\n天気ガイド\\n東京の観測ランキング\\n※中央区に最も近い観測地点（アメダス）を表示しています。\\n注目の情報\\nアクエリアス 冬の汗かき予報\\n冬でも汗をかいている。今日の汗かきシーンをチェック！PR\\n30日間無料トライアル実施中\\n登山天気がパワーUP！最新の山の状態がすぐにわかる！\\n人気の日直予報士を配信\\ntenki.jpの公式Twitterをチェック!天気、降水確率、最高最低気温を配信\\n天気予報\\n観測\\n防災情報\\n天気図\\n指数情報\\nレジャー天気\\n季節特集\\n天気ニュース\\ntenki.jp+more\\n全国のコンテンツ\\ntenki.jpトップ\\n天気予報\\n観測\\n防災情報\\n天気図\\n指数情報\\nレジャー天気\\n季節特集\\n天気ニュース')], 'answer': '提示されたテキストからは、東京の今日の天気は複数の情報源によって異なっており、断定できません。\\n\\n* 一つの情報源では、10月27日(日)の東京の天気は晴れで、最高気温24度、最低気温17度、降水確率50%とあります。\\n* 別の情報源では、11月19日(火)の東京の天気は晴れ時々曇りで、最高気温13度、最低気温8度とあります。\\n* もう一つの情報源では、2月27日(火)の東京(中央区)の天気は晴れとあります。\\n\\n\\nどの情報が正しいかは、日付を確認する必要があります。\\n'}\n"
          ]
        }
      ],
      "source": [
        "output = chain.invoke(\"東京の今日の天気は？\")\n",
        "print(output)"
      ]
    },
    {
      "cell_type": "markdown",
      "metadata": {
        "id": "YkIB-MskARFP"
      },
      "source": [
        "#### ＜補足：pick ＞\n"
      ]
    },
    {
      "cell_type": "code",
      "execution_count": 46,
      "metadata": {
        "execution": {
          "iopub.execute_input": "2024-06-28T02:34:27.725885Z",
          "iopub.status.busy": "2024-06-28T02:34:27.725708Z",
          "iopub.status.idle": "2024-06-28T02:34:34.101909Z",
          "shell.execute_reply": "2024-06-28T02:34:34.101439Z"
        },
        "id": "YH4UJZZwARFP"
      },
      "outputs": [],
      "source": [
        "chain = (\n",
        "    RunnableParallel(\n",
        "        {\n",
        "            \"question\": RunnablePassthrough(),\n",
        "            \"context\": retriever,\n",
        "        }\n",
        "    )\n",
        "    .assign(answer=prompt | model | StrOutputParser())\n",
        "    .pick([\"context\", \"answer\"])\n",
        ")"
      ]
    },
    {
      "cell_type": "code",
      "execution_count": 47,
      "metadata": {
        "id": "_moffi2GARFP",
        "outputId": "64dfe395-9477-4b32-a230-7ea996b8006e",
        "colab": {
          "base_uri": "https://localhost:8080/"
        }
      },
      "outputs": [
        {
          "output_type": "stream",
          "name": "stdout",
          "text": [
            "{'context': [Document(metadata={'title': '東京都の天気（今日・明日の天気） | @nifty天気予報', 'source': 'https://weather.nifty.com/prefecture/13', 'score': 0.86052185, 'images': []}, page_content='東京都の天気（今日・明日の天気） | @nifty天気予報 @niftyトップ 今日・明日の天気 サイトマップ MY天気 地震情報台風情報警報・注意報花粉情報洗濯指数傘指数衛星画像天気図 スポーツレジャー観光地公共施設 全国の天気 東京都 台風20号、21号発生中 東京都の天気 今日の天気10月27日(日) 明日の天気10月28日(月) 東京  24/17 50% 大島  23/19 50% 八丈島  25/21 40% 父島  29/26 30% 港区 目黒区 大田区 世田谷区 墨田区 江東区 荒川区 足立区 葛飾区 日野市 多摩市 稲城市 多摩北部 三鷹市 昭島市 小平市 東村山市 東大和市 清瀬市 青梅市 大島 八丈島 東京  21/17 70% 大島  21/21 70% 八丈島  26/23 70% 父島  29/26 40% 港区 目黒区 大田区 世田谷区 墨田区 江東区 荒川区 足立区 葛飾区 日野市 多摩市 稲城市 多摩北部 三鷹市 昭島市 東村山市 東大和市 清瀬市 青梅市 大島 八丈島 栃木県 群馬県 東京都 長崎県 熊本県 大分県 宮崎県 沖縄県 お天気豆知識 ### 音速 秋が深まり気温も下がってくると、夏、元気に鳴いていた虫たちの声も次第に聞こえなくなります。特に夜などはひっそりとした静けさを感じることでしょう。皆さんは、気温の変化が音の伝わる速さにも影響する、ということを知っていますか。空気中では、気温が高いほど音は速く伝わります。また、気圧も音速に影響を与えますが、無視できるほど小さなものです。一方、地上のようには電波の伝わらない海中においては、音は空気中よりも速く伝わり、重要な通信手段となっています。水中では、水温が高いほど音速は速くなり、水圧が高くても速く伝わるようになります。つまり、海面付近の日射を受けて暖かいところと、大きな水圧のかかっている深海が、海の中では音速の速い領域となっているのです。音はそれが伝わっていく物質が密なほど速くなる、といった性質があります。そのため、一般には軽い空気よりも重たい水の中のほうが音を速く伝えるのです。空気中での音速は、通常、秒速３４０メートルですが、水中での音速は、秒速１５００メートル。空気中の４倍以上というすさまじい速さで伝わっていくのです。 ### ウエザーマーケティング 私達が毎日のように利用しているスーパーやコンビニの商品の中には、気温や天気、季節によってその売れゆきが大きく変わってくるものがあります。例えば、水着やスキー用品などの季節商品や、セーターやコートなどの衣類、野菜や飲み物などがそうです。当然、お店では、消費者が買いたいと思う時期に最適な商品を提供したいと考えています。その際、気象情報を活用しながら、販売計画を立てたり、商品の仕入れや在庫の管理などを工夫することを、「ウェザーマーケティング」と言います。天気や降水確率、体感温度などを商品の販売活動に活用することにより、むだを防ぎ、売り上げを上げるチャンスを知ることができるのです。さらに、ウェザーマーケティングは、仕入れや在庫管理などの販売計画だけでなく、店鋪の人員配置、売り場作り、プロモーション計画などにも役立てることができます。このように、気象情報はテレビで見ている天気予報だけでなく、流通の業界にもさまざまな形で活用されているのです。 ### ゴルフボールのしくみ スポーツの秋です。ゴルフを楽しむ方も多いでしょう。一見ただの小さな円球に思えるゴルフボールですが、その中には最先端のテクノロジーがつまっています。表面にあるへこみはディンプルといって、単なる飾りではありません。ディンプルには空気抵抗を減らして、揚力を増やす効果があり、ボールが遠くまで飛ぶための翼の役割をします。また、ゴルフボールは大きく分けて、糸巻きボールとソリッドボールがありますが、現在はソリッドボールが市場のほとんどを占めています。ソリッドボールは反発力の強い合成ゴムでできていて、インパクト時のエネルギーを飛距離につなげる仕組みになっています。少しでも飛距離がのびるよう、小さなボールにいろいろな工夫があるのですね。 花粉情報 洗濯指数 傘指数 スポーツ レジャー 公共施設 その他 MY天気 衛星画像 天気図 お問い合わせ ©Copyright Weathernews Inc. 個人情報保護ポリシー ウェブサイト利用ガイドライン 推奨環境 運営会社 ©NIFTY Corporation'), Document(metadata={'title': '東京（東京）の天気 - Yahoo!天気・災害', 'source': 'https://weather.yahoo.co.jp/weather/jp/13/4410.html', 'score': 0.8437023, 'images': []}, page_content='パーソナル天気 現在位置： 天気・災害トップ > 関東・信越 > 東京都 > 東京（東京） 今日明日の天気 2024年11月19日 4時00分発表 11月19日(火) 晴時々曇 13℃[-7] 8℃[-3] 時間  0-6 6-12    12-18   18-24 降水  0％  0％  0％  0％ 風： 北の風後北東の風２３区西部では北の風やや強く 波： 1.5メートル後0.5メートル 11月20日(水) 曇のち雨 12℃[-1] 7℃[-1] 時間  0-6 6-12    12-18   18-24 降水  0％  10％ 30％ 60％ 風： 北西の風後東の風 波： 0.5メートル 東京地方の警報・注意報 注意報 強風、波浪 週間天気 2024年11月19日 2時00分発表 日付 11月21日 (木) 11月22日 (金) 11月23日 (土) 11月24日 (日) 11月25日 (月) 11月26日 (火) 天気 雨のち晴   晴時々曇   晴時々曇   晴時々曇   晴時々曇   曇一時雨 気温（℃）   14 降水 確率（％）   60  0   0   0   10  50 2024年11月19日 4時00分 発表 (C) Mapbox (C) OpenStreetMap (C) LY Corporation Yahoo!地図ガイドライン (C) Mapbox (C) OpenStreetMap (C) LY Corporation Yahoo!地図ガイドライン 11/18(月)18時\\u3000師走の寒さ\\u3000今季一番低く\\u3000北日本中心に積雪増加も Copyright (C) 2024 Weather Map Co., Ltd. All Rights Reserved. © LY Corporation'), Document(metadata={'title': '東京都の天気 - 日本気象協会 tenki.jp', 'source': 'https://tenki.jp/forecast/3/16/', 'score': 0.7065353, 'images': []}, page_content='東京都の天気 - 日本気象協会 tenki.jp tenki.jpトップ｜ サイトマップ｜ ヘルプ tenki.jp 雨雲レーダー PM2.5分布予測 雷(予報) 雨雲レーダー(過去) 雷(実況) 気象予報士のポイント解説 雨雲レーダー PM2.5分布予測 19(火) 24(日) 25(月) 26(火) 19日04:00発表11月19日(火) 千代田区  12/7 20% 新宿区  12/7 20% 世田谷区  12/7 20% 三鷹市  12/6 20% 八王子市  13/5 20% 青梅市  13/5 20% 大島町  12/10 20% 八丈町  16/14 70% 小笠原村  24/24 50% 練馬区  12/6 20% 台東区  12/7 20% 品川区  12/8 20% 町田市  12/6 20% 立川市  12/6 20% 気象予報士のポイント解説(日直予報士) 19日 北海道や東北は積雪や路面凍結に注意 関東～九州は晴れても北風冷たい 11/19(火)05:45 19日は今季一番の冷え込み 東京や名古屋6℃前後 日中も師走並み 冬の便り続々か 11/18(月)18:05 秋田で初雪 明日19日朝にかけて北日本で雪強まる所も 積雪や路面の凍結に注意 11/18(月)17:36 雨雲 PM2.5 1位高尾山東京都 色づき始め 2位明治神宮外苑東京都 色づき始め 5位上野恩賜公園東京都 色づき始め tenki.jpの公式X（旧Twitter） 最新の気象・防災情報や、生活に役立つ情報を毎日リアルタイムに配信中！ 雨雲レーダー PM2.5 雷(予報) 雨雲レーダー(過去) 雷(実況) tenki.jp公式SNS tenki.jp公式アプリ tenki.jp tenki.jp 登山天気 tenki.jpトップ 雨雲レーダー PM2.5分布予測 雷(予報) 雨雲(過去) 雷(実況) 花粉飛散情報(1～5月頃) 桜開花情報(2～5月頃) GWの天気(4～5月頃) 梅雨入り・明け(5～7月頃) 熱中症情報(4～9月頃) 紅葉見頃情報(10～11月頃) ヒートショック(10～3月頃) スキー積雪情報(11～5月頃) 初日の出(12～1月頃) Copyright (C) 2024 日本気象協会 All Rights Reserved.')], 'answer': '提示されたテキストからは、今日の東京の天気に関する情報が複数のソースから得られますが、それぞれ日付や時間が異なり、完全に一致する記述はありません。\\n\\n* **@nifty天気予報:** 10月27日(日)の東京の天気は、24/17度、降水確率50%と記載されています。\\n* **Yahoo!天気・災害:** 11月19日(火)の東京の天気は、晴時々曇、最高気温13℃、最低気温8℃、降水確率0%と記載されています。\\n* **日本気象協会 tenki.jp:** 11月19日(火)の東京（千代田区など複数地点）の天気は、最高気温12℃、最低気温7℃、降水確率20%と記載されています。\\n\\n\\nどの情報が「今日」に該当するかは、質問された時点の日にちによって異なります。\\n'}\n"
          ]
        }
      ],
      "source": [
        "output = chain.invoke(\"東京の今日の天気は？\")\n",
        "print(output)"
      ]
    },
    {
      "cell_type": "markdown",
      "metadata": {
        "id": "0Iobg_faARFQ"
      },
      "source": [
        "### （コラム）astream_events\n"
      ]
    },
    {
      "cell_type": "code",
      "execution_count": 48,
      "metadata": {
        "id": "SDQW9dimARFQ"
      },
      "outputs": [],
      "source": [
        "# Google Colabでは次のコードの「async」の箇所に「Use of \"async\" not allowed outside of async function」と表示されますが、エラーなく実行できます"
      ]
    },
    {
      "cell_type": "code",
      "execution_count": 49,
      "metadata": {
        "execution": {
          "iopub.execute_input": "2024-06-28T02:34:34.103973Z",
          "iopub.status.busy": "2024-06-28T02:34:34.103802Z",
          "iopub.status.idle": "2024-06-28T02:34:34.107769Z",
          "shell.execute_reply": "2024-06-28T02:34:34.107274Z"
        },
        "id": "pRDuW70pARFQ",
        "outputId": "778a22cc-9675-44da-a6bc-b0e8a65e9654",
        "colab": {
          "base_uri": "https://localhost:8080/"
        }
      },
      "outputs": [
        {
          "output_type": "stream",
          "name": "stdout",
          "text": [
            "{'event': 'on_chain_start', 'data': {'input': '東京の今日の天気は？'}, 'name': 'RunnableSequence', 'tags': [], 'run_id': 'b47496ae-2377-4c39-ad26-fc9a5ec03ff4', 'metadata': {}, 'parent_ids': []}\n",
            "{'event': 'on_chain_start', 'data': {}, 'name': 'RunnableParallel<context,question>', 'tags': ['seq:step:1'], 'run_id': '1a3da5c4-9b7d-4521-ba84-d2bb5691ecbb', 'metadata': {}, 'parent_ids': ['b47496ae-2377-4c39-ad26-fc9a5ec03ff4']}\n",
            "{'event': 'on_retriever_start', 'data': {'input': {'query': '東京の今日の天気は？'}}, 'name': 'TavilySearchAPIRetriever', 'tags': ['map:key:context'], 'run_id': 'b8323f4c-948f-4f8c-a73b-4896327f6779', 'metadata': {'ls_retriever_name': 'tavilysearchapi'}, 'parent_ids': ['b47496ae-2377-4c39-ad26-fc9a5ec03ff4', '1a3da5c4-9b7d-4521-ba84-d2bb5691ecbb']}\n",
            "{'event': 'on_chain_start', 'data': {}, 'name': 'RunnablePassthrough', 'tags': ['map:key:question'], 'run_id': '94b3ffba-ea85-491c-9751-eb374a339237', 'metadata': {}, 'parent_ids': ['b47496ae-2377-4c39-ad26-fc9a5ec03ff4', '1a3da5c4-9b7d-4521-ba84-d2bb5691ecbb']}\n",
            "{'event': 'on_chain_stream', 'run_id': '94b3ffba-ea85-491c-9751-eb374a339237', 'name': 'RunnablePassthrough', 'tags': ['map:key:question'], 'metadata': {}, 'data': {'chunk': '東京の今日の天気は？'}, 'parent_ids': ['b47496ae-2377-4c39-ad26-fc9a5ec03ff4', '1a3da5c4-9b7d-4521-ba84-d2bb5691ecbb']}\n",
            "{'event': 'on_chain_stream', 'run_id': '1a3da5c4-9b7d-4521-ba84-d2bb5691ecbb', 'name': 'RunnableParallel<context,question>', 'tags': ['seq:step:1'], 'metadata': {}, 'data': {'chunk': {'question': '東京の今日の天気は？'}}, 'parent_ids': ['b47496ae-2377-4c39-ad26-fc9a5ec03ff4']}\n",
            "{'event': 'on_chain_end', 'data': {'output': '東京の今日の天気は？', 'input': '東京の今日の天気は？'}, 'run_id': '94b3ffba-ea85-491c-9751-eb374a339237', 'name': 'RunnablePassthrough', 'tags': ['map:key:question'], 'metadata': {}, 'parent_ids': ['b47496ae-2377-4c39-ad26-fc9a5ec03ff4', '1a3da5c4-9b7d-4521-ba84-d2bb5691ecbb']}\n",
            "{'event': 'on_retriever_end', 'data': {'output': [Document(metadata={'title': '東京（東京）の天気 - Yahoo!天気・災害', 'source': 'https://weather.yahoo.co.jp/weather/jp/13/4410.html', 'score': 0.8437023, 'images': []}, page_content='パーソナル天気 現在位置： 天気・災害トップ > 関東・信越 > 東京都 > 東京（東京） 今日明日の天気 2024年11月19日 4時00分発表 11月19日(火) 晴時々曇 13℃[-7] 8℃[-3] 時間  0-6 6-12    12-18   18-24 降水  0％  0％  0％  0％ 風： 北の風後北東の風２３区西部では北の風やや強く 波： 1.5メートル後0.5メートル 11月20日(水) 曇のち雨 12℃[-1] 7℃[-1] 時間  0-6 6-12    12-18   18-24 降水  0％  10％ 30％ 60％ 風： 北西の風後東の風 波： 0.5メートル 東京地方の警報・注意報 注意報 強風、波浪 週間天気 2024年11月19日 2時00分発表 日付 11月21日 (木) 11月22日 (金) 11月23日 (土) 11月24日 (日) 11月25日 (月) 11月26日 (火) 天気 雨のち晴   晴時々曇   晴時々曇   晴時々曇   晴時々曇   曇一時雨 気温（℃）   14 降水 確率（％）   60  0   0   0   10  50 2024年11月19日 4時00分 発表 (C) Mapbox (C) OpenStreetMap (C) LY Corporation Yahoo!地図ガイドライン (C) Mapbox (C) OpenStreetMap (C) LY Corporation Yahoo!地図ガイドライン 11/18(月)18時\\u3000師走の寒さ\\u3000今季一番低く\\u3000北日本中心に積雪増加も Copyright (C) 2024 Weather Map Co., Ltd. All Rights Reserved. © LY Corporation'), Document(metadata={'title': '東京都の天気 - 日本気象協会 tenki.jp', 'source': 'https://tenki.jp/forecast/3/16/', 'score': 0.7065353, 'images': []}, page_content='東京都の天気 - 日本気象協会 tenki.jp tenki.jpトップ｜ サイトマップ｜ ヘルプ tenki.jp 雨雲レーダー PM2.5分布予測 雷(予報) 雨雲レーダー(過去) 雷(実況) 気象予報士のポイント解説 雨雲レーダー PM2.5分布予測 19(火) 24(日) 25(月) 26(火) 19日04:00発表11月19日(火) 千代田区  12/7 20% 新宿区  12/7 20% 世田谷区  12/7 20% 三鷹市  12/6 20% 八王子市  13/5 20% 青梅市  13/5 20% 大島町  12/10 20% 八丈町  16/14 70% 小笠原村  24/24 50% 練馬区  12/6 20% 台東区  12/7 20% 品川区  12/8 20% 町田市  12/6 20% 立川市  12/6 20% 気象予報士のポイント解説(日直予報士) 19日 北海道や東北は積雪や路面凍結に注意 関東～九州は晴れても北風冷たい 11/19(火)05:45 19日は今季一番の冷え込み 東京や名古屋6℃前後 日中も師走並み 冬の便り続々か 11/18(月)18:05 秋田で初雪 明日19日朝にかけて北日本で雪強まる所も 積雪や路面の凍結に注意 11/18(月)17:36 雨雲 PM2.5 1位高尾山東京都 色づき始め 2位明治神宮外苑東京都 色づき始め 5位上野恩賜公園東京都 色づき始め tenki.jpの公式X（旧Twitter） 最新の気象・防災情報や、生活に役立つ情報を毎日リアルタイムに配信中！ 雨雲レーダー PM2.5 雷(予報) 雨雲レーダー(過去) 雷(実況) tenki.jp公式SNS tenki.jp公式アプリ tenki.jp tenki.jp 登山天気 tenki.jpトップ 雨雲レーダー PM2.5分布予測 雷(予報) 雨雲(過去) 雷(実況) 花粉飛散情報(1～5月頃) 桜開花情報(2～5月頃) GWの天気(4～5月頃) 梅雨入り・明け(5～7月頃) 熱中症情報(4～9月頃) 紅葉見頃情報(10～11月頃) ヒートショック(10～3月頃) スキー積雪情報(11～5月頃) 初日の出(12～1月頃) Copyright (C) 2024 日本気象協会 All Rights Reserved.'), Document(metadata={'title': '東京都千代田区の天気予報(1時間・今日明日・2週間) - ウェザーニュース', 'source': 'https://weathernews.jp/onebox/tenki/tokyo/13101/', 'score': 0.6675167, 'images': []}, page_content='{{item.cityname}}\\n天気予報を検索\\n天気\\n防災・減災\\n自然・季節・健康\\n便利なメニュー\\nほか全メニュー\\n1週間先までの花粉飛散予報\\n東京都千代田区の天気予報\\n5分ごと\\n1時間ごと\\n今日明日\\n週間天気\\n日\\n天気\\n気温\\n降水\\n確率\\n今日\\n2月14日 (水)\\n最高18℃\\n最低5℃\\n午前10%\\n午後20%\\n明日\\n2月15日 (木)\\n最高19℃\\n最低7℃\\n午前10%\\n午後20%\\nチョコっと季節先取りで暖かい\\n今日の昼間は晴れて、気持ちの良い空。季節先取りの暖かさで、チョコも溶けやすくなりそうです。朝晩との寒暖差が大きいため服装選びに要注意。花粉も心配です。\\n5分ごと\\n1時間ごと\\n時\\n分\\n天気\\n10時\\n10\\n影はっきり\\n・\\n影はっきり\\n20\\n影はっきり\\n・\\n影はっきり\\n30\\n影はっきり\\n・\\n影はっきり\\n40\\n影はっきり\\n・\\n影はっきり\\n50\\n影はっきり\\n・\\n影はっきり\\n11時\\n00\\n影はっきり\\n・\\n影はっきり\\n日\\n時\\n天気\\n降水\\n気温\\n風\\n14日(水)\\n11\\n0\\n13℃\\n0m\\n12\\n0\\n15℃\\n1m\\n13\\n0\\n16℃\\n2m\\n14\\n0\\n18℃\\n3m\\n15\\n0\\n18℃\\n3m\\n16\\n0\\n17℃\\n3m\\n17\\n0\\n15℃\\n2m\\n18\\n0\\n15℃\\n2m\\n19\\n0\\n14℃\\n2m\\n20\\n0\\n14℃\\n2m\\n21\\n0\\n14℃\\n2m\\n22\\n0\\n13℃\\n1m\\n23\\n0\\n13℃\\n1m\\n15日(木)\\n0\\n0\\n12℃\\n1m\\n1\\n0\\n11℃\\n1m\\n2\\n0\\n10℃\\n1m\\n3\\n0\\n9℃\\n2m\\n4\\n0\\n8℃\\n2m\\n5\\n0\\n8℃\\n1m\\n6\\n0\\n8℃\\n1m\\n7\\n0\\n7℃\\n1m\\n8\\n0\\n10℃\\n1m\\n9\\n0\\n12℃\\n2m\\n10\\n0\\n15℃\\n3m\\n11\\n0\\n17℃\\n4m\\n12\\n0\\n18℃\\n5m\\n13\\n0\\n19℃\\n6m\\n14\\n0\\n19℃\\n7m\\n15\\n0\\n18℃\\n8m\\n16\\n0\\n18℃\\n8m\\n17\\n0\\n16℃\\n8m\\n18\\n0\\n16℃\\n8m\\n19\\n0\\n16℃\\n7m\\n20\\n0\\n16℃\\n7m\\n21\\n0\\n16℃\\n7m\\n22\\n1ミリ\\n16℃\\n7m\\n23\\n1ミリ\\n16℃\\n7m\\n16日(金)\\n0\\n0\\n16℃\\n7m\\n1\\n0\\n16℃\\n6m\\n2\\n0\\n16℃\\n3m\\n3\\n0\\n12℃\\n3m\\n4\\n0\\n10℃\\n5m\\n5\\n0\\n9℃\\n6m\\n6\\n0\\n8℃\\n7m\\n7\\n0\\n8℃\\n8m\\n8\\n0\\n8℃\\n7m\\n9\\n0\\n8℃\\n6m\\n10\\n0\\n9℃\\n5m\\n11\\n0\\n10℃\\n4m\\n12\\n0\\n11℃\\n3m\\n13\\n0\\n11℃\\n3m\\n14\\n0\\n12℃\\n2m\\n15\\n0\\n11℃\\n2m\\n16\\n0\\n11℃\\n2m\\n17\\n0\\n10℃\\n3m\\n18\\n0\\n9℃\\n3m\\n19\\n0\\n8℃\\n3m\\n20\\n0\\n8℃\\n3m\\n21\\n0\\n7℃\\n2m\\n22\\n0\\n7℃\\n2m\\n23\\n0\\n6℃\\n2m\\n17日(土)\\n0\\n0\\n6℃\\n2m\\n1\\n0\\n6℃\\n2m\\n2\\n0\\n5℃\\n2m\\n3\\n0\\n5℃\\n2m\\n4\\n0\\n4℃\\n2m\\n5\\n0\\n4℃\\n2m\\n6\\n0\\n4℃\\n2m\\n7\\n0\\n4℃\\n2m\\n8\\n0\\n5℃\\n2m\\n9\\n0\\n6℃\\n2m\\n10\\n0\\n7℃\\n2m\\nチョコっと季節先取りで暖かい\\n今日の昼間は晴れて、気持ちの良い空。季節先取りの暖かさで、チョコも溶けやすくなりそうです。朝晩との寒暖差が大きいため服装選びに要注意。花粉も心配です。\\n週間(10日間)\\n日\\n天気\\n最高\\n最低\\n降水\\n15(木)\\n19℃\\n7℃\\n20%\\n16(金)\\n16℃\\n6℃\\n20%\\n17(土)\\n13℃\\n3℃\\n20%\\n18(日)\\n17℃\\n6℃\\n20%\\n19(月)\\n19℃\\n8℃\\n30%\\n20(火)\\n21℃\\n12℃\\n40%\\n21(水)\\n19℃\\n13℃\\n60%\\n22(木)\\n13℃\\n4℃\\n60%\\n23(金)\\n8℃\\n2℃\\n40%\\n24(土)\\n9℃\\n2℃\\n40%\\n季節先取りの暖かさ\\u3000花粉対策を\\n日差しの届く日が多くなります。気温はアップダウンしつつも季節先取りの暖かさとなるため、昼間は厚着しすぎないように注意。花粉飛散の可能性もあるので対策を万全に。\\nお天気ニュース\\n2月14日(水)の洗濯天気予報\\u3000関東など晴天も花粉飛散に注意\\n2024.02.14 06:08\\n週間天気\\u3000明日と週明けは広範囲で雨\\u30004月並の暖かい日多く花粉飛散も\\n2024.02.14 05:28\\n今日も暖かさ続く 各地で4月並みの陽気\\u3000花粉飛散や融雪に注意\\n2024.02.14 08:02\\nお天気ニュースをもっと読む →\\nお天気ニュース\\n2月14日(水)の洗濯天気予報\\u3000関東など晴天も花粉飛散に注意\\n2024.02.14 06:08\\n週間天気\\u3000明日と週明けは広範囲で雨\\u30004月並の暖かい日多く花粉飛散も\\n2024.02.14 05:28\\n今日も暖かさ続く 各地で4月並みの陽気\\u3000花粉飛散や融雪に注意\\n2024.02.14 08:02\\nお天気ニュースをもっと読む →\\n東京都千代田区付近の天気\\n雨雲レーダー\\n地図を拡大\\n今の天気\\nグラフ\\n09:50\\n空の写真\\n空の写真をもっと見る\\nライブ動画番組\\n【ライブ放送中】最新地震・気象情報\\u3000ウェザーニュースLiVE\\n東京都千代田区付近の観測値\\n(℃)\\n(m/s)\\n(mm/h)\\n(分)\\n続きを見る\\n東京都の都市の天気予報\\n周辺の都道府県\\nお天気ニュース\\n今日のこよみ・今週のこよみ 2024年2月14日(水)\\n 2024.02.14 05:59\\nお天気ニュースをもっと読む →\\nいまおすすめのメニュー\\n雨雲レーダー\\n雨雲の動きと予想を確認\\nウェザーリポート\\n全国から届くお天気リポート\\n防災・減災メニュー\\n天気メニュー\\n自然・季節・レジャー情報\\n予報精度向上の取り組みについて\\n東京都千代田区付近の空の写真\\nウェザーニュース 2024.02.14 05:00\\nチョコレートは短期的には血圧上昇も…\\u3000抹茶や緑茶と一緒に食べよう\\n2024.02.14 04:58\\n今日14日(水)の天気予報\\u3000各地で春本番の暖かさ続く\\u3000天気は西から下り坂\\n2024.02.14 05:22\\nお天気キャスター解説\\u30002月14日(水)の天気\\n2024.02.14 05:49\\nひと目でわかる傘マップ\\u30002月14日(水)\\n')], 'input': {'query': '東京の今日の天気は？'}}, 'run_id': 'b8323f4c-948f-4f8c-a73b-4896327f6779', 'name': 'TavilySearchAPIRetriever', 'tags': ['map:key:context'], 'metadata': {'ls_retriever_name': 'tavilysearchapi'}, 'parent_ids': ['b47496ae-2377-4c39-ad26-fc9a5ec03ff4', '1a3da5c4-9b7d-4521-ba84-d2bb5691ecbb']}\n",
            "{'event': 'on_chain_stream', 'run_id': '1a3da5c4-9b7d-4521-ba84-d2bb5691ecbb', 'name': 'RunnableParallel<context,question>', 'tags': ['seq:step:1'], 'metadata': {}, 'data': {'chunk': {'context': [Document(metadata={'title': '東京（東京）の天気 - Yahoo!天気・災害', 'source': 'https://weather.yahoo.co.jp/weather/jp/13/4410.html', 'score': 0.8437023, 'images': []}, page_content='パーソナル天気 現在位置： 天気・災害トップ > 関東・信越 > 東京都 > 東京（東京） 今日明日の天気 2024年11月19日 4時00分発表 11月19日(火) 晴時々曇 13℃[-7] 8℃[-3] 時間  0-6 6-12    12-18   18-24 降水  0％  0％  0％  0％ 風： 北の風後北東の風２３区西部では北の風やや強く 波： 1.5メートル後0.5メートル 11月20日(水) 曇のち雨 12℃[-1] 7℃[-1] 時間  0-6 6-12    12-18   18-24 降水  0％  10％ 30％ 60％ 風： 北西の風後東の風 波： 0.5メートル 東京地方の警報・注意報 注意報 強風、波浪 週間天気 2024年11月19日 2時00分発表 日付 11月21日 (木) 11月22日 (金) 11月23日 (土) 11月24日 (日) 11月25日 (月) 11月26日 (火) 天気 雨のち晴   晴時々曇   晴時々曇   晴時々曇   晴時々曇   曇一時雨 気温（℃）   14 降水 確率（％）   60  0   0   0   10  50 2024年11月19日 4時00分 発表 (C) Mapbox (C) OpenStreetMap (C) LY Corporation Yahoo!地図ガイドライン (C) Mapbox (C) OpenStreetMap (C) LY Corporation Yahoo!地図ガイドライン 11/18(月)18時\\u3000師走の寒さ\\u3000今季一番低く\\u3000北日本中心に積雪増加も Copyright (C) 2024 Weather Map Co., Ltd. All Rights Reserved. © LY Corporation'), Document(metadata={'title': '東京都の天気 - 日本気象協会 tenki.jp', 'source': 'https://tenki.jp/forecast/3/16/', 'score': 0.7065353, 'images': []}, page_content='東京都の天気 - 日本気象協会 tenki.jp tenki.jpトップ｜ サイトマップ｜ ヘルプ tenki.jp 雨雲レーダー PM2.5分布予測 雷(予報) 雨雲レーダー(過去) 雷(実況) 気象予報士のポイント解説 雨雲レーダー PM2.5分布予測 19(火) 24(日) 25(月) 26(火) 19日04:00発表11月19日(火) 千代田区  12/7 20% 新宿区  12/7 20% 世田谷区  12/7 20% 三鷹市  12/6 20% 八王子市  13/5 20% 青梅市  13/5 20% 大島町  12/10 20% 八丈町  16/14 70% 小笠原村  24/24 50% 練馬区  12/6 20% 台東区  12/7 20% 品川区  12/8 20% 町田市  12/6 20% 立川市  12/6 20% 気象予報士のポイント解説(日直予報士) 19日 北海道や東北は積雪や路面凍結に注意 関東～九州は晴れても北風冷たい 11/19(火)05:45 19日は今季一番の冷え込み 東京や名古屋6℃前後 日中も師走並み 冬の便り続々か 11/18(月)18:05 秋田で初雪 明日19日朝にかけて北日本で雪強まる所も 積雪や路面の凍結に注意 11/18(月)17:36 雨雲 PM2.5 1位高尾山東京都 色づき始め 2位明治神宮外苑東京都 色づき始め 5位上野恩賜公園東京都 色づき始め tenki.jpの公式X（旧Twitter） 最新の気象・防災情報や、生活に役立つ情報を毎日リアルタイムに配信中！ 雨雲レーダー PM2.5 雷(予報) 雨雲レーダー(過去) 雷(実況) tenki.jp公式SNS tenki.jp公式アプリ tenki.jp tenki.jp 登山天気 tenki.jpトップ 雨雲レーダー PM2.5分布予測 雷(予報) 雨雲(過去) 雷(実況) 花粉飛散情報(1～5月頃) 桜開花情報(2～5月頃) GWの天気(4～5月頃) 梅雨入り・明け(5～7月頃) 熱中症情報(4～9月頃) 紅葉見頃情報(10～11月頃) ヒートショック(10～3月頃) スキー積雪情報(11～5月頃) 初日の出(12～1月頃) Copyright (C) 2024 日本気象協会 All Rights Reserved.'), Document(metadata={'title': '東京都千代田区の天気予報(1時間・今日明日・2週間) - ウェザーニュース', 'source': 'https://weathernews.jp/onebox/tenki/tokyo/13101/', 'score': 0.6675167, 'images': []}, page_content='{{item.cityname}}\\n天気予報を検索\\n天気\\n防災・減災\\n自然・季節・健康\\n便利なメニュー\\nほか全メニュー\\n1週間先までの花粉飛散予報\\n東京都千代田区の天気予報\\n5分ごと\\n1時間ごと\\n今日明日\\n週間天気\\n日\\n天気\\n気温\\n降水\\n確率\\n今日\\n2月14日 (水)\\n最高18℃\\n最低5℃\\n午前10%\\n午後20%\\n明日\\n2月15日 (木)\\n最高19℃\\n最低7℃\\n午前10%\\n午後20%\\nチョコっと季節先取りで暖かい\\n今日の昼間は晴れて、気持ちの良い空。季節先取りの暖かさで、チョコも溶けやすくなりそうです。朝晩との寒暖差が大きいため服装選びに要注意。花粉も心配です。\\n5分ごと\\n1時間ごと\\n時\\n分\\n天気\\n10時\\n10\\n影はっきり\\n・\\n影はっきり\\n20\\n影はっきり\\n・\\n影はっきり\\n30\\n影はっきり\\n・\\n影はっきり\\n40\\n影はっきり\\n・\\n影はっきり\\n50\\n影はっきり\\n・\\n影はっきり\\n11時\\n00\\n影はっきり\\n・\\n影はっきり\\n日\\n時\\n天気\\n降水\\n気温\\n風\\n14日(水)\\n11\\n0\\n13℃\\n0m\\n12\\n0\\n15℃\\n1m\\n13\\n0\\n16℃\\n2m\\n14\\n0\\n18℃\\n3m\\n15\\n0\\n18℃\\n3m\\n16\\n0\\n17℃\\n3m\\n17\\n0\\n15℃\\n2m\\n18\\n0\\n15℃\\n2m\\n19\\n0\\n14℃\\n2m\\n20\\n0\\n14℃\\n2m\\n21\\n0\\n14℃\\n2m\\n22\\n0\\n13℃\\n1m\\n23\\n0\\n13℃\\n1m\\n15日(木)\\n0\\n0\\n12℃\\n1m\\n1\\n0\\n11℃\\n1m\\n2\\n0\\n10℃\\n1m\\n3\\n0\\n9℃\\n2m\\n4\\n0\\n8℃\\n2m\\n5\\n0\\n8℃\\n1m\\n6\\n0\\n8℃\\n1m\\n7\\n0\\n7℃\\n1m\\n8\\n0\\n10℃\\n1m\\n9\\n0\\n12℃\\n2m\\n10\\n0\\n15℃\\n3m\\n11\\n0\\n17℃\\n4m\\n12\\n0\\n18℃\\n5m\\n13\\n0\\n19℃\\n6m\\n14\\n0\\n19℃\\n7m\\n15\\n0\\n18℃\\n8m\\n16\\n0\\n18℃\\n8m\\n17\\n0\\n16℃\\n8m\\n18\\n0\\n16℃\\n8m\\n19\\n0\\n16℃\\n7m\\n20\\n0\\n16℃\\n7m\\n21\\n0\\n16℃\\n7m\\n22\\n1ミリ\\n16℃\\n7m\\n23\\n1ミリ\\n16℃\\n7m\\n16日(金)\\n0\\n0\\n16℃\\n7m\\n1\\n0\\n16℃\\n6m\\n2\\n0\\n16℃\\n3m\\n3\\n0\\n12℃\\n3m\\n4\\n0\\n10℃\\n5m\\n5\\n0\\n9℃\\n6m\\n6\\n0\\n8℃\\n7m\\n7\\n0\\n8℃\\n8m\\n8\\n0\\n8℃\\n7m\\n9\\n0\\n8℃\\n6m\\n10\\n0\\n9℃\\n5m\\n11\\n0\\n10℃\\n4m\\n12\\n0\\n11℃\\n3m\\n13\\n0\\n11℃\\n3m\\n14\\n0\\n12℃\\n2m\\n15\\n0\\n11℃\\n2m\\n16\\n0\\n11℃\\n2m\\n17\\n0\\n10℃\\n3m\\n18\\n0\\n9℃\\n3m\\n19\\n0\\n8℃\\n3m\\n20\\n0\\n8℃\\n3m\\n21\\n0\\n7℃\\n2m\\n22\\n0\\n7℃\\n2m\\n23\\n0\\n6℃\\n2m\\n17日(土)\\n0\\n0\\n6℃\\n2m\\n1\\n0\\n6℃\\n2m\\n2\\n0\\n5℃\\n2m\\n3\\n0\\n5℃\\n2m\\n4\\n0\\n4℃\\n2m\\n5\\n0\\n4℃\\n2m\\n6\\n0\\n4℃\\n2m\\n7\\n0\\n4℃\\n2m\\n8\\n0\\n5℃\\n2m\\n9\\n0\\n6℃\\n2m\\n10\\n0\\n7℃\\n2m\\nチョコっと季節先取りで暖かい\\n今日の昼間は晴れて、気持ちの良い空。季節先取りの暖かさで、チョコも溶けやすくなりそうです。朝晩との寒暖差が大きいため服装選びに要注意。花粉も心配です。\\n週間(10日間)\\n日\\n天気\\n最高\\n最低\\n降水\\n15(木)\\n19℃\\n7℃\\n20%\\n16(金)\\n16℃\\n6℃\\n20%\\n17(土)\\n13℃\\n3℃\\n20%\\n18(日)\\n17℃\\n6℃\\n20%\\n19(月)\\n19℃\\n8℃\\n30%\\n20(火)\\n21℃\\n12℃\\n40%\\n21(水)\\n19℃\\n13℃\\n60%\\n22(木)\\n13℃\\n4℃\\n60%\\n23(金)\\n8℃\\n2℃\\n40%\\n24(土)\\n9℃\\n2℃\\n40%\\n季節先取りの暖かさ\\u3000花粉対策を\\n日差しの届く日が多くなります。気温はアップダウンしつつも季節先取りの暖かさとなるため、昼間は厚着しすぎないように注意。花粉飛散の可能性もあるので対策を万全に。\\nお天気ニュース\\n2月14日(水)の洗濯天気予報\\u3000関東など晴天も花粉飛散に注意\\n2024.02.14 06:08\\n週間天気\\u3000明日と週明けは広範囲で雨\\u30004月並の暖かい日多く花粉飛散も\\n2024.02.14 05:28\\n今日も暖かさ続く 各地で4月並みの陽気\\u3000花粉飛散や融雪に注意\\n2024.02.14 08:02\\nお天気ニュースをもっと読む →\\nお天気ニュース\\n2月14日(水)の洗濯天気予報\\u3000関東など晴天も花粉飛散に注意\\n2024.02.14 06:08\\n週間天気\\u3000明日と週明けは広範囲で雨\\u30004月並の暖かい日多く花粉飛散も\\n2024.02.14 05:28\\n今日も暖かさ続く 各地で4月並みの陽気\\u3000花粉飛散や融雪に注意\\n2024.02.14 08:02\\nお天気ニュースをもっと読む →\\n東京都千代田区付近の天気\\n雨雲レーダー\\n地図を拡大\\n今の天気\\nグラフ\\n09:50\\n空の写真\\n空の写真をもっと見る\\nライブ動画番組\\n【ライブ放送中】最新地震・気象情報\\u3000ウェザーニュースLiVE\\n東京都千代田区付近の観測値\\n(℃)\\n(m/s)\\n(mm/h)\\n(分)\\n続きを見る\\n東京都の都市の天気予報\\n周辺の都道府県\\nお天気ニュース\\n今日のこよみ・今週のこよみ 2024年2月14日(水)\\n 2024.02.14 05:59\\nお天気ニュースをもっと読む →\\nいまおすすめのメニュー\\n雨雲レーダー\\n雨雲の動きと予想を確認\\nウェザーリポート\\n全国から届くお天気リポート\\n防災・減災メニュー\\n天気メニュー\\n自然・季節・レジャー情報\\n予報精度向上の取り組みについて\\n東京都千代田区付近の空の写真\\nウェザーニュース 2024.02.14 05:00\\nチョコレートは短期的には血圧上昇も…\\u3000抹茶や緑茶と一緒に食べよう\\n2024.02.14 04:58\\n今日14日(水)の天気予報\\u3000各地で春本番の暖かさ続く\\u3000天気は西から下り坂\\n2024.02.14 05:22\\nお天気キャスター解説\\u30002月14日(水)の天気\\n2024.02.14 05:49\\nひと目でわかる傘マップ\\u30002月14日(水)\\n')]}}, 'parent_ids': ['b47496ae-2377-4c39-ad26-fc9a5ec03ff4']}\n",
            "{'event': 'on_chain_end', 'data': {'output': {'question': '東京の今日の天気は？', 'context': [Document(metadata={'title': '東京（東京）の天気 - Yahoo!天気・災害', 'source': 'https://weather.yahoo.co.jp/weather/jp/13/4410.html', 'score': 0.8437023, 'images': []}, page_content='パーソナル天気 現在位置： 天気・災害トップ > 関東・信越 > 東京都 > 東京（東京） 今日明日の天気 2024年11月19日 4時00分発表 11月19日(火) 晴時々曇 13℃[-7] 8℃[-3] 時間  0-6 6-12    12-18   18-24 降水  0％  0％  0％  0％ 風： 北の風後北東の風２３区西部では北の風やや強く 波： 1.5メートル後0.5メートル 11月20日(水) 曇のち雨 12℃[-1] 7℃[-1] 時間  0-6 6-12    12-18   18-24 降水  0％  10％ 30％ 60％ 風： 北西の風後東の風 波： 0.5メートル 東京地方の警報・注意報 注意報 強風、波浪 週間天気 2024年11月19日 2時00分発表 日付 11月21日 (木) 11月22日 (金) 11月23日 (土) 11月24日 (日) 11月25日 (月) 11月26日 (火) 天気 雨のち晴   晴時々曇   晴時々曇   晴時々曇   晴時々曇   曇一時雨 気温（℃）   14 降水 確率（％）   60  0   0   0   10  50 2024年11月19日 4時00分 発表 (C) Mapbox (C) OpenStreetMap (C) LY Corporation Yahoo!地図ガイドライン (C) Mapbox (C) OpenStreetMap (C) LY Corporation Yahoo!地図ガイドライン 11/18(月)18時\\u3000師走の寒さ\\u3000今季一番低く\\u3000北日本中心に積雪増加も Copyright (C) 2024 Weather Map Co., Ltd. All Rights Reserved. © LY Corporation'), Document(metadata={'title': '東京都の天気 - 日本気象協会 tenki.jp', 'source': 'https://tenki.jp/forecast/3/16/', 'score': 0.7065353, 'images': []}, page_content='東京都の天気 - 日本気象協会 tenki.jp tenki.jpトップ｜ サイトマップ｜ ヘルプ tenki.jp 雨雲レーダー PM2.5分布予測 雷(予報) 雨雲レーダー(過去) 雷(実況) 気象予報士のポイント解説 雨雲レーダー PM2.5分布予測 19(火) 24(日) 25(月) 26(火) 19日04:00発表11月19日(火) 千代田区  12/7 20% 新宿区  12/7 20% 世田谷区  12/7 20% 三鷹市  12/6 20% 八王子市  13/5 20% 青梅市  13/5 20% 大島町  12/10 20% 八丈町  16/14 70% 小笠原村  24/24 50% 練馬区  12/6 20% 台東区  12/7 20% 品川区  12/8 20% 町田市  12/6 20% 立川市  12/6 20% 気象予報士のポイント解説(日直予報士) 19日 北海道や東北は積雪や路面凍結に注意 関東～九州は晴れても北風冷たい 11/19(火)05:45 19日は今季一番の冷え込み 東京や名古屋6℃前後 日中も師走並み 冬の便り続々か 11/18(月)18:05 秋田で初雪 明日19日朝にかけて北日本で雪強まる所も 積雪や路面の凍結に注意 11/18(月)17:36 雨雲 PM2.5 1位高尾山東京都 色づき始め 2位明治神宮外苑東京都 色づき始め 5位上野恩賜公園東京都 色づき始め tenki.jpの公式X（旧Twitter） 最新の気象・防災情報や、生活に役立つ情報を毎日リアルタイムに配信中！ 雨雲レーダー PM2.5 雷(予報) 雨雲レーダー(過去) 雷(実況) tenki.jp公式SNS tenki.jp公式アプリ tenki.jp tenki.jp 登山天気 tenki.jpトップ 雨雲レーダー PM2.5分布予測 雷(予報) 雨雲(過去) 雷(実況) 花粉飛散情報(1～5月頃) 桜開花情報(2～5月頃) GWの天気(4～5月頃) 梅雨入り・明け(5～7月頃) 熱中症情報(4～9月頃) 紅葉見頃情報(10～11月頃) ヒートショック(10～3月頃) スキー積雪情報(11～5月頃) 初日の出(12～1月頃) Copyright (C) 2024 日本気象協会 All Rights Reserved.'), Document(metadata={'title': '東京都千代田区の天気予報(1時間・今日明日・2週間) - ウェザーニュース', 'source': 'https://weathernews.jp/onebox/tenki/tokyo/13101/', 'score': 0.6675167, 'images': []}, page_content='{{item.cityname}}\\n天気予報を検索\\n天気\\n防災・減災\\n自然・季節・健康\\n便利なメニュー\\nほか全メニュー\\n1週間先までの花粉飛散予報\\n東京都千代田区の天気予報\\n5分ごと\\n1時間ごと\\n今日明日\\n週間天気\\n日\\n天気\\n気温\\n降水\\n確率\\n今日\\n2月14日 (水)\\n最高18℃\\n最低5℃\\n午前10%\\n午後20%\\n明日\\n2月15日 (木)\\n最高19℃\\n最低7℃\\n午前10%\\n午後20%\\nチョコっと季節先取りで暖かい\\n今日の昼間は晴れて、気持ちの良い空。季節先取りの暖かさで、チョコも溶けやすくなりそうです。朝晩との寒暖差が大きいため服装選びに要注意。花粉も心配です。\\n5分ごと\\n1時間ごと\\n時\\n分\\n天気\\n10時\\n10\\n影はっきり\\n・\\n影はっきり\\n20\\n影はっきり\\n・\\n影はっきり\\n30\\n影はっきり\\n・\\n影はっきり\\n40\\n影はっきり\\n・\\n影はっきり\\n50\\n影はっきり\\n・\\n影はっきり\\n11時\\n00\\n影はっきり\\n・\\n影はっきり\\n日\\n時\\n天気\\n降水\\n気温\\n風\\n14日(水)\\n11\\n0\\n13℃\\n0m\\n12\\n0\\n15℃\\n1m\\n13\\n0\\n16℃\\n2m\\n14\\n0\\n18℃\\n3m\\n15\\n0\\n18℃\\n3m\\n16\\n0\\n17℃\\n3m\\n17\\n0\\n15℃\\n2m\\n18\\n0\\n15℃\\n2m\\n19\\n0\\n14℃\\n2m\\n20\\n0\\n14℃\\n2m\\n21\\n0\\n14℃\\n2m\\n22\\n0\\n13℃\\n1m\\n23\\n0\\n13℃\\n1m\\n15日(木)\\n0\\n0\\n12℃\\n1m\\n1\\n0\\n11℃\\n1m\\n2\\n0\\n10℃\\n1m\\n3\\n0\\n9℃\\n2m\\n4\\n0\\n8℃\\n2m\\n5\\n0\\n8℃\\n1m\\n6\\n0\\n8℃\\n1m\\n7\\n0\\n7℃\\n1m\\n8\\n0\\n10℃\\n1m\\n9\\n0\\n12℃\\n2m\\n10\\n0\\n15℃\\n3m\\n11\\n0\\n17℃\\n4m\\n12\\n0\\n18℃\\n5m\\n13\\n0\\n19℃\\n6m\\n14\\n0\\n19℃\\n7m\\n15\\n0\\n18℃\\n8m\\n16\\n0\\n18℃\\n8m\\n17\\n0\\n16℃\\n8m\\n18\\n0\\n16℃\\n8m\\n19\\n0\\n16℃\\n7m\\n20\\n0\\n16℃\\n7m\\n21\\n0\\n16℃\\n7m\\n22\\n1ミリ\\n16℃\\n7m\\n23\\n1ミリ\\n16℃\\n7m\\n16日(金)\\n0\\n0\\n16℃\\n7m\\n1\\n0\\n16℃\\n6m\\n2\\n0\\n16℃\\n3m\\n3\\n0\\n12℃\\n3m\\n4\\n0\\n10℃\\n5m\\n5\\n0\\n9℃\\n6m\\n6\\n0\\n8℃\\n7m\\n7\\n0\\n8℃\\n8m\\n8\\n0\\n8℃\\n7m\\n9\\n0\\n8℃\\n6m\\n10\\n0\\n9℃\\n5m\\n11\\n0\\n10℃\\n4m\\n12\\n0\\n11℃\\n3m\\n13\\n0\\n11℃\\n3m\\n14\\n0\\n12℃\\n2m\\n15\\n0\\n11℃\\n2m\\n16\\n0\\n11℃\\n2m\\n17\\n0\\n10℃\\n3m\\n18\\n0\\n9℃\\n3m\\n19\\n0\\n8℃\\n3m\\n20\\n0\\n8℃\\n3m\\n21\\n0\\n7℃\\n2m\\n22\\n0\\n7℃\\n2m\\n23\\n0\\n6℃\\n2m\\n17日(土)\\n0\\n0\\n6℃\\n2m\\n1\\n0\\n6℃\\n2m\\n2\\n0\\n5℃\\n2m\\n3\\n0\\n5℃\\n2m\\n4\\n0\\n4℃\\n2m\\n5\\n0\\n4℃\\n2m\\n6\\n0\\n4℃\\n2m\\n7\\n0\\n4℃\\n2m\\n8\\n0\\n5℃\\n2m\\n9\\n0\\n6℃\\n2m\\n10\\n0\\n7℃\\n2m\\nチョコっと季節先取りで暖かい\\n今日の昼間は晴れて、気持ちの良い空。季節先取りの暖かさで、チョコも溶けやすくなりそうです。朝晩との寒暖差が大きいため服装選びに要注意。花粉も心配です。\\n週間(10日間)\\n日\\n天気\\n最高\\n最低\\n降水\\n15(木)\\n19℃\\n7℃\\n20%\\n16(金)\\n16℃\\n6℃\\n20%\\n17(土)\\n13℃\\n3℃\\n20%\\n18(日)\\n17℃\\n6℃\\n20%\\n19(月)\\n19℃\\n8℃\\n30%\\n20(火)\\n21℃\\n12℃\\n40%\\n21(水)\\n19℃\\n13℃\\n60%\\n22(木)\\n13℃\\n4℃\\n60%\\n23(金)\\n8℃\\n2℃\\n40%\\n24(土)\\n9℃\\n2℃\\n40%\\n季節先取りの暖かさ\\u3000花粉対策を\\n日差しの届く日が多くなります。気温はアップダウンしつつも季節先取りの暖かさとなるため、昼間は厚着しすぎないように注意。花粉飛散の可能性もあるので対策を万全に。\\nお天気ニュース\\n2月14日(水)の洗濯天気予報\\u3000関東など晴天も花粉飛散に注意\\n2024.02.14 06:08\\n週間天気\\u3000明日と週明けは広範囲で雨\\u30004月並の暖かい日多く花粉飛散も\\n2024.02.14 05:28\\n今日も暖かさ続く 各地で4月並みの陽気\\u3000花粉飛散や融雪に注意\\n2024.02.14 08:02\\nお天気ニュースをもっと読む →\\nお天気ニュース\\n2月14日(水)の洗濯天気予報\\u3000関東など晴天も花粉飛散に注意\\n2024.02.14 06:08\\n週間天気\\u3000明日と週明けは広範囲で雨\\u30004月並の暖かい日多く花粉飛散も\\n2024.02.14 05:28\\n今日も暖かさ続く 各地で4月並みの陽気\\u3000花粉飛散や融雪に注意\\n2024.02.14 08:02\\nお天気ニュースをもっと読む →\\n東京都千代田区付近の天気\\n雨雲レーダー\\n地図を拡大\\n今の天気\\nグラフ\\n09:50\\n空の写真\\n空の写真をもっと見る\\nライブ動画番組\\n【ライブ放送中】最新地震・気象情報\\u3000ウェザーニュースLiVE\\n東京都千代田区付近の観測値\\n(℃)\\n(m/s)\\n(mm/h)\\n(分)\\n続きを見る\\n東京都の都市の天気予報\\n周辺の都道府県\\nお天気ニュース\\n今日のこよみ・今週のこよみ 2024年2月14日(水)\\n 2024.02.14 05:59\\nお天気ニュースをもっと読む →\\nいまおすすめのメニュー\\n雨雲レーダー\\n雨雲の動きと予想を確認\\nウェザーリポート\\n全国から届くお天気リポート\\n防災・減災メニュー\\n天気メニュー\\n自然・季節・レジャー情報\\n予報精度向上の取り組みについて\\n東京都千代田区付近の空の写真\\nウェザーニュース 2024.02.14 05:00\\nチョコレートは短期的には血圧上昇も…\\u3000抹茶や緑茶と一緒に食べよう\\n2024.02.14 04:58\\n今日14日(水)の天気予報\\u3000各地で春本番の暖かさ続く\\u3000天気は西から下り坂\\n2024.02.14 05:22\\nお天気キャスター解説\\u30002月14日(水)の天気\\n2024.02.14 05:49\\nひと目でわかる傘マップ\\u30002月14日(水)\\n')]}, 'input': '東京の今日の天気は？'}, 'run_id': '1a3da5c4-9b7d-4521-ba84-d2bb5691ecbb', 'name': 'RunnableParallel<context,question>', 'tags': ['seq:step:1'], 'metadata': {}, 'parent_ids': ['b47496ae-2377-4c39-ad26-fc9a5ec03ff4']}\n",
            "{'event': 'on_prompt_start', 'data': {'input': {'question': '東京の今日の天気は？', 'context': [Document(metadata={'title': '東京（東京）の天気 - Yahoo!天気・災害', 'source': 'https://weather.yahoo.co.jp/weather/jp/13/4410.html', 'score': 0.8437023, 'images': []}, page_content='パーソナル天気 現在位置： 天気・災害トップ > 関東・信越 > 東京都 > 東京（東京） 今日明日の天気 2024年11月19日 4時00分発表 11月19日(火) 晴時々曇 13℃[-7] 8℃[-3] 時間  0-6 6-12    12-18   18-24 降水  0％  0％  0％  0％ 風： 北の風後北東の風２３区西部では北の風やや強く 波： 1.5メートル後0.5メートル 11月20日(水) 曇のち雨 12℃[-1] 7℃[-1] 時間  0-6 6-12    12-18   18-24 降水  0％  10％ 30％ 60％ 風： 北西の風後東の風 波： 0.5メートル 東京地方の警報・注意報 注意報 強風、波浪 週間天気 2024年11月19日 2時00分発表 日付 11月21日 (木) 11月22日 (金) 11月23日 (土) 11月24日 (日) 11月25日 (月) 11月26日 (火) 天気 雨のち晴   晴時々曇   晴時々曇   晴時々曇   晴時々曇   曇一時雨 気温（℃）   14 降水 確率（％）   60  0   0   0   10  50 2024年11月19日 4時00分 発表 (C) Mapbox (C) OpenStreetMap (C) LY Corporation Yahoo!地図ガイドライン (C) Mapbox (C) OpenStreetMap (C) LY Corporation Yahoo!地図ガイドライン 11/18(月)18時\\u3000師走の寒さ\\u3000今季一番低く\\u3000北日本中心に積雪増加も Copyright (C) 2024 Weather Map Co., Ltd. All Rights Reserved. © LY Corporation'), Document(metadata={'title': '東京都の天気 - 日本気象協会 tenki.jp', 'source': 'https://tenki.jp/forecast/3/16/', 'score': 0.7065353, 'images': []}, page_content='東京都の天気 - 日本気象協会 tenki.jp tenki.jpトップ｜ サイトマップ｜ ヘルプ tenki.jp 雨雲レーダー PM2.5分布予測 雷(予報) 雨雲レーダー(過去) 雷(実況) 気象予報士のポイント解説 雨雲レーダー PM2.5分布予測 19(火) 24(日) 25(月) 26(火) 19日04:00発表11月19日(火) 千代田区  12/7 20% 新宿区  12/7 20% 世田谷区  12/7 20% 三鷹市  12/6 20% 八王子市  13/5 20% 青梅市  13/5 20% 大島町  12/10 20% 八丈町  16/14 70% 小笠原村  24/24 50% 練馬区  12/6 20% 台東区  12/7 20% 品川区  12/8 20% 町田市  12/6 20% 立川市  12/6 20% 気象予報士のポイント解説(日直予報士) 19日 北海道や東北は積雪や路面凍結に注意 関東～九州は晴れても北風冷たい 11/19(火)05:45 19日は今季一番の冷え込み 東京や名古屋6℃前後 日中も師走並み 冬の便り続々か 11/18(月)18:05 秋田で初雪 明日19日朝にかけて北日本で雪強まる所も 積雪や路面の凍結に注意 11/18(月)17:36 雨雲 PM2.5 1位高尾山東京都 色づき始め 2位明治神宮外苑東京都 色づき始め 5位上野恩賜公園東京都 色づき始め tenki.jpの公式X（旧Twitter） 最新の気象・防災情報や、生活に役立つ情報を毎日リアルタイムに配信中！ 雨雲レーダー PM2.5 雷(予報) 雨雲レーダー(過去) 雷(実況) tenki.jp公式SNS tenki.jp公式アプリ tenki.jp tenki.jp 登山天気 tenki.jpトップ 雨雲レーダー PM2.5分布予測 雷(予報) 雨雲(過去) 雷(実況) 花粉飛散情報(1～5月頃) 桜開花情報(2～5月頃) GWの天気(4～5月頃) 梅雨入り・明け(5～7月頃) 熱中症情報(4～9月頃) 紅葉見頃情報(10～11月頃) ヒートショック(10～3月頃) スキー積雪情報(11～5月頃) 初日の出(12～1月頃) Copyright (C) 2024 日本気象協会 All Rights Reserved.'), Document(metadata={'title': '東京都千代田区の天気予報(1時間・今日明日・2週間) - ウェザーニュース', 'source': 'https://weathernews.jp/onebox/tenki/tokyo/13101/', 'score': 0.6675167, 'images': []}, page_content='{{item.cityname}}\\n天気予報を検索\\n天気\\n防災・減災\\n自然・季節・健康\\n便利なメニュー\\nほか全メニュー\\n1週間先までの花粉飛散予報\\n東京都千代田区の天気予報\\n5分ごと\\n1時間ごと\\n今日明日\\n週間天気\\n日\\n天気\\n気温\\n降水\\n確率\\n今日\\n2月14日 (水)\\n最高18℃\\n最低5℃\\n午前10%\\n午後20%\\n明日\\n2月15日 (木)\\n最高19℃\\n最低7℃\\n午前10%\\n午後20%\\nチョコっと季節先取りで暖かい\\n今日の昼間は晴れて、気持ちの良い空。季節先取りの暖かさで、チョコも溶けやすくなりそうです。朝晩との寒暖差が大きいため服装選びに要注意。花粉も心配です。\\n5分ごと\\n1時間ごと\\n時\\n分\\n天気\\n10時\\n10\\n影はっきり\\n・\\n影はっきり\\n20\\n影はっきり\\n・\\n影はっきり\\n30\\n影はっきり\\n・\\n影はっきり\\n40\\n影はっきり\\n・\\n影はっきり\\n50\\n影はっきり\\n・\\n影はっきり\\n11時\\n00\\n影はっきり\\n・\\n影はっきり\\n日\\n時\\n天気\\n降水\\n気温\\n風\\n14日(水)\\n11\\n0\\n13℃\\n0m\\n12\\n0\\n15℃\\n1m\\n13\\n0\\n16℃\\n2m\\n14\\n0\\n18℃\\n3m\\n15\\n0\\n18℃\\n3m\\n16\\n0\\n17℃\\n3m\\n17\\n0\\n15℃\\n2m\\n18\\n0\\n15℃\\n2m\\n19\\n0\\n14℃\\n2m\\n20\\n0\\n14℃\\n2m\\n21\\n0\\n14℃\\n2m\\n22\\n0\\n13℃\\n1m\\n23\\n0\\n13℃\\n1m\\n15日(木)\\n0\\n0\\n12℃\\n1m\\n1\\n0\\n11℃\\n1m\\n2\\n0\\n10℃\\n1m\\n3\\n0\\n9℃\\n2m\\n4\\n0\\n8℃\\n2m\\n5\\n0\\n8℃\\n1m\\n6\\n0\\n8℃\\n1m\\n7\\n0\\n7℃\\n1m\\n8\\n0\\n10℃\\n1m\\n9\\n0\\n12℃\\n2m\\n10\\n0\\n15℃\\n3m\\n11\\n0\\n17℃\\n4m\\n12\\n0\\n18℃\\n5m\\n13\\n0\\n19℃\\n6m\\n14\\n0\\n19℃\\n7m\\n15\\n0\\n18℃\\n8m\\n16\\n0\\n18℃\\n8m\\n17\\n0\\n16℃\\n8m\\n18\\n0\\n16℃\\n8m\\n19\\n0\\n16℃\\n7m\\n20\\n0\\n16℃\\n7m\\n21\\n0\\n16℃\\n7m\\n22\\n1ミリ\\n16℃\\n7m\\n23\\n1ミリ\\n16℃\\n7m\\n16日(金)\\n0\\n0\\n16℃\\n7m\\n1\\n0\\n16℃\\n6m\\n2\\n0\\n16℃\\n3m\\n3\\n0\\n12℃\\n3m\\n4\\n0\\n10℃\\n5m\\n5\\n0\\n9℃\\n6m\\n6\\n0\\n8℃\\n7m\\n7\\n0\\n8℃\\n8m\\n8\\n0\\n8℃\\n7m\\n9\\n0\\n8℃\\n6m\\n10\\n0\\n9℃\\n5m\\n11\\n0\\n10℃\\n4m\\n12\\n0\\n11℃\\n3m\\n13\\n0\\n11℃\\n3m\\n14\\n0\\n12℃\\n2m\\n15\\n0\\n11℃\\n2m\\n16\\n0\\n11℃\\n2m\\n17\\n0\\n10℃\\n3m\\n18\\n0\\n9℃\\n3m\\n19\\n0\\n8℃\\n3m\\n20\\n0\\n8℃\\n3m\\n21\\n0\\n7℃\\n2m\\n22\\n0\\n7℃\\n2m\\n23\\n0\\n6℃\\n2m\\n17日(土)\\n0\\n0\\n6℃\\n2m\\n1\\n0\\n6℃\\n2m\\n2\\n0\\n5℃\\n2m\\n3\\n0\\n5℃\\n2m\\n4\\n0\\n4℃\\n2m\\n5\\n0\\n4℃\\n2m\\n6\\n0\\n4℃\\n2m\\n7\\n0\\n4℃\\n2m\\n8\\n0\\n5℃\\n2m\\n9\\n0\\n6℃\\n2m\\n10\\n0\\n7℃\\n2m\\nチョコっと季節先取りで暖かい\\n今日の昼間は晴れて、気持ちの良い空。季節先取りの暖かさで、チョコも溶けやすくなりそうです。朝晩との寒暖差が大きいため服装選びに要注意。花粉も心配です。\\n週間(10日間)\\n日\\n天気\\n最高\\n最低\\n降水\\n15(木)\\n19℃\\n7℃\\n20%\\n16(金)\\n16℃\\n6℃\\n20%\\n17(土)\\n13℃\\n3℃\\n20%\\n18(日)\\n17℃\\n6℃\\n20%\\n19(月)\\n19℃\\n8℃\\n30%\\n20(火)\\n21℃\\n12℃\\n40%\\n21(水)\\n19℃\\n13℃\\n60%\\n22(木)\\n13℃\\n4℃\\n60%\\n23(金)\\n8℃\\n2℃\\n40%\\n24(土)\\n9℃\\n2℃\\n40%\\n季節先取りの暖かさ\\u3000花粉対策を\\n日差しの届く日が多くなります。気温はアップダウンしつつも季節先取りの暖かさとなるため、昼間は厚着しすぎないように注意。花粉飛散の可能性もあるので対策を万全に。\\nお天気ニュース\\n2月14日(水)の洗濯天気予報\\u3000関東など晴天も花粉飛散に注意\\n2024.02.14 06:08\\n週間天気\\u3000明日と週明けは広範囲で雨\\u30004月並の暖かい日多く花粉飛散も\\n2024.02.14 05:28\\n今日も暖かさ続く 各地で4月並みの陽気\\u3000花粉飛散や融雪に注意\\n2024.02.14 08:02\\nお天気ニュースをもっと読む →\\nお天気ニュース\\n2月14日(水)の洗濯天気予報\\u3000関東など晴天も花粉飛散に注意\\n2024.02.14 06:08\\n週間天気\\u3000明日と週明けは広範囲で雨\\u30004月並の暖かい日多く花粉飛散も\\n2024.02.14 05:28\\n今日も暖かさ続く 各地で4月並みの陽気\\u3000花粉飛散や融雪に注意\\n2024.02.14 08:02\\nお天気ニュースをもっと読む →\\n東京都千代田区付近の天気\\n雨雲レーダー\\n地図を拡大\\n今の天気\\nグラフ\\n09:50\\n空の写真\\n空の写真をもっと見る\\nライブ動画番組\\n【ライブ放送中】最新地震・気象情報\\u3000ウェザーニュースLiVE\\n東京都千代田区付近の観測値\\n(℃)\\n(m/s)\\n(mm/h)\\n(分)\\n続きを見る\\n東京都の都市の天気予報\\n周辺の都道府県\\nお天気ニュース\\n今日のこよみ・今週のこよみ 2024年2月14日(水)\\n 2024.02.14 05:59\\nお天気ニュースをもっと読む →\\nいまおすすめのメニュー\\n雨雲レーダー\\n雨雲の動きと予想を確認\\nウェザーリポート\\n全国から届くお天気リポート\\n防災・減災メニュー\\n天気メニュー\\n自然・季節・レジャー情報\\n予報精度向上の取り組みについて\\n東京都千代田区付近の空の写真\\nウェザーニュース 2024.02.14 05:00\\nチョコレートは短期的には血圧上昇も…\\u3000抹茶や緑茶と一緒に食べよう\\n2024.02.14 04:58\\n今日14日(水)の天気予報\\u3000各地で春本番の暖かさ続く\\u3000天気は西から下り坂\\n2024.02.14 05:22\\nお天気キャスター解説\\u30002月14日(水)の天気\\n2024.02.14 05:49\\nひと目でわかる傘マップ\\u30002月14日(水)\\n')]}}, 'name': 'ChatPromptTemplate', 'tags': ['seq:step:2'], 'run_id': '69183d30-0788-473e-85d3-7d2aee5ce1a1', 'metadata': {}, 'parent_ids': ['b47496ae-2377-4c39-ad26-fc9a5ec03ff4']}\n",
            "{'event': 'on_prompt_end', 'data': {'output': ChatPromptValue(messages=[HumanMessage(content='以下の文脈だけを踏まえて質問に回答してください。\\n\\n文脈: \"\"\"\\n[Document(metadata={\\'title\\': \\'東京（東京）の天気 - Yahoo!天気・災害\\', \\'source\\': \\'https://weather.yahoo.co.jp/weather/jp/13/4410.html\\', \\'score\\': 0.8437023, \\'images\\': []}, page_content=\\'パーソナル天気 現在位置： 天気・災害トップ > 関東・信越 > 東京都 > 東京（東京） 今日明日の天気 2024年11月19日 4時00分発表 11月19日(火) 晴時々曇 13℃[-7] 8℃[-3] 時間  0-6 6-12    12-18   18-24 降水  0％  0％  0％  0％ 風： 北の風後北東の風２３区西部では北の風やや強く 波： 1.5メートル後0.5メートル 11月20日(水) 曇のち雨 12℃[-1] 7℃[-1] 時間  0-6 6-12    12-18   18-24 降水  0％  10％ 30％ 60％ 風： 北西の風後東の風 波： 0.5メートル 東京地方の警報・注意報 注意報 強風、波浪 週間天気 2024年11月19日 2時00分発表 日付 11月21日 (木) 11月22日 (金) 11月23日 (土) 11月24日 (日) 11月25日 (月) 11月26日 (火) 天気 雨のち晴   晴時々曇   晴時々曇   晴時々曇   晴時々曇   曇一時雨 気温（℃）   14 降水 確率（％）   60  0   0   0   10  50 2024年11月19日 4時00分 発表 (C) Mapbox (C) OpenStreetMap (C) LY Corporation Yahoo!地図ガイドライン (C) Mapbox (C) OpenStreetMap (C) LY Corporation Yahoo!地図ガイドライン 11/18(月)18時\\\\u3000師走の寒さ\\\\u3000今季一番低く\\\\u3000北日本中心に積雪増加も Copyright (C) 2024 Weather Map Co., Ltd. All Rights Reserved. © LY Corporation\\'), Document(metadata={\\'title\\': \\'東京都の天気 - 日本気象協会 tenki.jp\\', \\'source\\': \\'https://tenki.jp/forecast/3/16/\\', \\'score\\': 0.7065353, \\'images\\': []}, page_content=\\'東京都の天気 - 日本気象協会 tenki.jp tenki.jpトップ｜ サイトマップ｜ ヘルプ tenki.jp 雨雲レーダー PM2.5分布予測 雷(予報) 雨雲レーダー(過去) 雷(実況) 気象予報士のポイント解説 雨雲レーダー PM2.5分布予測 19(火) 24(日) 25(月) 26(火) 19日04:00発表11月19日(火) 千代田区  12/7 20% 新宿区  12/7 20% 世田谷区  12/7 20% 三鷹市  12/6 20% 八王子市  13/5 20% 青梅市  13/5 20% 大島町  12/10 20% 八丈町  16/14 70% 小笠原村  24/24 50% 練馬区  12/6 20% 台東区  12/7 20% 品川区  12/8 20% 町田市  12/6 20% 立川市  12/6 20% 気象予報士のポイント解説(日直予報士) 19日 北海道や東北は積雪や路面凍結に注意 関東～九州は晴れても北風冷たい 11/19(火)05:45 19日は今季一番の冷え込み 東京や名古屋6℃前後 日中も師走並み 冬の便り続々か 11/18(月)18:05 秋田で初雪 明日19日朝にかけて北日本で雪強まる所も 積雪や路面の凍結に注意 11/18(月)17:36 雨雲 PM2.5 1位高尾山東京都 色づき始め 2位明治神宮外苑東京都 色づき始め 5位上野恩賜公園東京都 色づき始め tenki.jpの公式X（旧Twitter） 最新の気象・防災情報や、生活に役立つ情報を毎日リアルタイムに配信中！ 雨雲レーダー PM2.5 雷(予報) 雨雲レーダー(過去) 雷(実況) tenki.jp公式SNS tenki.jp公式アプリ tenki.jp tenki.jp 登山天気 tenki.jpトップ 雨雲レーダー PM2.5分布予測 雷(予報) 雨雲(過去) 雷(実況) 花粉飛散情報(1～5月頃) 桜開花情報(2～5月頃) GWの天気(4～5月頃) 梅雨入り・明け(5～7月頃) 熱中症情報(4～9月頃) 紅葉見頃情報(10～11月頃) ヒートショック(10～3月頃) スキー積雪情報(11～5月頃) 初日の出(12～1月頃) Copyright (C) 2024 日本気象協会 All Rights Reserved.\\'), Document(metadata={\\'title\\': \\'東京都千代田区の天気予報(1時間・今日明日・2週間) - ウェザーニュース\\', \\'source\\': \\'https://weathernews.jp/onebox/tenki/tokyo/13101/\\', \\'score\\': 0.6675167, \\'images\\': []}, page_content=\\'{{item.cityname}}\\\\n天気予報を検索\\\\n天気\\\\n防災・減災\\\\n自然・季節・健康\\\\n便利なメニュー\\\\nほか全メニュー\\\\n1週間先までの花粉飛散予報\\\\n東京都千代田区の天気予報\\\\n5分ごと\\\\n1時間ごと\\\\n今日明日\\\\n週間天気\\\\n日\\\\n天気\\\\n気温\\\\n降水\\\\n確率\\\\n今日\\\\n2月14日 (水)\\\\n最高18℃\\\\n最低5℃\\\\n午前10%\\\\n午後20%\\\\n明日\\\\n2月15日 (木)\\\\n最高19℃\\\\n最低7℃\\\\n午前10%\\\\n午後20%\\\\nチョコっと季節先取りで暖かい\\\\n今日の昼間は晴れて、気持ちの良い空。季節先取りの暖かさで、チョコも溶けやすくなりそうです。朝晩との寒暖差が大きいため服装選びに要注意。花粉も心配です。\\\\n5分ごと\\\\n1時間ごと\\\\n時\\\\n分\\\\n天気\\\\n10時\\\\n10\\\\n影はっきり\\\\n・\\\\n影はっきり\\\\n20\\\\n影はっきり\\\\n・\\\\n影はっきり\\\\n30\\\\n影はっきり\\\\n・\\\\n影はっきり\\\\n40\\\\n影はっきり\\\\n・\\\\n影はっきり\\\\n50\\\\n影はっきり\\\\n・\\\\n影はっきり\\\\n11時\\\\n00\\\\n影はっきり\\\\n・\\\\n影はっきり\\\\n日\\\\n時\\\\n天気\\\\n降水\\\\n気温\\\\n風\\\\n14日(水)\\\\n11\\\\n0\\\\n13℃\\\\n0m\\\\n12\\\\n0\\\\n15℃\\\\n1m\\\\n13\\\\n0\\\\n16℃\\\\n2m\\\\n14\\\\n0\\\\n18℃\\\\n3m\\\\n15\\\\n0\\\\n18℃\\\\n3m\\\\n16\\\\n0\\\\n17℃\\\\n3m\\\\n17\\\\n0\\\\n15℃\\\\n2m\\\\n18\\\\n0\\\\n15℃\\\\n2m\\\\n19\\\\n0\\\\n14℃\\\\n2m\\\\n20\\\\n0\\\\n14℃\\\\n2m\\\\n21\\\\n0\\\\n14℃\\\\n2m\\\\n22\\\\n0\\\\n13℃\\\\n1m\\\\n23\\\\n0\\\\n13℃\\\\n1m\\\\n15日(木)\\\\n0\\\\n0\\\\n12℃\\\\n1m\\\\n1\\\\n0\\\\n11℃\\\\n1m\\\\n2\\\\n0\\\\n10℃\\\\n1m\\\\n3\\\\n0\\\\n9℃\\\\n2m\\\\n4\\\\n0\\\\n8℃\\\\n2m\\\\n5\\\\n0\\\\n8℃\\\\n1m\\\\n6\\\\n0\\\\n8℃\\\\n1m\\\\n7\\\\n0\\\\n7℃\\\\n1m\\\\n8\\\\n0\\\\n10℃\\\\n1m\\\\n9\\\\n0\\\\n12℃\\\\n2m\\\\n10\\\\n0\\\\n15℃\\\\n3m\\\\n11\\\\n0\\\\n17℃\\\\n4m\\\\n12\\\\n0\\\\n18℃\\\\n5m\\\\n13\\\\n0\\\\n19℃\\\\n6m\\\\n14\\\\n0\\\\n19℃\\\\n7m\\\\n15\\\\n0\\\\n18℃\\\\n8m\\\\n16\\\\n0\\\\n18℃\\\\n8m\\\\n17\\\\n0\\\\n16℃\\\\n8m\\\\n18\\\\n0\\\\n16℃\\\\n8m\\\\n19\\\\n0\\\\n16℃\\\\n7m\\\\n20\\\\n0\\\\n16℃\\\\n7m\\\\n21\\\\n0\\\\n16℃\\\\n7m\\\\n22\\\\n1ミリ\\\\n16℃\\\\n7m\\\\n23\\\\n1ミリ\\\\n16℃\\\\n7m\\\\n16日(金)\\\\n0\\\\n0\\\\n16℃\\\\n7m\\\\n1\\\\n0\\\\n16℃\\\\n6m\\\\n2\\\\n0\\\\n16℃\\\\n3m\\\\n3\\\\n0\\\\n12℃\\\\n3m\\\\n4\\\\n0\\\\n10℃\\\\n5m\\\\n5\\\\n0\\\\n9℃\\\\n6m\\\\n6\\\\n0\\\\n8℃\\\\n7m\\\\n7\\\\n0\\\\n8℃\\\\n8m\\\\n8\\\\n0\\\\n8℃\\\\n7m\\\\n9\\\\n0\\\\n8℃\\\\n6m\\\\n10\\\\n0\\\\n9℃\\\\n5m\\\\n11\\\\n0\\\\n10℃\\\\n4m\\\\n12\\\\n0\\\\n11℃\\\\n3m\\\\n13\\\\n0\\\\n11℃\\\\n3m\\\\n14\\\\n0\\\\n12℃\\\\n2m\\\\n15\\\\n0\\\\n11℃\\\\n2m\\\\n16\\\\n0\\\\n11℃\\\\n2m\\\\n17\\\\n0\\\\n10℃\\\\n3m\\\\n18\\\\n0\\\\n9℃\\\\n3m\\\\n19\\\\n0\\\\n8℃\\\\n3m\\\\n20\\\\n0\\\\n8℃\\\\n3m\\\\n21\\\\n0\\\\n7℃\\\\n2m\\\\n22\\\\n0\\\\n7℃\\\\n2m\\\\n23\\\\n0\\\\n6℃\\\\n2m\\\\n17日(土)\\\\n0\\\\n0\\\\n6℃\\\\n2m\\\\n1\\\\n0\\\\n6℃\\\\n2m\\\\n2\\\\n0\\\\n5℃\\\\n2m\\\\n3\\\\n0\\\\n5℃\\\\n2m\\\\n4\\\\n0\\\\n4℃\\\\n2m\\\\n5\\\\n0\\\\n4℃\\\\n2m\\\\n6\\\\n0\\\\n4℃\\\\n2m\\\\n7\\\\n0\\\\n4℃\\\\n2m\\\\n8\\\\n0\\\\n5℃\\\\n2m\\\\n9\\\\n0\\\\n6℃\\\\n2m\\\\n10\\\\n0\\\\n7℃\\\\n2m\\\\nチョコっと季節先取りで暖かい\\\\n今日の昼間は晴れて、気持ちの良い空。季節先取りの暖かさで、チョコも溶けやすくなりそうです。朝晩との寒暖差が大きいため服装選びに要注意。花粉も心配です。\\\\n週間(10日間)\\\\n日\\\\n天気\\\\n最高\\\\n最低\\\\n降水\\\\n15(木)\\\\n19℃\\\\n7℃\\\\n20%\\\\n16(金)\\\\n16℃\\\\n6℃\\\\n20%\\\\n17(土)\\\\n13℃\\\\n3℃\\\\n20%\\\\n18(日)\\\\n17℃\\\\n6℃\\\\n20%\\\\n19(月)\\\\n19℃\\\\n8℃\\\\n30%\\\\n20(火)\\\\n21℃\\\\n12℃\\\\n40%\\\\n21(水)\\\\n19℃\\\\n13℃\\\\n60%\\\\n22(木)\\\\n13℃\\\\n4℃\\\\n60%\\\\n23(金)\\\\n8℃\\\\n2℃\\\\n40%\\\\n24(土)\\\\n9℃\\\\n2℃\\\\n40%\\\\n季節先取りの暖かさ\\\\u3000花粉対策を\\\\n日差しの届く日が多くなります。気温はアップダウンしつつも季節先取りの暖かさとなるため、昼間は厚着しすぎないように注意。花粉飛散の可能性もあるので対策を万全に。\\\\nお天気ニュース\\\\n2月14日(水)の洗濯天気予報\\\\u3000関東など晴天も花粉飛散に注意\\\\n2024.02.14 06:08\\\\n週間天気\\\\u3000明日と週明けは広範囲で雨\\\\u30004月並の暖かい日多く花粉飛散も\\\\n2024.02.14 05:28\\\\n今日も暖かさ続く 各地で4月並みの陽気\\\\u3000花粉飛散や融雪に注意\\\\n2024.02.14 08:02\\\\nお天気ニュースをもっと読む →\\\\nお天気ニュース\\\\n2月14日(水)の洗濯天気予報\\\\u3000関東など晴天も花粉飛散に注意\\\\n2024.02.14 06:08\\\\n週間天気\\\\u3000明日と週明けは広範囲で雨\\\\u30004月並の暖かい日多く花粉飛散も\\\\n2024.02.14 05:28\\\\n今日も暖かさ続く 各地で4月並みの陽気\\\\u3000花粉飛散や融雪に注意\\\\n2024.02.14 08:02\\\\nお天気ニュースをもっと読む →\\\\n東京都千代田区付近の天気\\\\n雨雲レーダー\\\\n地図を拡大\\\\n今の天気\\\\nグラフ\\\\n09:50\\\\n空の写真\\\\n空の写真をもっと見る\\\\nライブ動画番組\\\\n【ライブ放送中】最新地震・気象情報\\\\u3000ウェザーニュースLiVE\\\\n東京都千代田区付近の観測値\\\\n(℃)\\\\n(m/s)\\\\n(mm/h)\\\\n(分)\\\\n続きを見る\\\\n東京都の都市の天気予報\\\\n周辺の都道府県\\\\nお天気ニュース\\\\n今日のこよみ・今週のこよみ 2024年2月14日(水)\\\\n 2024.02.14 05:59\\\\nお天気ニュースをもっと読む →\\\\nいまおすすめのメニュー\\\\n雨雲レーダー\\\\n雨雲の動きと予想を確認\\\\nウェザーリポート\\\\n全国から届くお天気リポート\\\\n防災・減災メニュー\\\\n天気メニュー\\\\n自然・季節・レジャー情報\\\\n予報精度向上の取り組みについて\\\\n東京都千代田区付近の空の写真\\\\nウェザーニュース 2024.02.14 05:00\\\\nチョコレートは短期的には血圧上昇も…\\\\u3000抹茶や緑茶と一緒に食べよう\\\\n2024.02.14 04:58\\\\n今日14日(水)の天気予報\\\\u3000各地で春本番の暖かさ続く\\\\u3000天気は西から下り坂\\\\n2024.02.14 05:22\\\\nお天気キャスター解説\\\\u30002月14日(水)の天気\\\\n2024.02.14 05:49\\\\nひと目でわかる傘マップ\\\\u30002月14日(水)\\\\n\\')]\\n\"\"\"\\n\\n質問: 東京の今日の天気は？\\n', additional_kwargs={}, response_metadata={})]), 'input': {'question': '東京の今日の天気は？', 'context': [Document(metadata={'title': '東京（東京）の天気 - Yahoo!天気・災害', 'source': 'https://weather.yahoo.co.jp/weather/jp/13/4410.html', 'score': 0.8437023, 'images': []}, page_content='パーソナル天気 現在位置： 天気・災害トップ > 関東・信越 > 東京都 > 東京（東京） 今日明日の天気 2024年11月19日 4時00分発表 11月19日(火) 晴時々曇 13℃[-7] 8℃[-3] 時間  0-6 6-12    12-18   18-24 降水  0％  0％  0％  0％ 風： 北の風後北東の風２３区西部では北の風やや強く 波： 1.5メートル後0.5メートル 11月20日(水) 曇のち雨 12℃[-1] 7℃[-1] 時間  0-6 6-12    12-18   18-24 降水  0％  10％ 30％ 60％ 風： 北西の風後東の風 波： 0.5メートル 東京地方の警報・注意報 注意報 強風、波浪 週間天気 2024年11月19日 2時00分発表 日付 11月21日 (木) 11月22日 (金) 11月23日 (土) 11月24日 (日) 11月25日 (月) 11月26日 (火) 天気 雨のち晴   晴時々曇   晴時々曇   晴時々曇   晴時々曇   曇一時雨 気温（℃）   14 降水 確率（％）   60  0   0   0   10  50 2024年11月19日 4時00分 発表 (C) Mapbox (C) OpenStreetMap (C) LY Corporation Yahoo!地図ガイドライン (C) Mapbox (C) OpenStreetMap (C) LY Corporation Yahoo!地図ガイドライン 11/18(月)18時\\u3000師走の寒さ\\u3000今季一番低く\\u3000北日本中心に積雪増加も Copyright (C) 2024 Weather Map Co., Ltd. All Rights Reserved. © LY Corporation'), Document(metadata={'title': '東京都の天気 - 日本気象協会 tenki.jp', 'source': 'https://tenki.jp/forecast/3/16/', 'score': 0.7065353, 'images': []}, page_content='東京都の天気 - 日本気象協会 tenki.jp tenki.jpトップ｜ サイトマップ｜ ヘルプ tenki.jp 雨雲レーダー PM2.5分布予測 雷(予報) 雨雲レーダー(過去) 雷(実況) 気象予報士のポイント解説 雨雲レーダー PM2.5分布予測 19(火) 24(日) 25(月) 26(火) 19日04:00発表11月19日(火) 千代田区  12/7 20% 新宿区  12/7 20% 世田谷区  12/7 20% 三鷹市  12/6 20% 八王子市  13/5 20% 青梅市  13/5 20% 大島町  12/10 20% 八丈町  16/14 70% 小笠原村  24/24 50% 練馬区  12/6 20% 台東区  12/7 20% 品川区  12/8 20% 町田市  12/6 20% 立川市  12/6 20% 気象予報士のポイント解説(日直予報士) 19日 北海道や東北は積雪や路面凍結に注意 関東～九州は晴れても北風冷たい 11/19(火)05:45 19日は今季一番の冷え込み 東京や名古屋6℃前後 日中も師走並み 冬の便り続々か 11/18(月)18:05 秋田で初雪 明日19日朝にかけて北日本で雪強まる所も 積雪や路面の凍結に注意 11/18(月)17:36 雨雲 PM2.5 1位高尾山東京都 色づき始め 2位明治神宮外苑東京都 色づき始め 5位上野恩賜公園東京都 色づき始め tenki.jpの公式X（旧Twitter） 最新の気象・防災情報や、生活に役立つ情報を毎日リアルタイムに配信中！ 雨雲レーダー PM2.5 雷(予報) 雨雲レーダー(過去) 雷(実況) tenki.jp公式SNS tenki.jp公式アプリ tenki.jp tenki.jp 登山天気 tenki.jpトップ 雨雲レーダー PM2.5分布予測 雷(予報) 雨雲(過去) 雷(実況) 花粉飛散情報(1～5月頃) 桜開花情報(2～5月頃) GWの天気(4～5月頃) 梅雨入り・明け(5～7月頃) 熱中症情報(4～9月頃) 紅葉見頃情報(10～11月頃) ヒートショック(10～3月頃) スキー積雪情報(11～5月頃) 初日の出(12～1月頃) Copyright (C) 2024 日本気象協会 All Rights Reserved.'), Document(metadata={'title': '東京都千代田区の天気予報(1時間・今日明日・2週間) - ウェザーニュース', 'source': 'https://weathernews.jp/onebox/tenki/tokyo/13101/', 'score': 0.6675167, 'images': []}, page_content='{{item.cityname}}\\n天気予報を検索\\n天気\\n防災・減災\\n自然・季節・健康\\n便利なメニュー\\nほか全メニュー\\n1週間先までの花粉飛散予報\\n東京都千代田区の天気予報\\n5分ごと\\n1時間ごと\\n今日明日\\n週間天気\\n日\\n天気\\n気温\\n降水\\n確率\\n今日\\n2月14日 (水)\\n最高18℃\\n最低5℃\\n午前10%\\n午後20%\\n明日\\n2月15日 (木)\\n最高19℃\\n最低7℃\\n午前10%\\n午後20%\\nチョコっと季節先取りで暖かい\\n今日の昼間は晴れて、気持ちの良い空。季節先取りの暖かさで、チョコも溶けやすくなりそうです。朝晩との寒暖差が大きいため服装選びに要注意。花粉も心配です。\\n5分ごと\\n1時間ごと\\n時\\n分\\n天気\\n10時\\n10\\n影はっきり\\n・\\n影はっきり\\n20\\n影はっきり\\n・\\n影はっきり\\n30\\n影はっきり\\n・\\n影はっきり\\n40\\n影はっきり\\n・\\n影はっきり\\n50\\n影はっきり\\n・\\n影はっきり\\n11時\\n00\\n影はっきり\\n・\\n影はっきり\\n日\\n時\\n天気\\n降水\\n気温\\n風\\n14日(水)\\n11\\n0\\n13℃\\n0m\\n12\\n0\\n15℃\\n1m\\n13\\n0\\n16℃\\n2m\\n14\\n0\\n18℃\\n3m\\n15\\n0\\n18℃\\n3m\\n16\\n0\\n17℃\\n3m\\n17\\n0\\n15℃\\n2m\\n18\\n0\\n15℃\\n2m\\n19\\n0\\n14℃\\n2m\\n20\\n0\\n14℃\\n2m\\n21\\n0\\n14℃\\n2m\\n22\\n0\\n13℃\\n1m\\n23\\n0\\n13℃\\n1m\\n15日(木)\\n0\\n0\\n12℃\\n1m\\n1\\n0\\n11℃\\n1m\\n2\\n0\\n10℃\\n1m\\n3\\n0\\n9℃\\n2m\\n4\\n0\\n8℃\\n2m\\n5\\n0\\n8℃\\n1m\\n6\\n0\\n8℃\\n1m\\n7\\n0\\n7℃\\n1m\\n8\\n0\\n10℃\\n1m\\n9\\n0\\n12℃\\n2m\\n10\\n0\\n15℃\\n3m\\n11\\n0\\n17℃\\n4m\\n12\\n0\\n18℃\\n5m\\n13\\n0\\n19℃\\n6m\\n14\\n0\\n19℃\\n7m\\n15\\n0\\n18℃\\n8m\\n16\\n0\\n18℃\\n8m\\n17\\n0\\n16℃\\n8m\\n18\\n0\\n16℃\\n8m\\n19\\n0\\n16℃\\n7m\\n20\\n0\\n16℃\\n7m\\n21\\n0\\n16℃\\n7m\\n22\\n1ミリ\\n16℃\\n7m\\n23\\n1ミリ\\n16℃\\n7m\\n16日(金)\\n0\\n0\\n16℃\\n7m\\n1\\n0\\n16℃\\n6m\\n2\\n0\\n16℃\\n3m\\n3\\n0\\n12℃\\n3m\\n4\\n0\\n10℃\\n5m\\n5\\n0\\n9℃\\n6m\\n6\\n0\\n8℃\\n7m\\n7\\n0\\n8℃\\n8m\\n8\\n0\\n8℃\\n7m\\n9\\n0\\n8℃\\n6m\\n10\\n0\\n9℃\\n5m\\n11\\n0\\n10℃\\n4m\\n12\\n0\\n11℃\\n3m\\n13\\n0\\n11℃\\n3m\\n14\\n0\\n12℃\\n2m\\n15\\n0\\n11℃\\n2m\\n16\\n0\\n11℃\\n2m\\n17\\n0\\n10℃\\n3m\\n18\\n0\\n9℃\\n3m\\n19\\n0\\n8℃\\n3m\\n20\\n0\\n8℃\\n3m\\n21\\n0\\n7℃\\n2m\\n22\\n0\\n7℃\\n2m\\n23\\n0\\n6℃\\n2m\\n17日(土)\\n0\\n0\\n6℃\\n2m\\n1\\n0\\n6℃\\n2m\\n2\\n0\\n5℃\\n2m\\n3\\n0\\n5℃\\n2m\\n4\\n0\\n4℃\\n2m\\n5\\n0\\n4℃\\n2m\\n6\\n0\\n4℃\\n2m\\n7\\n0\\n4℃\\n2m\\n8\\n0\\n5℃\\n2m\\n9\\n0\\n6℃\\n2m\\n10\\n0\\n7℃\\n2m\\nチョコっと季節先取りで暖かい\\n今日の昼間は晴れて、気持ちの良い空。季節先取りの暖かさで、チョコも溶けやすくなりそうです。朝晩との寒暖差が大きいため服装選びに要注意。花粉も心配です。\\n週間(10日間)\\n日\\n天気\\n最高\\n最低\\n降水\\n15(木)\\n19℃\\n7℃\\n20%\\n16(金)\\n16℃\\n6℃\\n20%\\n17(土)\\n13℃\\n3℃\\n20%\\n18(日)\\n17℃\\n6℃\\n20%\\n19(月)\\n19℃\\n8℃\\n30%\\n20(火)\\n21℃\\n12℃\\n40%\\n21(水)\\n19℃\\n13℃\\n60%\\n22(木)\\n13℃\\n4℃\\n60%\\n23(金)\\n8℃\\n2℃\\n40%\\n24(土)\\n9℃\\n2℃\\n40%\\n季節先取りの暖かさ\\u3000花粉対策を\\n日差しの届く日が多くなります。気温はアップダウンしつつも季節先取りの暖かさとなるため、昼間は厚着しすぎないように注意。花粉飛散の可能性もあるので対策を万全に。\\nお天気ニュース\\n2月14日(水)の洗濯天気予報\\u3000関東など晴天も花粉飛散に注意\\n2024.02.14 06:08\\n週間天気\\u3000明日と週明けは広範囲で雨\\u30004月並の暖かい日多く花粉飛散も\\n2024.02.14 05:28\\n今日も暖かさ続く 各地で4月並みの陽気\\u3000花粉飛散や融雪に注意\\n2024.02.14 08:02\\nお天気ニュースをもっと読む →\\nお天気ニュース\\n2月14日(水)の洗濯天気予報\\u3000関東など晴天も花粉飛散に注意\\n2024.02.14 06:08\\n週間天気\\u3000明日と週明けは広範囲で雨\\u30004月並の暖かい日多く花粉飛散も\\n2024.02.14 05:28\\n今日も暖かさ続く 各地で4月並みの陽気\\u3000花粉飛散や融雪に注意\\n2024.02.14 08:02\\nお天気ニュースをもっと読む →\\n東京都千代田区付近の天気\\n雨雲レーダー\\n地図を拡大\\n今の天気\\nグラフ\\n09:50\\n空の写真\\n空の写真をもっと見る\\nライブ動画番組\\n【ライブ放送中】最新地震・気象情報\\u3000ウェザーニュースLiVE\\n東京都千代田区付近の観測値\\n(℃)\\n(m/s)\\n(mm/h)\\n(分)\\n続きを見る\\n東京都の都市の天気予報\\n周辺の都道府県\\nお天気ニュース\\n今日のこよみ・今週のこよみ 2024年2月14日(水)\\n 2024.02.14 05:59\\nお天気ニュースをもっと読む →\\nいまおすすめのメニュー\\n雨雲レーダー\\n雨雲の動きと予想を確認\\nウェザーリポート\\n全国から届くお天気リポート\\n防災・減災メニュー\\n天気メニュー\\n自然・季節・レジャー情報\\n予報精度向上の取り組みについて\\n東京都千代田区付近の空の写真\\nウェザーニュース 2024.02.14 05:00\\nチョコレートは短期的には血圧上昇も…\\u3000抹茶や緑茶と一緒に食べよう\\n2024.02.14 04:58\\n今日14日(水)の天気予報\\u3000各地で春本番の暖かさ続く\\u3000天気は西から下り坂\\n2024.02.14 05:22\\nお天気キャスター解説\\u30002月14日(水)の天気\\n2024.02.14 05:49\\nひと目でわかる傘マップ\\u30002月14日(水)\\n')]}}, 'run_id': '69183d30-0788-473e-85d3-7d2aee5ce1a1', 'name': 'ChatPromptTemplate', 'tags': ['seq:step:2'], 'metadata': {}, 'parent_ids': ['b47496ae-2377-4c39-ad26-fc9a5ec03ff4']}\n",
            "{'event': 'on_chat_model_start', 'data': {'input': {'messages': [[HumanMessage(content='以下の文脈だけを踏まえて質問に回答してください。\\n\\n文脈: \"\"\"\\n[Document(metadata={\\'title\\': \\'東京（東京）の天気 - Yahoo!天気・災害\\', \\'source\\': \\'https://weather.yahoo.co.jp/weather/jp/13/4410.html\\', \\'score\\': 0.8437023, \\'images\\': []}, page_content=\\'パーソナル天気 現在位置： 天気・災害トップ > 関東・信越 > 東京都 > 東京（東京） 今日明日の天気 2024年11月19日 4時00分発表 11月19日(火) 晴時々曇 13℃[-7] 8℃[-3] 時間  0-6 6-12    12-18   18-24 降水  0％  0％  0％  0％ 風： 北の風後北東の風２３区西部では北の風やや強く 波： 1.5メートル後0.5メートル 11月20日(水) 曇のち雨 12℃[-1] 7℃[-1] 時間  0-6 6-12    12-18   18-24 降水  0％  10％ 30％ 60％ 風： 北西の風後東の風 波： 0.5メートル 東京地方の警報・注意報 注意報 強風、波浪 週間天気 2024年11月19日 2時00分発表 日付 11月21日 (木) 11月22日 (金) 11月23日 (土) 11月24日 (日) 11月25日 (月) 11月26日 (火) 天気 雨のち晴   晴時々曇   晴時々曇   晴時々曇   晴時々曇   曇一時雨 気温（℃）   14 降水 確率（％）   60  0   0   0   10  50 2024年11月19日 4時00分 発表 (C) Mapbox (C) OpenStreetMap (C) LY Corporation Yahoo!地図ガイドライン (C) Mapbox (C) OpenStreetMap (C) LY Corporation Yahoo!地図ガイドライン 11/18(月)18時\\\\u3000師走の寒さ\\\\u3000今季一番低く\\\\u3000北日本中心に積雪増加も Copyright (C) 2024 Weather Map Co., Ltd. All Rights Reserved. © LY Corporation\\'), Document(metadata={\\'title\\': \\'東京都の天気 - 日本気象協会 tenki.jp\\', \\'source\\': \\'https://tenki.jp/forecast/3/16/\\', \\'score\\': 0.7065353, \\'images\\': []}, page_content=\\'東京都の天気 - 日本気象協会 tenki.jp tenki.jpトップ｜ サイトマップ｜ ヘルプ tenki.jp 雨雲レーダー PM2.5分布予測 雷(予報) 雨雲レーダー(過去) 雷(実況) 気象予報士のポイント解説 雨雲レーダー PM2.5分布予測 19(火) 24(日) 25(月) 26(火) 19日04:00発表11月19日(火) 千代田区  12/7 20% 新宿区  12/7 20% 世田谷区  12/7 20% 三鷹市  12/6 20% 八王子市  13/5 20% 青梅市  13/5 20% 大島町  12/10 20% 八丈町  16/14 70% 小笠原村  24/24 50% 練馬区  12/6 20% 台東区  12/7 20% 品川区  12/8 20% 町田市  12/6 20% 立川市  12/6 20% 気象予報士のポイント解説(日直予報士) 19日 北海道や東北は積雪や路面凍結に注意 関東～九州は晴れても北風冷たい 11/19(火)05:45 19日は今季一番の冷え込み 東京や名古屋6℃前後 日中も師走並み 冬の便り続々か 11/18(月)18:05 秋田で初雪 明日19日朝にかけて北日本で雪強まる所も 積雪や路面の凍結に注意 11/18(月)17:36 雨雲 PM2.5 1位高尾山東京都 色づき始め 2位明治神宮外苑東京都 色づき始め 5位上野恩賜公園東京都 色づき始め tenki.jpの公式X（旧Twitter） 最新の気象・防災情報や、生活に役立つ情報を毎日リアルタイムに配信中！ 雨雲レーダー PM2.5 雷(予報) 雨雲レーダー(過去) 雷(実況) tenki.jp公式SNS tenki.jp公式アプリ tenki.jp tenki.jp 登山天気 tenki.jpトップ 雨雲レーダー PM2.5分布予測 雷(予報) 雨雲(過去) 雷(実況) 花粉飛散情報(1～5月頃) 桜開花情報(2～5月頃) GWの天気(4～5月頃) 梅雨入り・明け(5～7月頃) 熱中症情報(4～9月頃) 紅葉見頃情報(10～11月頃) ヒートショック(10～3月頃) スキー積雪情報(11～5月頃) 初日の出(12～1月頃) Copyright (C) 2024 日本気象協会 All Rights Reserved.\\'), Document(metadata={\\'title\\': \\'東京都千代田区の天気予報(1時間・今日明日・2週間) - ウェザーニュース\\', \\'source\\': \\'https://weathernews.jp/onebox/tenki/tokyo/13101/\\', \\'score\\': 0.6675167, \\'images\\': []}, page_content=\\'{{item.cityname}}\\\\n天気予報を検索\\\\n天気\\\\n防災・減災\\\\n自然・季節・健康\\\\n便利なメニュー\\\\nほか全メニュー\\\\n1週間先までの花粉飛散予報\\\\n東京都千代田区の天気予報\\\\n5分ごと\\\\n1時間ごと\\\\n今日明日\\\\n週間天気\\\\n日\\\\n天気\\\\n気温\\\\n降水\\\\n確率\\\\n今日\\\\n2月14日 (水)\\\\n最高18℃\\\\n最低5℃\\\\n午前10%\\\\n午後20%\\\\n明日\\\\n2月15日 (木)\\\\n最高19℃\\\\n最低7℃\\\\n午前10%\\\\n午後20%\\\\nチョコっと季節先取りで暖かい\\\\n今日の昼間は晴れて、気持ちの良い空。季節先取りの暖かさで、チョコも溶けやすくなりそうです。朝晩との寒暖差が大きいため服装選びに要注意。花粉も心配です。\\\\n5分ごと\\\\n1時間ごと\\\\n時\\\\n分\\\\n天気\\\\n10時\\\\n10\\\\n影はっきり\\\\n・\\\\n影はっきり\\\\n20\\\\n影はっきり\\\\n・\\\\n影はっきり\\\\n30\\\\n影はっきり\\\\n・\\\\n影はっきり\\\\n40\\\\n影はっきり\\\\n・\\\\n影はっきり\\\\n50\\\\n影はっきり\\\\n・\\\\n影はっきり\\\\n11時\\\\n00\\\\n影はっきり\\\\n・\\\\n影はっきり\\\\n日\\\\n時\\\\n天気\\\\n降水\\\\n気温\\\\n風\\\\n14日(水)\\\\n11\\\\n0\\\\n13℃\\\\n0m\\\\n12\\\\n0\\\\n15℃\\\\n1m\\\\n13\\\\n0\\\\n16℃\\\\n2m\\\\n14\\\\n0\\\\n18℃\\\\n3m\\\\n15\\\\n0\\\\n18℃\\\\n3m\\\\n16\\\\n0\\\\n17℃\\\\n3m\\\\n17\\\\n0\\\\n15℃\\\\n2m\\\\n18\\\\n0\\\\n15℃\\\\n2m\\\\n19\\\\n0\\\\n14℃\\\\n2m\\\\n20\\\\n0\\\\n14℃\\\\n2m\\\\n21\\\\n0\\\\n14℃\\\\n2m\\\\n22\\\\n0\\\\n13℃\\\\n1m\\\\n23\\\\n0\\\\n13℃\\\\n1m\\\\n15日(木)\\\\n0\\\\n0\\\\n12℃\\\\n1m\\\\n1\\\\n0\\\\n11℃\\\\n1m\\\\n2\\\\n0\\\\n10℃\\\\n1m\\\\n3\\\\n0\\\\n9℃\\\\n2m\\\\n4\\\\n0\\\\n8℃\\\\n2m\\\\n5\\\\n0\\\\n8℃\\\\n1m\\\\n6\\\\n0\\\\n8℃\\\\n1m\\\\n7\\\\n0\\\\n7℃\\\\n1m\\\\n8\\\\n0\\\\n10℃\\\\n1m\\\\n9\\\\n0\\\\n12℃\\\\n2m\\\\n10\\\\n0\\\\n15℃\\\\n3m\\\\n11\\\\n0\\\\n17℃\\\\n4m\\\\n12\\\\n0\\\\n18℃\\\\n5m\\\\n13\\\\n0\\\\n19℃\\\\n6m\\\\n14\\\\n0\\\\n19℃\\\\n7m\\\\n15\\\\n0\\\\n18℃\\\\n8m\\\\n16\\\\n0\\\\n18℃\\\\n8m\\\\n17\\\\n0\\\\n16℃\\\\n8m\\\\n18\\\\n0\\\\n16℃\\\\n8m\\\\n19\\\\n0\\\\n16℃\\\\n7m\\\\n20\\\\n0\\\\n16℃\\\\n7m\\\\n21\\\\n0\\\\n16℃\\\\n7m\\\\n22\\\\n1ミリ\\\\n16℃\\\\n7m\\\\n23\\\\n1ミリ\\\\n16℃\\\\n7m\\\\n16日(金)\\\\n0\\\\n0\\\\n16℃\\\\n7m\\\\n1\\\\n0\\\\n16℃\\\\n6m\\\\n2\\\\n0\\\\n16℃\\\\n3m\\\\n3\\\\n0\\\\n12℃\\\\n3m\\\\n4\\\\n0\\\\n10℃\\\\n5m\\\\n5\\\\n0\\\\n9℃\\\\n6m\\\\n6\\\\n0\\\\n8℃\\\\n7m\\\\n7\\\\n0\\\\n8℃\\\\n8m\\\\n8\\\\n0\\\\n8℃\\\\n7m\\\\n9\\\\n0\\\\n8℃\\\\n6m\\\\n10\\\\n0\\\\n9℃\\\\n5m\\\\n11\\\\n0\\\\n10℃\\\\n4m\\\\n12\\\\n0\\\\n11℃\\\\n3m\\\\n13\\\\n0\\\\n11℃\\\\n3m\\\\n14\\\\n0\\\\n12℃\\\\n2m\\\\n15\\\\n0\\\\n11℃\\\\n2m\\\\n16\\\\n0\\\\n11℃\\\\n2m\\\\n17\\\\n0\\\\n10℃\\\\n3m\\\\n18\\\\n0\\\\n9℃\\\\n3m\\\\n19\\\\n0\\\\n8℃\\\\n3m\\\\n20\\\\n0\\\\n8℃\\\\n3m\\\\n21\\\\n0\\\\n7℃\\\\n2m\\\\n22\\\\n0\\\\n7℃\\\\n2m\\\\n23\\\\n0\\\\n6℃\\\\n2m\\\\n17日(土)\\\\n0\\\\n0\\\\n6℃\\\\n2m\\\\n1\\\\n0\\\\n6℃\\\\n2m\\\\n2\\\\n0\\\\n5℃\\\\n2m\\\\n3\\\\n0\\\\n5℃\\\\n2m\\\\n4\\\\n0\\\\n4℃\\\\n2m\\\\n5\\\\n0\\\\n4℃\\\\n2m\\\\n6\\\\n0\\\\n4℃\\\\n2m\\\\n7\\\\n0\\\\n4℃\\\\n2m\\\\n8\\\\n0\\\\n5℃\\\\n2m\\\\n9\\\\n0\\\\n6℃\\\\n2m\\\\n10\\\\n0\\\\n7℃\\\\n2m\\\\nチョコっと季節先取りで暖かい\\\\n今日の昼間は晴れて、気持ちの良い空。季節先取りの暖かさで、チョコも溶けやすくなりそうです。朝晩との寒暖差が大きいため服装選びに要注意。花粉も心配です。\\\\n週間(10日間)\\\\n日\\\\n天気\\\\n最高\\\\n最低\\\\n降水\\\\n15(木)\\\\n19℃\\\\n7℃\\\\n20%\\\\n16(金)\\\\n16℃\\\\n6℃\\\\n20%\\\\n17(土)\\\\n13℃\\\\n3℃\\\\n20%\\\\n18(日)\\\\n17℃\\\\n6℃\\\\n20%\\\\n19(月)\\\\n19℃\\\\n8℃\\\\n30%\\\\n20(火)\\\\n21℃\\\\n12℃\\\\n40%\\\\n21(水)\\\\n19℃\\\\n13℃\\\\n60%\\\\n22(木)\\\\n13℃\\\\n4℃\\\\n60%\\\\n23(金)\\\\n8℃\\\\n2℃\\\\n40%\\\\n24(土)\\\\n9℃\\\\n2℃\\\\n40%\\\\n季節先取りの暖かさ\\\\u3000花粉対策を\\\\n日差しの届く日が多くなります。気温はアップダウンしつつも季節先取りの暖かさとなるため、昼間は厚着しすぎないように注意。花粉飛散の可能性もあるので対策を万全に。\\\\nお天気ニュース\\\\n2月14日(水)の洗濯天気予報\\\\u3000関東など晴天も花粉飛散に注意\\\\n2024.02.14 06:08\\\\n週間天気\\\\u3000明日と週明けは広範囲で雨\\\\u30004月並の暖かい日多く花粉飛散も\\\\n2024.02.14 05:28\\\\n今日も暖かさ続く 各地で4月並みの陽気\\\\u3000花粉飛散や融雪に注意\\\\n2024.02.14 08:02\\\\nお天気ニュースをもっと読む →\\\\nお天気ニュース\\\\n2月14日(水)の洗濯天気予報\\\\u3000関東など晴天も花粉飛散に注意\\\\n2024.02.14 06:08\\\\n週間天気\\\\u3000明日と週明けは広範囲で雨\\\\u30004月並の暖かい日多く花粉飛散も\\\\n2024.02.14 05:28\\\\n今日も暖かさ続く 各地で4月並みの陽気\\\\u3000花粉飛散や融雪に注意\\\\n2024.02.14 08:02\\\\nお天気ニュースをもっと読む →\\\\n東京都千代田区付近の天気\\\\n雨雲レーダー\\\\n地図を拡大\\\\n今の天気\\\\nグラフ\\\\n09:50\\\\n空の写真\\\\n空の写真をもっと見る\\\\nライブ動画番組\\\\n【ライブ放送中】最新地震・気象情報\\\\u3000ウェザーニュースLiVE\\\\n東京都千代田区付近の観測値\\\\n(℃)\\\\n(m/s)\\\\n(mm/h)\\\\n(分)\\\\n続きを見る\\\\n東京都の都市の天気予報\\\\n周辺の都道府県\\\\nお天気ニュース\\\\n今日のこよみ・今週のこよみ 2024年2月14日(水)\\\\n 2024.02.14 05:59\\\\nお天気ニュースをもっと読む →\\\\nいまおすすめのメニュー\\\\n雨雲レーダー\\\\n雨雲の動きと予想を確認\\\\nウェザーリポート\\\\n全国から届くお天気リポート\\\\n防災・減災メニュー\\\\n天気メニュー\\\\n自然・季節・レジャー情報\\\\n予報精度向上の取り組みについて\\\\n東京都千代田区付近の空の写真\\\\nウェザーニュース 2024.02.14 05:00\\\\nチョコレートは短期的には血圧上昇も…\\\\u3000抹茶や緑茶と一緒に食べよう\\\\n2024.02.14 04:58\\\\n今日14日(水)の天気予報\\\\u3000各地で春本番の暖かさ続く\\\\u3000天気は西から下り坂\\\\n2024.02.14 05:22\\\\nお天気キャスター解説\\\\u30002月14日(水)の天気\\\\n2024.02.14 05:49\\\\nひと目でわかる傘マップ\\\\u30002月14日(水)\\\\n\\')]\\n\"\"\"\\n\\n質問: 東京の今日の天気は？\\n', additional_kwargs={}, response_metadata={})]]}}, 'name': 'ChatGoogleGenerativeAI', 'tags': ['seq:step:3'], 'run_id': 'b12a70c6-24da-4c01-a270-f2ff87a0bba4', 'metadata': {'ls_provider': 'google_genai', 'ls_model_name': 'models/gemini-1.5-flash', 'ls_model_type': 'chat', 'ls_temperature': 0.0}, 'parent_ids': ['b47496ae-2377-4c39-ad26-fc9a5ec03ff4']}\n",
            "{'event': 'on_chat_model_stream', 'data': {'chunk': AIMessageChunk(content='Yahoo', additional_kwargs={}, response_metadata={'safety_ratings': []}, id='run-b12a70c6-24da-4c01-a270-f2ff87a0bba4', usage_metadata={'input_tokens': 4019, 'output_tokens': 0, 'total_tokens': 4019})}, 'run_id': 'b12a70c6-24da-4c01-a270-f2ff87a0bba4', 'name': 'ChatGoogleGenerativeAI', 'tags': ['seq:step:3'], 'metadata': {'ls_provider': 'google_genai', 'ls_model_name': 'models/gemini-1.5-flash', 'ls_model_type': 'chat', 'ls_temperature': 0.0}, 'parent_ids': ['b47496ae-2377-4c39-ad26-fc9a5ec03ff4']}\n",
            "{'event': 'on_parser_start', 'data': {}, 'name': 'StrOutputParser', 'tags': ['seq:step:4'], 'run_id': 'd38ffa4d-6e60-4f9b-a720-6f28f5f5cf3b', 'metadata': {}, 'parent_ids': ['b47496ae-2377-4c39-ad26-fc9a5ec03ff4']}\n",
            "{'event': 'on_parser_stream', 'run_id': 'd38ffa4d-6e60-4f9b-a720-6f28f5f5cf3b', 'name': 'StrOutputParser', 'tags': ['seq:step:4'], 'metadata': {}, 'data': {'chunk': 'Yahoo'}, 'parent_ids': ['b47496ae-2377-4c39-ad26-fc9a5ec03ff4']}\n",
            "{'event': 'on_chain_stream', 'run_id': 'b47496ae-2377-4c39-ad26-fc9a5ec03ff4', 'name': 'RunnableSequence', 'tags': [], 'metadata': {}, 'data': {'chunk': 'Yahoo'}, 'parent_ids': []}\n",
            "{'event': 'on_chat_model_stream', 'data': {'chunk': AIMessageChunk(content='!天気・災害によると、東京（東京）の11月19', additional_kwargs={}, response_metadata={'safety_ratings': []}, id='run-b12a70c6-24da-4c01-a270-f2ff87a0bba4', usage_metadata={'input_tokens': 4019, 'output_tokens': 0, 'total_tokens': 4019})}, 'run_id': 'b12a70c6-24da-4c01-a270-f2ff87a0bba4', 'name': 'ChatGoogleGenerativeAI', 'tags': ['seq:step:3'], 'metadata': {'ls_provider': 'google_genai', 'ls_model_name': 'models/gemini-1.5-flash', 'ls_model_type': 'chat', 'ls_temperature': 0.0}, 'parent_ids': ['b47496ae-2377-4c39-ad26-fc9a5ec03ff4']}\n",
            "{'event': 'on_parser_stream', 'run_id': 'd38ffa4d-6e60-4f9b-a720-6f28f5f5cf3b', 'name': 'StrOutputParser', 'tags': ['seq:step:4'], 'metadata': {}, 'data': {'chunk': '!天気・災害によると、東京（東京）の11月19'}, 'parent_ids': ['b47496ae-2377-4c39-ad26-fc9a5ec03ff4']}\n",
            "{'event': 'on_chain_stream', 'run_id': 'b47496ae-2377-4c39-ad26-fc9a5ec03ff4', 'name': 'RunnableSequence', 'tags': [], 'metadata': {}, 'data': {'chunk': '!天気・災害によると、東京（東京）の11月19'}, 'parent_ids': []}\n",
            "{'event': 'on_chat_model_stream', 'data': {'chunk': AIMessageChunk(content='日(火)の天気は晴時々曇です。\\n', additional_kwargs={}, response_metadata={'finish_reason': 'STOP', 'safety_ratings': []}, id='run-b12a70c6-24da-4c01-a270-f2ff87a0bba4', usage_metadata={'input_tokens': 4019, 'output_tokens': 30, 'total_tokens': 4049})}, 'run_id': 'b12a70c6-24da-4c01-a270-f2ff87a0bba4', 'name': 'ChatGoogleGenerativeAI', 'tags': ['seq:step:3'], 'metadata': {'ls_provider': 'google_genai', 'ls_model_name': 'models/gemini-1.5-flash', 'ls_model_type': 'chat', 'ls_temperature': 0.0}, 'parent_ids': ['b47496ae-2377-4c39-ad26-fc9a5ec03ff4']}\n",
            "{'event': 'on_parser_stream', 'run_id': 'd38ffa4d-6e60-4f9b-a720-6f28f5f5cf3b', 'name': 'StrOutputParser', 'tags': ['seq:step:4'], 'metadata': {}, 'data': {'chunk': '日(火)の天気は晴時々曇です。\\n'}, 'parent_ids': ['b47496ae-2377-4c39-ad26-fc9a5ec03ff4']}\n",
            "{'event': 'on_chain_stream', 'run_id': 'b47496ae-2377-4c39-ad26-fc9a5ec03ff4', 'name': 'RunnableSequence', 'tags': [], 'metadata': {}, 'data': {'chunk': '日(火)の天気は晴時々曇です。\\n'}, 'parent_ids': []}\n",
            "{'event': 'on_chat_model_end', 'data': {'output': AIMessageChunk(content='Yahoo!天気・災害によると、東京（東京）の11月19日(火)の天気は晴時々曇です。\\n', additional_kwargs={}, response_metadata={'safety_ratings': [], 'finish_reason': 'STOP'}, id='run-b12a70c6-24da-4c01-a270-f2ff87a0bba4', usage_metadata={'input_tokens': 12057, 'output_tokens': 30, 'total_tokens': 12087}), 'input': {'messages': [[HumanMessage(content='以下の文脈だけを踏まえて質問に回答してください。\\n\\n文脈: \"\"\"\\n[Document(metadata={\\'title\\': \\'東京（東京）の天気 - Yahoo!天気・災害\\', \\'source\\': \\'https://weather.yahoo.co.jp/weather/jp/13/4410.html\\', \\'score\\': 0.8437023, \\'images\\': []}, page_content=\\'パーソナル天気 現在位置： 天気・災害トップ > 関東・信越 > 東京都 > 東京（東京） 今日明日の天気 2024年11月19日 4時00分発表 11月19日(火) 晴時々曇 13℃[-7] 8℃[-3] 時間  0-6 6-12    12-18   18-24 降水  0％  0％  0％  0％ 風： 北の風後北東の風２３区西部では北の風やや強く 波： 1.5メートル後0.5メートル 11月20日(水) 曇のち雨 12℃[-1] 7℃[-1] 時間  0-6 6-12    12-18   18-24 降水  0％  10％ 30％ 60％ 風： 北西の風後東の風 波： 0.5メートル 東京地方の警報・注意報 注意報 強風、波浪 週間天気 2024年11月19日 2時00分発表 日付 11月21日 (木) 11月22日 (金) 11月23日 (土) 11月24日 (日) 11月25日 (月) 11月26日 (火) 天気 雨のち晴   晴時々曇   晴時々曇   晴時々曇   晴時々曇   曇一時雨 気温（℃）   14 降水 確率（％）   60  0   0   0   10  50 2024年11月19日 4時00分 発表 (C) Mapbox (C) OpenStreetMap (C) LY Corporation Yahoo!地図ガイドライン (C) Mapbox (C) OpenStreetMap (C) LY Corporation Yahoo!地図ガイドライン 11/18(月)18時\\\\u3000師走の寒さ\\\\u3000今季一番低く\\\\u3000北日本中心に積雪増加も Copyright (C) 2024 Weather Map Co., Ltd. All Rights Reserved. © LY Corporation\\'), Document(metadata={\\'title\\': \\'東京都の天気 - 日本気象協会 tenki.jp\\', \\'source\\': \\'https://tenki.jp/forecast/3/16/\\', \\'score\\': 0.7065353, \\'images\\': []}, page_content=\\'東京都の天気 - 日本気象協会 tenki.jp tenki.jpトップ｜ サイトマップ｜ ヘルプ tenki.jp 雨雲レーダー PM2.5分布予測 雷(予報) 雨雲レーダー(過去) 雷(実況) 気象予報士のポイント解説 雨雲レーダー PM2.5分布予測 19(火) 24(日) 25(月) 26(火) 19日04:00発表11月19日(火) 千代田区  12/7 20% 新宿区  12/7 20% 世田谷区  12/7 20% 三鷹市  12/6 20% 八王子市  13/5 20% 青梅市  13/5 20% 大島町  12/10 20% 八丈町  16/14 70% 小笠原村  24/24 50% 練馬区  12/6 20% 台東区  12/7 20% 品川区  12/8 20% 町田市  12/6 20% 立川市  12/6 20% 気象予報士のポイント解説(日直予報士) 19日 北海道や東北は積雪や路面凍結に注意 関東～九州は晴れても北風冷たい 11/19(火)05:45 19日は今季一番の冷え込み 東京や名古屋6℃前後 日中も師走並み 冬の便り続々か 11/18(月)18:05 秋田で初雪 明日19日朝にかけて北日本で雪強まる所も 積雪や路面の凍結に注意 11/18(月)17:36 雨雲 PM2.5 1位高尾山東京都 色づき始め 2位明治神宮外苑東京都 色づき始め 5位上野恩賜公園東京都 色づき始め tenki.jpの公式X（旧Twitter） 最新の気象・防災情報や、生活に役立つ情報を毎日リアルタイムに配信中！ 雨雲レーダー PM2.5 雷(予報) 雨雲レーダー(過去) 雷(実況) tenki.jp公式SNS tenki.jp公式アプリ tenki.jp tenki.jp 登山天気 tenki.jpトップ 雨雲レーダー PM2.5分布予測 雷(予報) 雨雲(過去) 雷(実況) 花粉飛散情報(1～5月頃) 桜開花情報(2～5月頃) GWの天気(4～5月頃) 梅雨入り・明け(5～7月頃) 熱中症情報(4～9月頃) 紅葉見頃情報(10～11月頃) ヒートショック(10～3月頃) スキー積雪情報(11～5月頃) 初日の出(12～1月頃) Copyright (C) 2024 日本気象協会 All Rights Reserved.\\'), Document(metadata={\\'title\\': \\'東京都千代田区の天気予報(1時間・今日明日・2週間) - ウェザーニュース\\', \\'source\\': \\'https://weathernews.jp/onebox/tenki/tokyo/13101/\\', \\'score\\': 0.6675167, \\'images\\': []}, page_content=\\'{{item.cityname}}\\\\n天気予報を検索\\\\n天気\\\\n防災・減災\\\\n自然・季節・健康\\\\n便利なメニュー\\\\nほか全メニュー\\\\n1週間先までの花粉飛散予報\\\\n東京都千代田区の天気予報\\\\n5分ごと\\\\n1時間ごと\\\\n今日明日\\\\n週間天気\\\\n日\\\\n天気\\\\n気温\\\\n降水\\\\n確率\\\\n今日\\\\n2月14日 (水)\\\\n最高18℃\\\\n最低5℃\\\\n午前10%\\\\n午後20%\\\\n明日\\\\n2月15日 (木)\\\\n最高19℃\\\\n最低7℃\\\\n午前10%\\\\n午後20%\\\\nチョコっと季節先取りで暖かい\\\\n今日の昼間は晴れて、気持ちの良い空。季節先取りの暖かさで、チョコも溶けやすくなりそうです。朝晩との寒暖差が大きいため服装選びに要注意。花粉も心配です。\\\\n5分ごと\\\\n1時間ごと\\\\n時\\\\n分\\\\n天気\\\\n10時\\\\n10\\\\n影はっきり\\\\n・\\\\n影はっきり\\\\n20\\\\n影はっきり\\\\n・\\\\n影はっきり\\\\n30\\\\n影はっきり\\\\n・\\\\n影はっきり\\\\n40\\\\n影はっきり\\\\n・\\\\n影はっきり\\\\n50\\\\n影はっきり\\\\n・\\\\n影はっきり\\\\n11時\\\\n00\\\\n影はっきり\\\\n・\\\\n影はっきり\\\\n日\\\\n時\\\\n天気\\\\n降水\\\\n気温\\\\n風\\\\n14日(水)\\\\n11\\\\n0\\\\n13℃\\\\n0m\\\\n12\\\\n0\\\\n15℃\\\\n1m\\\\n13\\\\n0\\\\n16℃\\\\n2m\\\\n14\\\\n0\\\\n18℃\\\\n3m\\\\n15\\\\n0\\\\n18℃\\\\n3m\\\\n16\\\\n0\\\\n17℃\\\\n3m\\\\n17\\\\n0\\\\n15℃\\\\n2m\\\\n18\\\\n0\\\\n15℃\\\\n2m\\\\n19\\\\n0\\\\n14℃\\\\n2m\\\\n20\\\\n0\\\\n14℃\\\\n2m\\\\n21\\\\n0\\\\n14℃\\\\n2m\\\\n22\\\\n0\\\\n13℃\\\\n1m\\\\n23\\\\n0\\\\n13℃\\\\n1m\\\\n15日(木)\\\\n0\\\\n0\\\\n12℃\\\\n1m\\\\n1\\\\n0\\\\n11℃\\\\n1m\\\\n2\\\\n0\\\\n10℃\\\\n1m\\\\n3\\\\n0\\\\n9℃\\\\n2m\\\\n4\\\\n0\\\\n8℃\\\\n2m\\\\n5\\\\n0\\\\n8℃\\\\n1m\\\\n6\\\\n0\\\\n8℃\\\\n1m\\\\n7\\\\n0\\\\n7℃\\\\n1m\\\\n8\\\\n0\\\\n10℃\\\\n1m\\\\n9\\\\n0\\\\n12℃\\\\n2m\\\\n10\\\\n0\\\\n15℃\\\\n3m\\\\n11\\\\n0\\\\n17℃\\\\n4m\\\\n12\\\\n0\\\\n18℃\\\\n5m\\\\n13\\\\n0\\\\n19℃\\\\n6m\\\\n14\\\\n0\\\\n19℃\\\\n7m\\\\n15\\\\n0\\\\n18℃\\\\n8m\\\\n16\\\\n0\\\\n18℃\\\\n8m\\\\n17\\\\n0\\\\n16℃\\\\n8m\\\\n18\\\\n0\\\\n16℃\\\\n8m\\\\n19\\\\n0\\\\n16℃\\\\n7m\\\\n20\\\\n0\\\\n16℃\\\\n7m\\\\n21\\\\n0\\\\n16℃\\\\n7m\\\\n22\\\\n1ミリ\\\\n16℃\\\\n7m\\\\n23\\\\n1ミリ\\\\n16℃\\\\n7m\\\\n16日(金)\\\\n0\\\\n0\\\\n16℃\\\\n7m\\\\n1\\\\n0\\\\n16℃\\\\n6m\\\\n2\\\\n0\\\\n16℃\\\\n3m\\\\n3\\\\n0\\\\n12℃\\\\n3m\\\\n4\\\\n0\\\\n10℃\\\\n5m\\\\n5\\\\n0\\\\n9℃\\\\n6m\\\\n6\\\\n0\\\\n8℃\\\\n7m\\\\n7\\\\n0\\\\n8℃\\\\n8m\\\\n8\\\\n0\\\\n8℃\\\\n7m\\\\n9\\\\n0\\\\n8℃\\\\n6m\\\\n10\\\\n0\\\\n9℃\\\\n5m\\\\n11\\\\n0\\\\n10℃\\\\n4m\\\\n12\\\\n0\\\\n11℃\\\\n3m\\\\n13\\\\n0\\\\n11℃\\\\n3m\\\\n14\\\\n0\\\\n12℃\\\\n2m\\\\n15\\\\n0\\\\n11℃\\\\n2m\\\\n16\\\\n0\\\\n11℃\\\\n2m\\\\n17\\\\n0\\\\n10℃\\\\n3m\\\\n18\\\\n0\\\\n9℃\\\\n3m\\\\n19\\\\n0\\\\n8℃\\\\n3m\\\\n20\\\\n0\\\\n8℃\\\\n3m\\\\n21\\\\n0\\\\n7℃\\\\n2m\\\\n22\\\\n0\\\\n7℃\\\\n2m\\\\n23\\\\n0\\\\n6℃\\\\n2m\\\\n17日(土)\\\\n0\\\\n0\\\\n6℃\\\\n2m\\\\n1\\\\n0\\\\n6℃\\\\n2m\\\\n2\\\\n0\\\\n5℃\\\\n2m\\\\n3\\\\n0\\\\n5℃\\\\n2m\\\\n4\\\\n0\\\\n4℃\\\\n2m\\\\n5\\\\n0\\\\n4℃\\\\n2m\\\\n6\\\\n0\\\\n4℃\\\\n2m\\\\n7\\\\n0\\\\n4℃\\\\n2m\\\\n8\\\\n0\\\\n5℃\\\\n2m\\\\n9\\\\n0\\\\n6℃\\\\n2m\\\\n10\\\\n0\\\\n7℃\\\\n2m\\\\nチョコっと季節先取りで暖かい\\\\n今日の昼間は晴れて、気持ちの良い空。季節先取りの暖かさで、チョコも溶けやすくなりそうです。朝晩との寒暖差が大きいため服装選びに要注意。花粉も心配です。\\\\n週間(10日間)\\\\n日\\\\n天気\\\\n最高\\\\n最低\\\\n降水\\\\n15(木)\\\\n19℃\\\\n7℃\\\\n20%\\\\n16(金)\\\\n16℃\\\\n6℃\\\\n20%\\\\n17(土)\\\\n13℃\\\\n3℃\\\\n20%\\\\n18(日)\\\\n17℃\\\\n6℃\\\\n20%\\\\n19(月)\\\\n19℃\\\\n8℃\\\\n30%\\\\n20(火)\\\\n21℃\\\\n12℃\\\\n40%\\\\n21(水)\\\\n19℃\\\\n13℃\\\\n60%\\\\n22(木)\\\\n13℃\\\\n4℃\\\\n60%\\\\n23(金)\\\\n8℃\\\\n2℃\\\\n40%\\\\n24(土)\\\\n9℃\\\\n2℃\\\\n40%\\\\n季節先取りの暖かさ\\\\u3000花粉対策を\\\\n日差しの届く日が多くなります。気温はアップダウンしつつも季節先取りの暖かさとなるため、昼間は厚着しすぎないように注意。花粉飛散の可能性もあるので対策を万全に。\\\\nお天気ニュース\\\\n2月14日(水)の洗濯天気予報\\\\u3000関東など晴天も花粉飛散に注意\\\\n2024.02.14 06:08\\\\n週間天気\\\\u3000明日と週明けは広範囲で雨\\\\u30004月並の暖かい日多く花粉飛散も\\\\n2024.02.14 05:28\\\\n今日も暖かさ続く 各地で4月並みの陽気\\\\u3000花粉飛散や融雪に注意\\\\n2024.02.14 08:02\\\\nお天気ニュースをもっと読む →\\\\nお天気ニュース\\\\n2月14日(水)の洗濯天気予報\\\\u3000関東など晴天も花粉飛散に注意\\\\n2024.02.14 06:08\\\\n週間天気\\\\u3000明日と週明けは広範囲で雨\\\\u30004月並の暖かい日多く花粉飛散も\\\\n2024.02.14 05:28\\\\n今日も暖かさ続く 各地で4月並みの陽気\\\\u3000花粉飛散や融雪に注意\\\\n2024.02.14 08:02\\\\nお天気ニュースをもっと読む →\\\\n東京都千代田区付近の天気\\\\n雨雲レーダー\\\\n地図を拡大\\\\n今の天気\\\\nグラフ\\\\n09:50\\\\n空の写真\\\\n空の写真をもっと見る\\\\nライブ動画番組\\\\n【ライブ放送中】最新地震・気象情報\\\\u3000ウェザーニュースLiVE\\\\n東京都千代田区付近の観測値\\\\n(℃)\\\\n(m/s)\\\\n(mm/h)\\\\n(分)\\\\n続きを見る\\\\n東京都の都市の天気予報\\\\n周辺の都道府県\\\\nお天気ニュース\\\\n今日のこよみ・今週のこよみ 2024年2月14日(水)\\\\n 2024.02.14 05:59\\\\nお天気ニュースをもっと読む →\\\\nいまおすすめのメニュー\\\\n雨雲レーダー\\\\n雨雲の動きと予想を確認\\\\nウェザーリポート\\\\n全国から届くお天気リポート\\\\n防災・減災メニュー\\\\n天気メニュー\\\\n自然・季節・レジャー情報\\\\n予報精度向上の取り組みについて\\\\n東京都千代田区付近の空の写真\\\\nウェザーニュース 2024.02.14 05:00\\\\nチョコレートは短期的には血圧上昇も…\\\\u3000抹茶や緑茶と一緒に食べよう\\\\n2024.02.14 04:58\\\\n今日14日(水)の天気予報\\\\u3000各地で春本番の暖かさ続く\\\\u3000天気は西から下り坂\\\\n2024.02.14 05:22\\\\nお天気キャスター解説\\\\u30002月14日(水)の天気\\\\n2024.02.14 05:49\\\\nひと目でわかる傘マップ\\\\u30002月14日(水)\\\\n\\')]\\n\"\"\"\\n\\n質問: 東京の今日の天気は？\\n', additional_kwargs={}, response_metadata={})]]}}, 'run_id': 'b12a70c6-24da-4c01-a270-f2ff87a0bba4', 'name': 'ChatGoogleGenerativeAI', 'tags': ['seq:step:3'], 'metadata': {'ls_provider': 'google_genai', 'ls_model_name': 'models/gemini-1.5-flash', 'ls_model_type': 'chat', 'ls_temperature': 0.0}, 'parent_ids': ['b47496ae-2377-4c39-ad26-fc9a5ec03ff4']}\n",
            "{'event': 'on_parser_end', 'data': {'output': 'Yahoo!天気・災害によると、東京（東京）の11月19日(火)の天気は晴時々曇です。\\n', 'input': AIMessageChunk(content='Yahoo!天気・災害によると、東京（東京）の11月19日(火)の天気は晴時々曇です。\\n', additional_kwargs={}, response_metadata={'safety_ratings': [], 'finish_reason': 'STOP'}, id='run-b12a70c6-24da-4c01-a270-f2ff87a0bba4', usage_metadata={'input_tokens': 16076, 'output_tokens': 30, 'total_tokens': 16106})}, 'run_id': 'd38ffa4d-6e60-4f9b-a720-6f28f5f5cf3b', 'name': 'StrOutputParser', 'tags': ['seq:step:4'], 'metadata': {}, 'parent_ids': ['b47496ae-2377-4c39-ad26-fc9a5ec03ff4']}\n",
            "{'event': 'on_chain_end', 'data': {'output': 'Yahoo!天気・災害によると、東京（東京）の11月19日(火)の天気は晴時々曇です。\\n'}, 'run_id': 'b47496ae-2377-4c39-ad26-fc9a5ec03ff4', 'name': 'RunnableSequence', 'tags': [], 'metadata': {}, 'parent_ids': []}\n"
          ]
        }
      ],
      "source": [
        "chain = (\n",
        "    {\"context\": retriever, \"question\": RunnablePassthrough()}\n",
        "    | prompt\n",
        "    | model\n",
        "    | StrOutputParser()\n",
        ")\n",
        "\n",
        "async for event in chain.astream_events(\"東京の今日の天気は？\", version=\"v2\"):\n",
        "    print(event, flush=True)"
      ]
    },
    {
      "cell_type": "code",
      "execution_count": 50,
      "metadata": {
        "id": "Wq5SX7U2ARFQ",
        "outputId": "d503c828-8196-4e04-f5e6-7ce48c2b51fc",
        "colab": {
          "base_uri": "https://localhost:8080/"
        }
      },
      "outputs": [
        {
          "output_type": "stream",
          "name": "stdout",
          "text": [
            "=== 検索結果 ===\n",
            "page_content='パーソナル天気 現在位置： 天気・災害トップ > 関東・信越 > 東京都 > 東京（東京） 今日明日の天気 2024年11月19日 4時00分発表 11月19日(火) 晴時々曇 13℃[-7] 8℃[-3] 時間  0-6 6-12    12-18   18-24 降水  0％  0％  0％  0％ 風： 北の風後北東の風２３区西部では北の風やや強く 波： 1.5メートル後0.5メートル 11月20日(水) 曇のち雨 12℃[-1] 7℃[-1] 時間  0-6 6-12    12-18   18-24 降水  0％  10％ 30％ 60％ 風： 北西の風後東の風 波： 0.5メートル 東京地方の警報・注意報 注意報 強風、波浪 週間天気 2024年11月19日 2時00分発表 日付 11月21日 (木) 11月22日 (金) 11月23日 (土) 11月24日 (日) 11月25日 (月) 11月26日 (火) 天気 雨のち晴   晴時々曇   晴時々曇   晴時々曇   晴時々曇   曇一時雨 気温（℃）   14 降水 確率（％）   60  0   0   0   10  50 2024年11月19日 4時00分 発表 (C) Mapbox (C) OpenStreetMap (C) LY Corporation Yahoo!地図ガイドライン (C) Mapbox (C) OpenStreetMap (C) LY Corporation Yahoo!地図ガイドライン 11/18(月)18時　師走の寒さ　今季一番低く　北日本中心に積雪増加も Copyright (C) 2024 Weather Map Co., Ltd. All Rights Reserved. © LY Corporation' metadata={'title': '東京（東京）の天気 - Yahoo!天気・災害', 'source': 'https://weather.yahoo.co.jp/weather/jp/13/4410.html', 'score': 0.8437023, 'images': []}\n",
            "page_content='パーソナル天気 現在位置： 天気・災害トップ > 関東・信越 > 東京都 東京都の天気 11月19日 6時00分発表 19(火) 20(水) 21(木) 22(金) 23(土) 24(日) 25(月) 26(火) 関東・信越 東京 大島 八丈島 父島 都道府県概況 日本付近は冬型の気圧配置となっています。 東京地方は、曇りや晴れとなっています。 19日は、高気圧が日本海に移動し、冬型の気圧配置は次第に緩む見込みです。このため、晴れますが、朝晩は曇りとなるでしょう。 20日は、高気圧が日本の東へ移動し、湿った空気の影響を受ける見込みです。このため、曇りで、夜は雨となるでしょう。 【関東甲信地方】関東甲信地方は、晴れや曇りで、長野県や関東地方北部では、雪や雨の降っている所があります。 19日は、高気圧が日本海に移動し、冬型の気圧配置は次第に緩む見込みです。このため、晴れや曇りとなるでしょう。長野県や関東地方北部では、朝まで雪や雨の降る所がある見込みです。 20日は、高気圧が日本の東へ移動し、湿った空気の影響を受ける見込みです。このため、はじめ晴れる所もありますが、曇りで次第に雨となるでしょう。 関東地方と伊豆諸島の海上では、19日から20日にかけて、しけるでしょう。20日はうねりを伴う見込みです。船舶は高波に注意してください。 雨雲レーダー (C) Mapbox (C) OpenStreetMap (C) LY Corporation Yahoo!地図ガイドライン 天気図 気象衛星 東京都エリアの情報 防災情報 警報・注意報 台風 土砂災害マップ 洪水マップ 河川水位 火山 地震 津波 避難情報 避難場所マップ 停電情報 災害カレンダー 防災手帳 防災速報 天気ガイド 天気予報 気象衛星 天気図 アメダス 雨雲レーダー 雷レーダー 週間天気 長期予報 波予測 風予測 潮汐情報 世界の天気 雨雪レーダー 過去の天気（外部サイト） 再生する 11/18(月)18時　師走の寒さ　今季一番低く　北日本中心に積雪増加も レジャー施設 空港 ゴルフ場 釣り・潮汐情報 キャンプ場 マリン 野球場 テーマパーク 競馬場 サッカー場・競技場 プライバシーポリシー - プライバシーセンター - 利用規約 - ご意見・ご要望 - 広告掲載について - ヘルプ・お問い合わせ Copyright (C) 2024 Weather Map Co., Ltd. All Rights Reserved. © LY Corporation' metadata={'title': '東京都の天気 - Yahoo!天気・災害', 'source': 'https://weather.yahoo.co.jp/weather/jp/13/', 'score': 0.76888984, 'images': []}\n",
            "page_content='東京都の天気 - 日本気象協会 tenki.jp tenki.jpトップ｜ サイトマップ｜ ヘルプ tenki.jp 雨雲レーダー PM2.5分布予測 雷(予報) 雨雲レーダー(過去) 雷(実況) 気象予報士のポイント解説 雨雲レーダー PM2.5分布予測 19(火) 24(日) 25(月) 26(火) 19日04:00発表11月19日(火) 千代田区  12/7 20% 新宿区  12/7 20% 世田谷区  12/7 20% 三鷹市  12/6 20% 八王子市  13/5 20% 青梅市  13/5 20% 大島町  12/10 20% 八丈町  16/14 70% 小笠原村  24/24 50% 練馬区  12/6 20% 台東区  12/7 20% 品川区  12/8 20% 町田市  12/6 20% 立川市  12/6 20% 気象予報士のポイント解説(日直予報士) 19日 北海道や東北は積雪や路面凍結に注意 関東～九州は晴れても北風冷たい 11/19(火)05:45 19日は今季一番の冷え込み 東京や名古屋6℃前後 日中も師走並み 冬の便り続々か 11/18(月)18:05 秋田で初雪 明日19日朝にかけて北日本で雪強まる所も 積雪や路面の凍結に注意 11/18(月)17:36 雨雲 PM2.5 1位高尾山東京都 色づき始め 2位明治神宮外苑東京都 色づき始め 5位上野恩賜公園東京都 色づき始め tenki.jpの公式X（旧Twitter） 最新の気象・防災情報や、生活に役立つ情報を毎日リアルタイムに配信中！ 雨雲レーダー PM2.5 雷(予報) 雨雲レーダー(過去) 雷(実況) tenki.jp公式SNS tenki.jp公式アプリ tenki.jp tenki.jp 登山天気 tenki.jpトップ 雨雲レーダー PM2.5分布予測 雷(予報) 雨雲(過去) 雷(実況) 花粉飛散情報(1～5月頃) 桜開花情報(2～5月頃) GWの天気(4～5月頃) 梅雨入り・明け(5～7月頃) 熱中症情報(4～9月頃) 紅葉見頃情報(10～11月頃) ヒートショック(10～3月頃) スキー積雪情報(11～5月頃) 初日の出(12～1月頃) Copyright (C) 2024 日本気象協会 All Rights Reserved.' metadata={'title': '東京都の天気 - 日本気象協会 tenki.jp', 'source': 'https://tenki.jp/forecast/3/16/', 'score': 0.7062922, 'images': []}\n",
            "=== 最終出力 ===\n",
            "Yahoo!天気・災害の情報によると、東京（東京）の今日の天気（11月19日）は晴時々曇です。\n"
          ]
        }
      ],
      "source": [
        "async for event in chain.astream_events(\"東京の今日の天気は？\", version=\"v2\"):\n",
        "    event_kind = event[\"event\"]\n",
        "\n",
        "    if event_kind == \"on_retriever_end\":\n",
        "        print(\"=== 検索結果 ===\")\n",
        "        documents = event[\"data\"][\"output\"]\n",
        "        for document in documents:\n",
        "            print(document)\n",
        "\n",
        "    elif event_kind == \"on_parser_start\":\n",
        "        print(\"=== 最終出力 ===\")\n",
        "\n",
        "    elif event_kind == \"on_parser_stream\":\n",
        "        chunk = event[\"data\"][\"chunk\"]\n",
        "        print(chunk, end=\"\", flush=True)"
      ]
    },
    {
      "cell_type": "markdown",
      "metadata": {
        "id": "7pmum3mxARFQ"
      },
      "source": [
        "### （コラム）Chat history と Memory\n"
      ]
    },
    {
      "cell_type": "code",
      "execution_count": 51,
      "metadata": {
        "id": "fVQ-a4ljARFQ"
      },
      "outputs": [],
      "source": [
        "from langchain_core.output_parsers import StrOutputParser\n",
        "from langchain_core.prompts import ChatPromptTemplate, MessagesPlaceholder\n",
        "# from langchain_openai import ChatOpenAI\n",
        "from langchain_google_genai import ChatGoogleGenerativeAI\n",
        "\n",
        "# model = ChatOpenAI(model=\"gpt-4o-mini\", temperature=0)\n",
        "model = ChatGoogleGenerativeAI(model=\"gemini-1.5-flash\", temperature=0)\n",
        "\n",
        "prompt = ChatPromptTemplate.from_messages(\n",
        "    [\n",
        "        (\"system\", \"You are a helpful assistant.\"),\n",
        "        MessagesPlaceholder(\"chat_history\", optional=True),\n",
        "        (\"human\", \"{input}\"),\n",
        "    ]\n",
        ")\n",
        "\n",
        "chain = prompt | model | StrOutputParser()"
      ]
    },
    {
      "cell_type": "code",
      "execution_count": 52,
      "metadata": {
        "id": "jkbKQK_7ARFQ"
      },
      "outputs": [],
      "source": [
        "from langchain_community.chat_message_histories import SQLChatMessageHistory\n",
        "\n",
        "\n",
        "def respond(session_id: str, human_message: str) -> str:\n",
        "    chat_message_history = SQLChatMessageHistory(\n",
        "        session_id=session_id, connection=\"sqlite:///sqlite.db\"\n",
        "    )\n",
        "\n",
        "    ai_message = chain.invoke(\n",
        "        {\n",
        "            \"chat_history\": chat_message_history.get_messages(),\n",
        "            \"input\": human_message,\n",
        "        }\n",
        "    )\n",
        "\n",
        "    chat_message_history.add_user_message(human_message)\n",
        "    chat_message_history.add_ai_message(ai_message)\n",
        "\n",
        "    return ai_message"
      ]
    },
    {
      "cell_type": "code",
      "execution_count": 53,
      "metadata": {
        "id": "3hgEirefARFQ",
        "outputId": "72e80909-cbe5-4f52-96b8-5b16e586a99a",
        "colab": {
          "base_uri": "https://localhost:8080/"
        }
      },
      "outputs": [
        {
          "output_type": "stream",
          "name": "stdout",
          "text": [
            "こんにちは、ジョンさん！ よろしくお願いします！\n",
            "\n",
            "はい、あなたの名前はジョンさんだと伺いました。\n",
            "\n"
          ]
        }
      ],
      "source": [
        "from uuid import uuid4\n",
        "\n",
        "session_id = uuid4().hex\n",
        "\n",
        "output1 = respond(\n",
        "    session_id=session_id,\n",
        "    human_message=\"こんにちは！私はジョンと言います！\",\n",
        ")\n",
        "print(output1)\n",
        "\n",
        "output2 = respond(\n",
        "    session_id=session_id,\n",
        "    human_message=\"私の名前が分かりますか？\",\n",
        ")\n",
        "print(output2)"
      ]
    },
    {
      "cell_type": "code",
      "source": [],
      "metadata": {
        "id": "WhegpQxPHjR7"
      },
      "execution_count": null,
      "outputs": []
    }
  ],
  "metadata": {
    "kernelspec": {
      "display_name": ".venv",
      "language": "python",
      "name": "python3"
    },
    "language_info": {
      "codemirror_mode": {
        "name": "ipython",
        "version": 3
      },
      "file_extension": ".py",
      "mimetype": "text/x-python",
      "name": "python",
      "nbconvert_exporter": "python",
      "pygments_lexer": "ipython3",
      "version": "3.11.9"
    },
    "colab": {
      "provenance": []
    }
  },
  "nbformat": 4,
  "nbformat_minor": 0
}